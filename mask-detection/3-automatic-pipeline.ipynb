{
 "cells": [
  {
   "cell_type": "markdown",
   "metadata": {
    "pycharm": {
     "name": "#%% md\n"
    }
   },
   "source": [
    "# Mask Detection Demo - Automatic Pipeline (3 / 3)\n",
    "\n",
    "> - To build the automated pipeline, Kubeflow Pipeline must be deployed.\n",
    "\n",
    "The following example demonstrates how to package a project and how to run an automatic pipeline to train, evaluate, optimize and serve the mask detection model using our saved MLRun functions from the previous notebooks.\n",
    "\n",
    "1. [Set up the project](#section_1)\n",
    "2. [Write and save the workflow](#section_2)\n",
    "3. [Run the pipeline](#section_3)\n",
    "4. [Test the pipeline](#section_4)"
   ]
  },
  {
   "attachments": {
    "67a4b239-b608-45c5-adb5-9b8349d5ba7f.png": {
     "image/png": "[encoded data removed]"
    }
   },
   "cell_type": "markdown",
   "metadata": {
    "pycharm": {
     "name": "#%% md\n"
    }
   },
   "source": [
    "Our **pipeline topology** will be:\n",
    "\n",
    "![](attachment:67a4b239-b608-45c5-adb5-9b8349d5ba7f.png)\n"
   ]
  },
  {
   "cell_type": "markdown",
   "metadata": {
    "pycharm": {
     "name": "#%% md\n"
    }
   },
   "source": [
    "<a id=\"section_1\"></a>\n",
    "## 1. Set up the project\n",
    "\n",
    "MLRun Project is a container for all the associated code, functions, jobs/workflows and artifacts. Projects can be mapped to git repositories to enable versioning, collaboration, and CI/CD. Read more about [MLRun projects](https://docs.mlrun.org/en/latest/projects/overview.html).\n",
    "\n",
    "We will register the functions (code packages) and the workflow in the project and execute, projects can be saved/packaged into a git repository and loaded on another cluster or be executed as part of an automated CI/CD workflow. \n",
    "\n",
    "Create a project using `mlrun.get_or_create_project` (Make sure to load it in case it already exists):"
   ]
  },
  {
   "cell_type": "code",
   "execution_count": 1,
   "metadata": {
    "pycharm": {
     "name": "#%%\n"
    }
   },
   "outputs": [
    {
     "name": "stdout",
     "output_type": "stream",
     "text": [
      "> 2023-09-03 07:20:31,884 [info] Project loaded successfully: {'project_name': 'mask-detection'}\n"
     ]
    }
   ],
   "source": [
    "import mlrun\n",
    "import os\n",
    "\n",
    "# Set our project's name:\n",
    "project_name = \"mask-detection\"\n",
    "\n",
    "# Create the project:\n",
    "project = mlrun.get_or_create_project(name=project_name, context=\"./\", user_project=True)"
   ]
  },
  {
   "cell_type": "markdown",
   "metadata": {
    "pycharm": {
     "name": "#%% md\n"
    }
   },
   "source": [
    "Before we continue, **please select the desired framework** (comment and uncomment the below lines as needed):"
   ]
  },
  {
   "cell_type": "code",
   "execution_count": 2,
   "metadata": {
    "pycharm": {
     "name": "#%%\n"
    }
   },
   "outputs": [],
   "source": [
    "# framework = \"tf-keras\"\n",
    "framework = \"pytorch\""
   ]
  },
  {
   "cell_type": "markdown",
   "metadata": {
    "pycharm": {
     "name": "#%% md\n"
    }
   },
   "source": [
    "### 1.1. Register the training, evaluation and serving functions\n",
    "We'll use our training, evaluation and serving functions from the previous notebooks. To get them, we set them into the project using `project.set_function` and specify additional parameters such as the container image:"
   ]
  },
  {
   "cell_type": "code",
   "execution_count": 3,
   "metadata": {
    "pycharm": {
     "name": "#%%\n"
    }
   },
   "outputs": [
    {
     "data": {
      "text/plain": [
       "<mlrun.runtimes.serving.ServingRuntime at 0x7f1af7e2cf40>"
      ]
     },
     "execution_count": 3,
     "metadata": {},
     "output_type": "execute_result"
    }
   ],
   "source": [
    "# Get our train/evaluation function like in the first notebook:\n",
    "project.set_function(\n",
    "    os.path.join(framework, \"training-and-evaluation.py\"),\n",
    "    name=\"training-and-evaluation\",\n",
    "    kind=\"job\",\n",
    "    image=f'.mask-detection-{framework}',\n",
    ")\n",
    "    \n",
    "# Get our serving function like in the second notebook:\n",
    "project.set_function(\n",
    "    os.path.join(framework, \"serving.py\"),\n",
    "    name=\"serving\", \n",
    "    kind=\"serving\", \n",
    "    image=f'.mask-detection-{framework}',\n",
    ")\n"
   ]
  },
  {
   "cell_type": "markdown",
   "metadata": {
    "pycharm": {
     "name": "#%% md\n"
    }
   },
   "source": [
    "### 1.2. Import the open archive and ONNX functions\n",
    "\n",
    "We will import the following [MLRun Marketplace](https://www.mlrun.org/marketplace/) functions to our project:\n",
    "* `open_archive` - Download the images dataset as seen in the first notebook.\n",
    "* `onnx_utils` - ONNX integration in MLRun, some utils functions for the ONNX framework, optimizing and converting models from different framework to ONNX using MLRun.\n",
    "\n",
    "> **Notice** we are using the same `project.set_function` with the `hub://` prefix."
   ]
  },
  {
   "cell_type": "code",
   "execution_count": 4,
   "metadata": {},
   "outputs": [
    {
     "data": {
      "text/plain": [
       "<mlrun.runtimes.kubejob.KubejobRuntime at 0x7f1ba17cd640>"
      ]
     },
     "execution_count": 4,
     "metadata": {},
     "output_type": "execute_result"
    }
   ],
   "source": [
    "# Import the `open_archive` function to download the images:\n",
    "project.set_function(\"hub://open_archive\", name=\"open-archive\")\n",
    "\n",
    "\n",
    "# Import the `onnx_utils` function to optimize the model:\n",
    "project.set_function(\"hub://onnx_utils\", name=\"onnx-utils\")\n"
   ]
  },
  {
   "cell_type": "code",
   "execution_count": 5,
   "metadata": {},
   "outputs": [
    {
     "name": "stdout",
     "output_type": "stream",
     "text": [
      "function training-and-evaluation mounted\n",
      "function serving mounted\n",
      "function open-archive mounted\n",
      "function onnx-utils mounted\n"
     ]
    }
   ],
   "source": [
    "# help function for mounting functions according to environment\n",
    "def mount_functions(functions_list: list):\n",
    "    for function_name in functions_list:\n",
    "        function_object = project.get_function(function_name)\n",
    "        function_object.apply(mlrun.auto_mount()) \n",
    "        if os.getenv('V3IO_ACCESS_KEY','False')=='False':\n",
    "            function_object.spec.disable_auto_mount=False\n",
    "        project.set_function(function_object)\n",
    "        print(\"function {} mounted\".format(function_name))\n",
    "        \n",
    "project_functions = [\"training-and-evaluation\",\"serving\",\"open-archive\",\"onnx-utils\"]\n",
    "        \n",
    "mount_functions(project_functions)    "
   ]
  },
  {
   "cell_type": "markdown",
   "metadata": {
    "pycharm": {
     "name": "#%% md\n"
    }
   },
   "source": [
    "<a id=\"section_2\"></a>\n",
    "## 2. Write and save the workflow\n",
    "\n",
    "We will use 2 functions:\n",
    "* `mlrun.run_function` - Run a local or remote task as part of a local/kubeflow pipeline. Using this function to run our training and the rest of our functions will ensure that if the function is using output from another function, it will run only if the relying function is done.\n",
    "* `mlrun.deploy_function` - Deploy a real-time (nuclio-based) function. Our serving function will be deployed with this.\n",
    "\n",
    "All the functions above can receive a function object or just the function name (if it is set using `project.set_function` as we did above). We will access our project's functions as needed using the `project.get_function` method, which returns a function object by its name.\n",
    "\n",
    "> **Note** The serving graph will now serve an ONNX model (not a tf.keras model like before), so we will use `mlrun.frameworks.onnx.ONNXModelServer`."
   ]
  },
  {
   "cell_type": "code",
   "execution_count": 6,
   "metadata": {},
   "outputs": [
    {
     "name": "stdout",
     "output_type": "stream",
     "text": [
      "Overwriting workflow.py\n"
     ]
    }
   ],
   "source": [
    "%%writefile workflow.py\n",
    "import mlrun\n",
    "from kfp import dsl\n",
    "\n",
    "\n",
    "@dsl.pipeline(name=\"Mask Detection Pipeline\")\n",
    "def kfpipeline(\n",
    "    archive_url: str,\n",
    "    dataset_path: str,\n",
    "    epochs: int,\n",
    "    batch_size: int,\n",
    "    lr: float,\n",
    "    download_data_flag: int = 1\n",
    "):\n",
    "    # Get our project object:\n",
    "    project = mlrun.get_current_project()\n",
    "\n",
    "    ###########################################################\n",
    "    ###############    Download the dataset:    ###############\n",
    "    ###########################################################\n",
    "    # Download only if needed (meaning if 'download_data_flag' = 1):\n",
    "    with dsl.Condition(download_data_flag == 1) as download_data_condition:\n",
    "        # Run it using the 'open_archive' handler:\n",
    "        open_archive_run = mlrun.run_function(\n",
    "            function=\"open-archive\",\n",
    "            handler=\"open_archive\",\n",
    "            name=\"download_data\",\n",
    "            inputs={\"archive_url\": archive_url},\n",
    "            params={\"target_path\": dataset_path}\n",
    "        )\n",
    "\n",
    "    ####################################################\n",
    "    ###############    Train a model:    ###############\n",
    "    ####################################################    \n",
    "    # Run it using our 'train' handler:\n",
    "    training_run = mlrun.run_function(\n",
    "        function=\"training-and-evaluation\",\n",
    "        handler=\"train\",\n",
    "        name=\"training\",\n",
    "        params={\n",
    "            \"dataset_path\": dataset_path,\n",
    "            \"batch_size\": batch_size,\n",
    "            \"lr\": lr,\n",
    "            \"epochs\": epochs\n",
    "        },\n",
    "        outputs=[\"model\"]\n",
    "    ).after(download_data_condition)\n",
    "\n",
    "    ###################################################################\n",
    "    ###############    Convert to ONNX and optimize:    ###############\n",
    "    ###################################################################\n",
    "    # Run it using the 'to_onnx' handler:\n",
    "    to_onnx_run = mlrun.run_function(\n",
    "        function=\"onnx-utils\",\n",
    "        handler=\"to_onnx\",\n",
    "        name=\"optimizing\",\n",
    "        params={\n",
    "            \"model_path\": training_run.outputs['model'],\n",
    "            \"onnx_model_name\": 'onnx_mask_detector'\n",
    "        },\n",
    "        outputs=[\"model\"],\n",
    "    )\n",
    "\n",
    "    #########################################################\n",
    "    ###############    Evaluate the model:    ###############\n",
    "    #########################################################\n",
    "    # Run it using our 'evaluate' handler:\n",
    "    evaluation_run = mlrun.run_function(\n",
    "        function=\"training-and-evaluation\",\n",
    "        handler=\"evaluate\",\n",
    "        name=\"evaluating\",\n",
    "        params={\n",
    "            \"model_path\": training_run.outputs['model'],\n",
    "            \"dataset_path\": dataset_path,\n",
    "            \"batch_size\": batch_size\n",
    "        }\n",
    "    )\n",
    "\n",
    "    ################################################################################\n",
    "    ###############    Deploy the model as a serverless function:    ###############\n",
    "    ################################################################################\n",
    "    # Get the function:\n",
    "    serving_function = project.get_function(\"serving\")\n",
    "    # Increase the time limit as the image may take long time to be downloaded:\n",
    "    serving_function.spec.readiness_timeout = 60 * 20  # 20 minutes.\n",
    "    # Set the topology and get the graph object:\n",
    "    graph = serving_function.set_topology(\"flow\", engine=\"async\")\n",
    "    # Build the serving graph:\n",
    "    graph.to(handler=\"resize\", name=\"resize\")\\\n",
    "         .to(handler=\"preprocess\", name=\"preprocess\")\\\n",
    "         .to(class_name=\"mlrun.frameworks.onnx.ONNXModelServer\", name=\"onnx_mask_detector\", model_path=str(to_onnx_run.outputs[\"model\"]))\\\n",
    "         .to(handler=\"postprocess\", name=\"postprocess\").respond()\n",
    "    # Set the desired requirements:\n",
    "    serving_function.with_requirements(requirements=[\"onnxruntime~=1.14.0\", \"onnxoptimizer~=0.3.0\", \"protobuf<=3.20.1\"])\n",
    "    # Deploy the serving function:\n",
    "    mlrun.deploy_function(\"serving\")"
   ]
  },
  {
   "cell_type": "markdown",
   "metadata": {
    "pycharm": {
     "name": "#%% md\n"
    }
   },
   "source": [
    "Note that after running the cell above, the `workflow.py` file is created. Saving your workflow to file allows you to run the project from a different environment.\n",
    "\n",
    "In order to take this project with the functions we set and the workflow we saved over to a different environemnt, first set the workflow to the project. The workflow can be set using `project.set_workflow`. After setting it, we will save the project by calling `project.save`. When loaded, it can be run from another environment from both code and from cli. For more information regarding saving and loading a MLRun project, see the [documentation](https://docs.mlrun.org/en/latest/projects/overview.html)."
   ]
  },
  {
   "cell_type": "code",
   "execution_count": 7,
   "metadata": {
    "pycharm": {
     "name": "#%%\n"
    }
   },
   "outputs": [
    {
     "data": {
      "text/plain": [
       "<mlrun.projects.project.MlrunProject at 0x7f1b2e675e20>"
      ]
     },
     "execution_count": 7,
     "metadata": {},
     "output_type": "execute_result"
    }
   ],
   "source": [
    "# Register the workflow file:\n",
    "workflow_name = \"mask_detection_workflow\"\n",
    "project.set_workflow(workflow_name, \"workflow.py\")\n",
    "\n",
    "# Save the project:\n",
    "project.save()"
   ]
  },
  {
   "cell_type": "markdown",
   "metadata": {
    "pycharm": {
     "name": "#%% md\n"
    }
   },
   "source": [
    "<a id=\"section_3\"></a>\n",
    "## 3. Run the pipeline\n",
    "\n",
    "We can immediately run the project, or save it to a git repository and load/run it on another cluster or CI/CD workflow. In order to load the project from a git you should run the following command (read more about [projects and CI/CD](https://docs.mlrun.org/en/latest/projects/overview.html)):\n",
    "\n",
    "```python\n",
    "project = mlrun.load_project(context=\"./\", url=\"git://github.com/<org>/<project>.git\")\n",
    "```\n",
    "or use the CLI command:\n",
    "\n",
    "```bash\n",
    "mlrun project -u \"git://github.com/mlrun/project-demo.git\" ./\n",
    "```\n",
    "\n",
    "We will run the pipeline using `project.run` with the workflow name we used:"
   ]
  },
  {
   "cell_type": "code",
   "execution_count": null,
   "metadata": {
    "pycharm": {
     "name": "#%%\n"
    }
   },
   "outputs": [
    {
     "data": {
      "text/html": [
       "<div>Pipeline running (id=566a9000-7c81-4fa4-a49e-188b50cfa453), <a href=\"https://dashboard.default-tenant.app.dev6.lab.iguazeng.com/mlprojects/mask-detection-iguazio/jobs/monitor-workflows/workflow/566a9000-7c81-4fa4-a49e-188b50cfa453\" target=\"_blank\"><b>click here</b></a> to view the details in MLRun UI</div>"
      ],
      "text/plain": [
       "<IPython.core.display.HTML object>"
      ]
     },
     "metadata": {},
     "output_type": "display_data"
    },
    {
     "data": {
      "image/svg+xml": [
       "<?xml version=\"1.0\" encoding=\"UTF-8\" standalone=\"no\"?>\n",
       "<!DOCTYPE svg PUBLIC \"-//W3C//DTD SVG 1.1//EN\"\n",
       " \"http://www.w3.org/Graphics/SVG/1.1/DTD/svg11.dtd\">\n",
       "<!-- Generated by graphviz version 2.43.0 (0)\n",
       " -->\n",
       "<!-- Title: kfp Pages: 1 -->\n",
       "<svg width=\"184pt\" height=\"188pt\"\n",
       " viewBox=\"0.00 0.00 184.48 188.00\" xmlns=\"http://www.w3.org/2000/svg\" xmlns:xlink=\"http://www.w3.org/1999/xlink\">\n",
       "<g id=\"graph0\" class=\"graph\" transform=\"scale(1 1) rotate(0) translate(4 184)\">\n",
       "<title>kfp</title>\n",
       "<polygon fill=\"white\" stroke=\"transparent\" points=\"-4,4 -4,-184 180.48,-184 180.48,4 -4,4\"/>\n",
       "<!-- mask&#45;detection&#45;pipeline&#45;tkscr&#45;2642381862 -->\n",
       "<g id=\"node1\" class=\"node\">\n",
       "<title>mask&#45;detection&#45;pipeline&#45;tkscr&#45;2642381862</title>\n",
       "<ellipse fill=\"green\" stroke=\"black\" cx=\"88.24\" cy=\"-90\" rx=\"78.79\" ry=\"18\"/>\n",
       "<text text-anchor=\"middle\" x=\"88.24\" y=\"-86.3\" font-family=\"Times,serif\" font-size=\"14.00\">download&#45;data</text>\n",
       "</g>\n",
       "<!-- mask&#45;detection&#45;pipeline&#45;tkscr&#45;3415575322 -->\n",
       "<g id=\"node2\" class=\"node\">\n",
       "<title>mask&#45;detection&#45;pipeline&#45;tkscr&#45;3415575322</title>\n",
       "<ellipse fill=\"lightgrey\" stroke=\"black\" cx=\"88.24\" cy=\"-18\" rx=\"48.19\" ry=\"18\"/>\n",
       "<text text-anchor=\"middle\" x=\"88.24\" y=\"-14.3\" font-family=\"Times,serif\" font-size=\"14.00\">training</text>\n",
       "</g>\n",
       "<!-- mask&#45;detection&#45;pipeline&#45;tkscr&#45;2642381862&#45;&gt;mask&#45;detection&#45;pipeline&#45;tkscr&#45;3415575322 -->\n",
       "<g id=\"edge1\" class=\"edge\">\n",
       "<title>mask&#45;detection&#45;pipeline&#45;tkscr&#45;2642381862&#45;&gt;mask&#45;detection&#45;pipeline&#45;tkscr&#45;3415575322</title>\n",
       "<path fill=\"none\" stroke=\"black\" d=\"M88.24,-71.7C88.24,-63.98 88.24,-54.71 88.24,-46.11\"/>\n",
       "<polygon fill=\"black\" stroke=\"black\" points=\"91.74,-46.1 88.24,-36.1 84.74,-46.1 91.74,-46.1\"/>\n",
       "</g>\n",
       "<!-- mask&#45;detection&#45;pipeline&#45;tkscr&#45;84390999 -->\n",
       "<g id=\"node3\" class=\"node\">\n",
       "<title>mask&#45;detection&#45;pipeline&#45;tkscr&#45;84390999</title>\n",
       "<polygon fill=\"green\" stroke=\"black\" points=\"88.24,-180 -0.24,-162 88.24,-144 176.72,-162 88.24,-180\"/>\n",
       "<text text-anchor=\"middle\" x=\"88.24\" y=\"-158.3\" font-family=\"Times,serif\" font-size=\"14.00\">condition&#45;1</text>\n",
       "</g>\n",
       "<!-- mask&#45;detection&#45;pipeline&#45;tkscr&#45;84390999&#45;&gt;mask&#45;detection&#45;pipeline&#45;tkscr&#45;2642381862 -->\n",
       "<g id=\"edge2\" class=\"edge\">\n",
       "<title>mask&#45;detection&#45;pipeline&#45;tkscr&#45;84390999&#45;&gt;mask&#45;detection&#45;pipeline&#45;tkscr&#45;2642381862</title>\n",
       "<path fill=\"none\" stroke=\"black\" d=\"M88.24,-143.7C88.24,-135.98 88.24,-126.71 88.24,-118.11\"/>\n",
       "<polygon fill=\"black\" stroke=\"black\" points=\"91.74,-118.1 88.24,-108.1 84.74,-118.1 91.74,-118.1\"/>\n",
       "</g>\n",
       "</g>\n",
       "</svg>\n"
      ],
      "text/plain": [
       "<graphviz.graphs.Digraph at 0x7f1ba1706e50>"
      ]
     },
     "metadata": {},
     "output_type": "display_data"
    }
   ],
   "source": [
    "dataset_path = os.environ.get('PWD', None)+'/data/'\n",
    "\n",
    "project.run(\n",
    "    name=workflow_name,\n",
    "    arguments={\n",
    "        \"archive_url\": mlrun.get_sample_path(\"data/prajnasb-generated-mask-detection/prajnasb_generated_mask_detection.zip\"),\n",
    "        \"dataset_path\": dataset_path,\n",
    "        \"epochs\": 3,\n",
    "        \"batch_size\": 32, \n",
    "        \"lr\": 1e-3,\n",
    "        \"download_data_flag\": 1\n",
    "    },\n",
    "    watch=True\n",
    ")"
   ]
  },
  {
   "cell_type": "markdown",
   "metadata": {
    "pycharm": {
     "name": "#%% md\n"
    }
   },
   "source": [
    "<a id=\"section_4\"></a>\n",
    "## 4. Test the pipeline\n",
    "\n",
    "We will test it as seen in the previous notebook (with the `image_urls` list and `print_image_classification` function):"
   ]
  },
  {
   "cell_type": "code",
   "execution_count": null,
   "metadata": {
    "pycharm": {
     "name": "#%%\n"
    }
   },
   "outputs": [],
   "source": [
    "import requests\n",
    "from PIL import Image\n",
    "from io import BytesIO\n",
    "import matplotlib.pyplot as plt\n",
    "\n",
    "# The local mock server is searching to import the functions, so here we simply import them from the file:\n",
    "import sys\n",
    "sys.path.insert(0, os.path.abspath(f\"./{framework}\"))\n",
    "from serving import resize, preprocess, postprocess\n",
    "\n",
    "# Our predictions headers:\n",
    "classes = [\"with mask\", \"without mask\"]\n",
    "\n",
    "# The image urls to use in the tests, feel free to add your own images and test them out:\n",
    "image_urls = [\n",
    "    'https://s3.envato.com/files/321053037/323%202020_June_PORTO_446-Edit.jpg',  # With mask\n",
    "    'https://media.glamour.com/photos/5a425fd3b6bcee68da9f86f8/master/pass/best-face-oil.png'  # Without mask\n",
    "]\n",
    "\n",
    "def print_image_classification(image_url: str, prediction: dict):\n",
    "    # Draw Image:\n",
    "    response = requests.get(image_url)\n",
    "    plt.imshow(Image.open(BytesIO(response.content)))\n",
    "    \n",
    "    # Print the prediction:\n",
    "    print(f\"Classified: {classes[prediction['class']]}\\n\")\n",
    "    print(f\"With mask probability:    {prediction['with_mask']}\")\n",
    "    print(f\"Without mask probability: {prediction['without_mask']}\")"
   ]
  },
  {
   "cell_type": "code",
   "execution_count": null,
   "metadata": {
    "pycharm": {
     "name": "#%%\n"
    }
   },
   "outputs": [],
   "source": [
    "print_image_classification(\n",
    "    image_url=image_urls[0], \n",
    "    prediction=project.get_function(\"serving\").invoke(path='/predict', body={\"data_url\": [image_urls[0]]})\n",
    ")"
   ]
  },
  {
   "cell_type": "code",
   "execution_count": null,
   "metadata": {
    "pycharm": {
     "name": "#%%\n"
    }
   },
   "outputs": [],
   "source": [
    "print_image_classification(\n",
    "    image_url=image_urls[1], \n",
    "    prediction=project.get_function(\"serving\").invoke(path='/predict', body={\"data_url\": [image_urls[1]]})\n",
    ")"
   ]
  },
  {
   "cell_type": "code",
   "execution_count": null,
   "metadata": {
    "pycharm": {
     "name": "#%%\n"
    }
   },
   "outputs": [],
   "source": []
  }
 ],
 "metadata": {
  "kernelspec": {
   "display_name": "mlrun-base",
   "language": "python",
   "name": "conda-env-mlrun-base-py"
  },
  "language_info": {
   "codemirror_mode": {
    "name": "ipython",
    "version": 3
   },
   "file_extension": ".py",
   "mimetype": "text/x-python",
   "name": "python",
   "nbconvert_exporter": "python",
   "pygments_lexer": "ipython3",
   "version": "3.9.16"
  }
 },
 "nbformat": 4,
 "nbformat_minor": 4
}
