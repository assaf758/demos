{
 "cells": [
  {
   "cell_type": "markdown",
   "metadata": {},
   "source": [
    "# Model Deployment Pipeline"
   ]
  },
  {
   "cell_type": "markdown",
   "metadata": {},
   "source": [
    "<a id=\"model-deployment-with-streaming\"></a>\n",
    "\n",
    "\n",
    "Deploy a model with streaming information. The demo covers the use case of 1<sup>st</sup>-day churn.\n",
    "\n",
    "The importance of 1<sup>st</sup>-day churn prediction:\n",
    "- In some segments of the gaming industry, the average 1st day churn is as high as 70%.\n",
    "- Acquiring new customers is 5x&ndash;25x more expensive than retaining existing ones.\n",
    "- Reducing churn by just 5% can boost profitability by 75%.\n",
    "- Improving retention has a 2x&ndash;4x greater impact on growth than acquisition.\n",
    "- The probability of selling to an existing customer is 60%&ndash;70%, but only 5%&ndash;20% for a prospect.\n",
    "- Churn rate also informs metrics like customer lifetime value (LTV).\n",
    "\n",
    "This demo is comprised of several steps:\n",
    "\n",
    "![Model deployment Pipeline Real-time operational Pipeline](assets/model-deployment-pipeline.png)\n",
    "\n",
    "While this demo covers the use case of 1<sup>st</sup>-day churn, it is easy to replace the data, related features and training model and reuse the same workflow for different business cases."
   ]
  },
  {
   "cell_type": "markdown",
   "metadata": {},
   "source": [
    "These steps are covered by the following demo:\n",
    "\n",
    "- [**1. Data generator**](functions/data-generator.ipynb) — Generates events for the training and serving and Create an enrichment table (lookup values). \n",
    "- [**2. Event handler**](functions/event-handler.ipynb) - Receive data from the input. This is a common input stream for all the data. This way, one can easily replace the event source data (in this case we have a data generator) without affecting the rest of this flow. It also store all incoming data to parquet files.\n",
    "- [**3. Stream to features**](functions/stream-to-features.ipynb) - Enrich the stream using the enrichment table and Update aggregation features using the incoming event handler.\n",
    "- **4. Optional model training steps -**\n",
    " - [**4.1 Get Data Snapshot**](https://github.com/mlrun/functions/tree/master/describe) - Takes a snapshot of the feature table for training.\n",
    "  - [**4.2 Describe the Dataset**](functions/get-data-snapshot.ipynb) - Runs common analysis on the datasets and produces plots suche as histogram, feature importance, corollation and more.\n",
    "  - [**4.3 Training**](https://github.com/mlrun/functions/tree/master/sklearn_classifier) - Runing training with multiple classification models.\n",
    "  - [**4.4 Testing**](https://github.com/mlrun/functions/tree/master/test_classifier) - Testing the best performing model.\n",
    "- [**5. Serving**](https://github.com/mlrun/functions/tree/master/model_server) - Serve the model and process the data from the enriched stream and aggregation features.\n",
    "- [**6. Inference logger**](functions/event-handler.ipynb) - We use the same event handler function from above but only its capability to store incoming data to parquet files.\n",
    "\n",
    "This demo comes with a pre-trained model using the base features, enrichment data and derived features, calculated using the same generated data. You can retrain the model or train a new model by running the  **optional model training steps**. You will need to ensure enough data is collected via the streams to the data storage in order to train a new model.\n",
    "\n",
    "## About this demo\n",
    "\n",
    "### Input Data\n",
    "\n",
    "The data generator ([data-generator.ipynb](functions/-generator.ipynb)) creates the following events: `new_registration`, `new_purchases`, `new_bet` and `new_win` with the following data:\n",
    "\n",
    "| new_registration |   | new_purchases |   | new_bet    |   | new_win    |\n",
    "|------------------|---|---------------|---|------------|---|------------|\n",
    "| user_id          |   | user_id       |   | user_id    |   | user_id    |\n",
    "| event_type       |   | event_type    |   | event_type |   | event_type |\n",
    "| event_time       |   | event_time    |   | event_time |   | event_time |\n",
    "| name             |   | amount        |   | bet_amount |   | win_amount |\n",
    "| date_of_birth    |   |               |   |            |   |            |\n",
    "| street_address   |   |               |   |            |   |            |\n",
    "| city             |   |               |   |            |   |            |\n",
    "| country          |   |               |   |            |   |            |\n",
    "| postcode         |   |               |   |            |   |            |\n",
    "| affiliate_url    |   |               |   |            |   |            |\n",
    "| campaign         |   |               |   |            |   |            |\n",
    "\n",
    "Furthermore, `new_registration` includes a `label` column to indicate whether or not the user has churned (1 for churned and 0 for not)\n",
    "\n",
    "## Enrichment\n",
    "\n",
    "The same data generator ([data-generator.ipynb](functions/-generator.ipynb)) also creates the enrichment table which contains a lookup of postcode and returns a socioeconomic index (`socioeconomic_idx`).\n",
    "\n",
    "## Feature calculation\n",
    "\n",
    "During the feature calculation ([stream-to-features.ipynb](functions/stream-to-features.ipynb)), enriches the events using the enrichment table and calculates sum, mean, count and variance for the 3 amount fields (`amount`, `bet_amount` and `win_amount` for `new_purchases`, `new_bet` and `new_win` respectively). This results with the following list of fields:\n",
    "\n",
    "- purchase_sum\n",
    "- purchase_mean\n",
    "- purchase_count\n",
    "- purchase_var\n",
    "- bet_sum\n",
    "- bet_mean\n",
    "- bet_count\n",
    "- bet_var\n",
    "- win_sum\n",
    "- win_mean\n",
    "- win_count\n",
    "- win_var"
   ]
  },
  {
   "cell_type": "markdown",
   "metadata": {},
   "source": [
    "## Configure"
   ]
  },
  {
   "cell_type": "markdown",
   "metadata": {},
   "source": [
    "The configuration below is shared across the notebooks. Change the values in this subsection if you would like different configuration settings."
   ]
  },
  {
   "cell_type": "markdown",
   "metadata": {},
   "source": [
    "### Project"
   ]
  },
  {
   "cell_type": "markdown",
   "metadata": {},
   "source": [
    "Projects in the platform are used to package multiple functions, workflows, and artifacts. Set here the project base name."
   ]
  },
  {
   "cell_type": "code",
   "execution_count": 1,
   "metadata": {},
   "outputs": [],
   "source": [
    "project_base_name = \"model-deployment-pipeline\""
   ]
  },
  {
   "cell_type": "markdown",
   "metadata": {},
   "source": [
    "### Optional Training"
   ]
  },
  {
   "cell_type": "code",
   "execution_count": 2,
   "metadata": {},
   "outputs": [],
   "source": [
    "run_training = True"
   ]
  },
  {
   "cell_type": "markdown",
   "metadata": {},
   "source": [
    "### Data"
   ]
  },
  {
   "cell_type": "markdown",
   "metadata": {},
   "source": [
    "All data in the platform is stored in user-defined data containers. This demo uses the predefined \"users\" container. For more information, see the platform's [data-containers](https://www.iguazio.com/docs/latest-release/data-layer/containers/) documentation."
   ]
  },
  {
   "cell_type": "code",
   "execution_count": 3,
   "metadata": {},
   "outputs": [],
   "source": [
    "container = 'users'"
   ]
  },
  {
   "cell_type": "markdown",
   "metadata": {},
   "source": [
    "Data path where to store stream data and kv tables:"
   ]
  },
  {
   "cell_type": "code",
   "execution_count": 4,
   "metadata": {},
   "outputs": [],
   "source": [
    "from os import getenv, path, getcwd\n",
    "\n",
    "v3io_username = getenv('V3IO_USERNAME')\n",
    "data_path = path.join(v3io_username, 'examples',project_base_name, 'data')"
   ]
  },
  {
   "cell_type": "markdown",
   "metadata": {},
   "source": [
    "Set up the different stream information"
   ]
  },
  {
   "cell_type": "code",
   "execution_count": 5,
   "metadata": {},
   "outputs": [],
   "source": [
    "from urllib.parse import urljoin\n",
    "web_api = \"http://v3io-webapi:8081\"\n",
    "web_api_users = urljoin(web_api, container)\n",
    "stream_configs = {'generated-stream': {\n",
    "                        'path': path.join(data_path, 'generated-stream'),\n",
    "                        'shard_count': 8},\n",
    "                  'incoming-events-stream': {\n",
    "                        'path': path.join(data_path, 'incoming-events-stream'),\n",
    "                        'shard_count': 8\n",
    "                  },\n",
    "                  'serving-stream': {\n",
    "                        'path': path.join(data_path, 'serving-stream'),\n",
    "                        'shard_count': 8\n",
    "                  },\n",
    "                  'inference-stream': {\n",
    "                        'path': path.join(data_path, 'inference-stream'),\n",
    "                        'shard_count': 8\n",
    "                  }\n",
    "                 }"
   ]
  },
  {
   "cell_type": "markdown",
   "metadata": {},
   "source": [
    "When we stream data, we associate the records with a specific partition key to ensure that similar records are assigned to the same shard. For more information, see the [stream sharding and partitioning description](https://www.iguazio.com/docs/latest-release/data-layer/stream/#stream-sharding-and-partitioning)."
   ]
  },
  {
   "cell_type": "code",
   "execution_count": 6,
   "metadata": {},
   "outputs": [],
   "source": [
    "partition_attr = \"user_id\""
   ]
  },
  {
   "cell_type": "markdown",
   "metadata": {},
   "source": [
    "Target path to store the raw data and the inference data as parquet files.\n",
    "The parquet files will be written via file mount, hence we configure the path to start with '/User' which will be mounted to our home dir."
   ]
  },
  {
   "cell_type": "code",
   "execution_count": 7,
   "metadata": {},
   "outputs": [],
   "source": [
    "raw_parquet_target_path = path.join(data_path.replace(v3io_username, '/User'),  'events-pq')\n",
    "inference_parquet_target_path = path.join(data_path.replace(v3io_username, '/User'),  'inference-pq')"
   ]
  },
  {
   "cell_type": "markdown",
   "metadata": {},
   "source": [
    "Target path to store the enrichment table (a key-value table)"
   ]
  },
  {
   "cell_type": "code",
   "execution_count": 8,
   "metadata": {},
   "outputs": [],
   "source": [
    "enrichment_table_path = path.join(data_path, 'enrichment-table')"
   ]
  },
  {
   "cell_type": "markdown",
   "metadata": {},
   "source": [
    "Target path to store the calculated features"
   ]
  },
  {
   "cell_type": "code",
   "execution_count": 9,
   "metadata": {},
   "outputs": [],
   "source": [
    "feature_table_path = path.join(data_path, 'feature-table')"
   ]
  },
  {
   "cell_type": "markdown",
   "metadata": {},
   "source": [
    "The list of features"
   ]
  },
  {
   "cell_type": "code",
   "execution_count": 10,
   "metadata": {},
   "outputs": [],
   "source": [
    "feature_list = ['socioeconomic_idx','purchase_sum','purchase_mean','purchase_count',\n",
    "                'purchase_var','bet_sum','bet_mean','bet_count',\n",
    "                'bet_var','win_sum','win_mean','win_count','win_var']"
   ]
  },
  {
   "cell_type": "markdown",
   "metadata": {},
   "source": [
    "## Create V3IO Client"
   ]
  },
  {
   "cell_type": "markdown",
   "metadata": {},
   "source": [
    "With the dataplane client you can manipulate data in the platform's multi-model data layer, including:\n",
    "* Objects\n",
    "* Key-values (NoSQL)\n",
    "* Streams\n",
    "* Containers\n",
    "\n",
    "Under the hood, the client connects through the platform's web API (https://www.iguazio.com/docs/latest-release/data-layer/reference/web-apis/) and wraps each low level API with an interface. Calls are blocking, but you can use the batching interface to send multiple requests in parallel for greater performance. "
   ]
  },
  {
   "cell_type": "code",
   "execution_count": 11,
   "metadata": {},
   "outputs": [],
   "source": [
    "import v3io.dataplane\n",
    "v3io_client = v3io.dataplane.Client(endpoint=web_api,\n",
    "                                    access_key=getenv('V3IO_ACCESS_KEY'))"
   ]
  },
  {
   "cell_type": "markdown",
   "metadata": {},
   "source": [
    "## Manage Streams"
   ]
  },
  {
   "cell_type": "markdown",
   "metadata": {},
   "source": [
    "#### Delete all streams"
   ]
  },
  {
   "cell_type": "markdown",
   "metadata": {},
   "source": [
    "Cleanup previous streams"
   ]
  },
  {
   "cell_type": "code",
   "execution_count": 12,
   "metadata": {},
   "outputs": [
    {
     "name": "stdout",
     "output_type": "stream",
     "text": [
      "Delete Stream call for stream generated-stream returned with status 204, and content: \n",
      "Delete Stream call for stream incoming-events-stream returned with status 204, and content: \n",
      "Delete Stream call for stream serving-stream returned with status 204, and content: \n",
      "Delete Stream call for stream inference-stream returned with status 204, and content: \n"
     ]
    }
   ],
   "source": [
    "for stream_name, stream_config in stream_configs.items():\n",
    "    resp = v3io_client.stream.delete(container=container, stream_path=stream_config['path'], \n",
    "                                     raise_for_status=v3io.dataplane.RaiseForStatus.never)\n",
    "    print(f'Delete Stream call for stream {stream_name} returned with status {resp.status_code}, and content: {resp.body.decode(\"utf-8\")}')"
   ]
  },
  {
   "cell_type": "markdown",
   "metadata": {},
   "source": [
    "#### Create all streams"
   ]
  },
  {
   "cell_type": "code",
   "execution_count": 13,
   "metadata": {},
   "outputs": [
    {
     "name": "stdout",
     "output_type": "stream",
     "text": [
      "dani/examples/model-deployment-pipeline/data/generated-stream\n",
      "Create Stream call for stream generated-stream returned with status 204, and content: \n",
      "dani/examples/model-deployment-pipeline/data/incoming-events-stream\n",
      "Create Stream call for stream incoming-events-stream returned with status 204, and content: \n",
      "dani/examples/model-deployment-pipeline/data/serving-stream\n",
      "Create Stream call for stream serving-stream returned with status 204, and content: \n",
      "dani/examples/model-deployment-pipeline/data/inference-stream\n",
      "Create Stream call for stream inference-stream returned with status 204, and content: \n"
     ]
    }
   ],
   "source": [
    "for stream_name, stream_config in stream_configs.items():\n",
    "    print(stream_config['path'])\n",
    "    resp = v3io_client.stream.create(container=container,\n",
    "                                     stream_path=stream_config['path'],\n",
    "                                     shard_count=stream_config['shard_count'],\n",
    "                                     raise_for_status=v3io.dataplane.RaiseForStatus.never)\n",
    "    print(f'Create Stream call for stream {stream_name} returned with status {resp.status_code}, and content: {resp.body.decode(\"utf-8\")}')"
   ]
  },
  {
   "cell_type": "markdown",
   "metadata": {},
   "source": [
    "## Set-up MLRun Project"
   ]
  },
  {
   "cell_type": "markdown",
   "metadata": {},
   "source": [
    "Projects are created by using the `new_project` MLRun method, which receives the following parameters:\n",
    "\n",
    "- **`name`** (Required) &mdash; the project name.\n",
    "- **`context`** &mdash; the path to a local project directory (the project's context directory).\n",
    "  The project directory contains a project-configuration file (default: **project.yaml**), which defines the project, and additional generated Python code.\n",
    "  The project file is created when you save your project (using the `save` MLRun project method), as demonstrated in Step 6.\n",
    "- **`functions`** &mdash; a list of functions objects or links to function code or objects.\n",
    "- **`init_git`** &mdash; set to `True` to perform Git initialization of the project directory (`context`).\n",
    "  > **Note:** It's customary to store project code and definitions in a Git repository.\n",
    "\n",
    "Projects are visible in the MLRun dashboard only after they're saved to the MLRun database, which happens whenever you run code for a project.\n",
    "\n",
    "The following code creates a project using the `PROJECT_BASE_NAME`, concatenated with your current running username in the platform (**&lt;V3IO_USERNAME&gt;**), and sets the project directory to a **conf** directory in the current demo directory (**/User/demos/model-deployment-with-streaming/conf**).\n",
    "\n",
    "> **Note:** Platform projects are shared among all users of the parent tenant, to facilitate collaboration. Therefore,\n",
    ">\n",
    "> - Synchronize your projects execution with other users on your platform cluster, as needed, or use unique project names to avoid conflicts.\n",
    ">   You can easily change the default project name for this tutorial by changing the definition of the `PROJECT_BASE_NAME` variable, defined in the beginning of the notebook.\n",
    "> - Don't include in your project proprietary information that you don't want to expose to other users.\n",
    ">   Note that while projects are a useful tool, you can easily develop and run code in the platform without using projects."
   ]
  },
  {
   "cell_type": "code",
   "execution_count": 14,
   "metadata": {},
   "outputs": [
    {
     "name": "stdout",
     "output_type": "stream",
     "text": [
      "Project path: /User/test/demos/model-deployment-pipeline/conf\n",
      "Project name: model-deployment-pipeline-dani\n"
     ]
    }
   ],
   "source": [
    "from mlrun import new_project\n",
    "import os \n",
    "\n",
    "project_name = '-'.join(filter(None, [project_base_name, getenv('V3IO_USERNAME', None)]))\n",
    "project_path = path.abspath('conf')\n",
    "if(not(os.path.exists(project_path))):\n",
    "    os.mkdir(project_path)\n",
    "    print('path created')\n",
    "project = new_project(project_name, project_path, init_git=True)\n",
    "\n",
    "print(f'Project path: {project_path}\\nProject name: {project_name}')"
   ]
  },
  {
   "cell_type": "markdown",
   "metadata": {},
   "source": [
    "[MLRun](https://github.com/mlrun/mlrun) is a generic and convenient mechanism for data scientists and software developers to describe and run tasks related to machine learning in various, scalable runtime environments and ML pipelines while automatically tracking executed code, metadata, inputs, and outputs.\n",
    "MLRun integrates with the Nuclio serverless framework and with the Kubeflow Pipelines framework for running ML pipelines.\n",
    "The demo uses MLRun to create a project, run Nuclio serverless functions, as well as run the model training.\n",
    "Before running your code, you need to set some MLRun configurations:\n",
    "\n",
    "- <a id=\"gs-mlrun-config-artifcats-path\"></a>**Artifacts path** &mdash; the location for storing versioned data artifacts (such as files, objects, data sets, and models) that are produced or consumed by functions, runs, and workflows.\n",
    "  The path can be defined either as a local directory path or as a URL (of the format `s3://*`, `v3io://*`, etc.).\n",
    "  You can set the artifacts path either by defining an `MLRUN_ARTIFACT_PATH` environment variable (which applies globally throughout the current environment) or as part of the MLRun configuration.\n",
    " \n",
    "  If the target directory doesn't exist, MLRun creates it.\n",
    "  You can use the notation `{{run.uid}}` in the path to signify the current run ID.\n",
    "  For pipelines, you can use the notation `{{workflow.uid}}` to signify the workflow ID.\n",
    "  This allows you to create a unique artifacts directory for each executed job or workflow.\n",
    "\n",
    "  After you run an MLRun job, the artifacts directory might contain one or more of the following directories:\n",
    " \n",
    "  - **plots** &mdash; a directory for storing images, figures, and plotlines.\n",
    "  - **models** &mdash; a directory for storing all trained models.\n",
    "  - **data** &mdash; a directory for storing any other type of data artifact, such as data sets.\n",
    "\n",
    "The following code sets the artifacts path to a **artifacts** directory within the tutorial directory (**/User/demos/model-deployment-with-streaming/artifacts**)"
   ]
  },
  {
   "cell_type": "code",
   "execution_count": 15,
   "metadata": {},
   "outputs": [
    {
     "name": "stdout",
     "output_type": "stream",
     "text": [
      "Artifacts path: /User/test/demos/model-deployment-pipeline/artifacts\n",
      "MLRun DB path: http://mlrun-api:8080\n"
     ]
    }
   ],
   "source": [
    "from mlrun import mlconf\n",
    "\n",
    "# Target location for storing pipeline artifacts\n",
    "project.artifact_path = path.abspath('artifacts')\n",
    "# MLRun DB path or API service URL\n",
    "mlconf.dbpath = mlconf.dbpath or 'http://mlrun-api:8080'\n",
    "\n",
    "print(f'Artifacts path: {project.artifact_path}\\nMLRun DB path: {mlconf.dbpath}')"
   ]
  },
  {
   "cell_type": "markdown",
   "metadata": {},
   "source": [
    "## Set project's functions"
   ]
  },
  {
   "cell_type": "markdown",
   "metadata": {},
   "source": [
    "#### Data Generator"
   ]
  },
  {
   "cell_type": "code",
   "execution_count": 16,
   "metadata": {},
   "outputs": [
    {
     "data": {
      "text/plain": [
       "<mlrun.runtimes.kubejob.KubejobRuntime at 0x7f8d686b0190>"
      ]
     },
     "execution_count": 16,
     "metadata": {},
     "output_type": "execute_result"
    }
   ],
   "source": [
    "from mlrun import mount_v3io, code_to_function, NewTask\n",
    "import nuclio\n",
    "\n",
    "data_generator = code_to_function(name='data-generator', handler='main', kind='job', filename='functions/data-generator.ipynb',image='mlrun/mlrun')\n",
    "data_generator.spec.readinessTimeoutSeconds = 200\n",
    "data_generator.spec.build.commands = ['pip install faker']\n",
    "\n",
    "project.set_function(data_generator)\n",
    "\n",
    "# set parameters and  environment variables\n",
    "v3io_envs = {'V3IO_API': getenv('V3IO_API'),\n",
    "        'V3IO_ACCESS_KEY': getenv('V3IO_ACCESS_KEY')}\n",
    "dg_params = {'container': container,\n",
    "         'output_stream_path': stream_configs['generated-stream']['path'],\n",
    "         'enrichment_table_path': enrichment_table_path}\n",
    "\n",
    "project.func('data-generator').set_envs(v3io_envs)"
   ]
  },
  {
   "cell_type": "code",
   "execution_count": 17,
   "metadata": {},
   "outputs": [
    {
     "name": "stdout",
     "output_type": "stream",
     "text": [
      "> 2021-10-03 09:10:52,044 [info] Started building image: .mlrun/func-model-deployment-pipeline-dani-data-generator:latest\n",
      "E1003 09:11:34.660145       1 aws_credentials.go:77] while getting AWS credentials NoCredentialProviders: no valid providers in chain. Deprecated.\n",
      "\tFor verbose messaging see aws.Config.CredentialsChainVerboseErrors\n",
      "\u001B[36mINFO\u001B[0m[0040] Retrieving image manifest mlrun/mlrun:0.7.0-rc7 \n",
      "\u001B[36mINFO\u001B[0m[0042] Retrieving image manifest mlrun/mlrun:0.7.0-rc7 \n",
      "\u001B[36mINFO\u001B[0m[0045] Built cross stage deps: map[]                \n",
      "\u001B[36mINFO\u001B[0m[0045] Retrieving image manifest mlrun/mlrun:0.7.0-rc7 \n",
      "\u001B[36mINFO\u001B[0m[0047] Retrieving image manifest mlrun/mlrun:0.7.0-rc7 \n",
      "\u001B[36mINFO\u001B[0m[0049] Executing 0 build triggers                   \n",
      "\u001B[36mINFO\u001B[0m[0049] Unpacking rootfs as cmd RUN pip install faker requires it. \n",
      "\u001B[36mINFO\u001B[0m[0085] RUN pip install faker                        \n",
      "\u001B[36mINFO\u001B[0m[0085] Taking snapshot of full filesystem...        \n",
      "\u001B[36mINFO\u001B[0m[0092] cmd: /bin/sh                                 \n",
      "\u001B[36mINFO\u001B[0m[0092] args: [-c pip install faker]                 \n",
      "\u001B[36mINFO\u001B[0m[0092] Running: [/bin/sh -c pip install faker]      \n",
      "Collecting faker\n",
      "  Downloading Faker-8.14.1-py3-none-any.whl (1.2 MB)\n",
      "Collecting text-unidecode==1.3\n",
      "  Downloading text_unidecode-1.3-py2.py3-none-any.whl (78 kB)\n",
      "Requirement already satisfied: python-dateutil>=2.4 in /usr/local/lib/python3.7/site-packages (from faker) (2.8.2)\n",
      "Requirement already satisfied: six>=1.5 in /usr/local/lib/python3.7/site-packages (from python-dateutil>=2.4->faker) (1.16.0)\n",
      "Installing collected packages: text-unidecode, faker\n",
      "Successfully installed faker-8.14.1 text-unidecode-1.3\n",
      "WARNING: You are using pip version 20.2.4; however, version 21.2.4 is available.\n",
      "You should consider upgrading via the '/usr/local/bin/python -m pip install --upgrade pip' command.\n",
      "\u001B[36mINFO\u001B[0m[0098] Taking snapshot of full filesystem...        \n"
     ]
    },
    {
     "data": {
      "text/plain": [
       "True"
      ]
     },
     "execution_count": 17,
     "metadata": {},
     "output_type": "execute_result"
    }
   ],
   "source": [
    "#Build the image\n",
    "project.func('data-generator').deploy()"
   ]
  },
  {
   "cell_type": "code",
   "execution_count": 18,
   "metadata": {},
   "outputs": [
    {
     "name": "stdout",
     "output_type": "stream",
     "text": [
      "> 2021-10-03 09:12:35,833 [info] starting run data-generator-main uid=638bbf5eb85e4be482d5b085a3a209d8 DB=http://mlrun-api:8080\n",
      "> 2021-10-03 09:12:35,982 [info] Job is running in the background, pod: data-generator-main-bg6kp\n",
      "> 2021-10-03 09:13:14,447 [info] Created enrichment table with 89999 items\n",
      "> 2021-10-03 09:14:16,725 [info] Records sent 2002000\n",
      "> 2021-10-03 09:14:18,047 [info] All data streamed successfully.\n",
      "> 2021-10-03 09:14:18,573 [info] run executed, status=completed\n",
      "final state: completed\n"
     ]
    },
    {
     "data": {
      "text/html": [
       "<style>\n",
       ".dictlist {\n",
       "  background-color: #4EC64B;\n",
       "  text-align: center;\n",
       "  margin: 4px;\n",
       "  border-radius: 3px; padding: 0px 3px 1px 3px; display: inline-block;}\n",
       ".artifact {\n",
       "  cursor: pointer;\n",
       "  background-color: #4EC64B;\n",
       "  text-align: left;\n",
       "  margin: 4px; border-radius: 3px; padding: 0px 3px 1px 3px; display: inline-block;\n",
       "}\n",
       "div.block.hidden {\n",
       "  display: none;\n",
       "}\n",
       ".clickable {\n",
       "  cursor: pointer;\n",
       "}\n",
       ".ellipsis {\n",
       "  display: inline-block;\n",
       "  max-width: 60px;\n",
       "  white-space: nowrap;\n",
       "  overflow: hidden;\n",
       "  text-overflow: ellipsis;\n",
       "}\n",
       ".master-wrapper {\n",
       "  display: flex;\n",
       "  flex-flow: row nowrap;\n",
       "  justify-content: flex-start;\n",
       "  align-items: stretch;\n",
       "}\n",
       ".master-tbl {\n",
       "  flex: 3\n",
       "}\n",
       ".master-wrapper > div {\n",
       "  margin: 4px;\n",
       "  padding: 10px;\n",
       "}\n",
       "iframe.fileview {\n",
       "  border: 0 none;\n",
       "  height: 100%;\n",
       "  width: 100%;\n",
       "  white-space: pre-wrap;\n",
       "}\n",
       ".pane-header-title {\n",
       "  width: 80%;\n",
       "  font-weight: 500;\n",
       "}\n",
       ".pane-header {\n",
       "  line-height: 1;\n",
       "  background-color: #4EC64B;\n",
       "  padding: 3px;\n",
       "}\n",
       ".pane-header .close {\n",
       "  font-size: 20px;\n",
       "  font-weight: 700;\n",
       "  float: right;\n",
       "  margin-top: -5px;\n",
       "}\n",
       ".master-wrapper .right-pane {\n",
       "  border: 1px inset silver;\n",
       "  width: 40%;\n",
       "  min-height: 300px;\n",
       "  flex: 3\n",
       "  min-width: 500px;\n",
       "}\n",
       ".master-wrapper * {\n",
       "  box-sizing: border-box;\n",
       "}\n",
       "</style><script>\n",
       "function copyToClipboard(fld) {\n",
       "    if (document.queryCommandSupported && document.queryCommandSupported('copy')) {\n",
       "        var textarea = document.createElement('textarea');\n",
       "        textarea.textContent = fld.innerHTML;\n",
       "        textarea.style.position = 'fixed';\n",
       "        document.body.appendChild(textarea);\n",
       "        textarea.select();\n",
       "\n",
       "        try {\n",
       "            return document.execCommand('copy'); // Security exception may be thrown by some browsers.\n",
       "        } catch (ex) {\n",
       "\n",
       "        } finally {\n",
       "            document.body.removeChild(textarea);\n",
       "        }\n",
       "    }\n",
       "}\n",
       "function expandPanel(el) {\n",
       "  const panelName = \"#\" + el.getAttribute('paneName');\n",
       "  console.log(el.title);\n",
       "\n",
       "  document.querySelector(panelName + \"-title\").innerHTML = el.title\n",
       "  iframe = document.querySelector(panelName + \"-body\");\n",
       "\n",
       "  const tblcss = `<style> body { font-family: Arial, Helvetica, sans-serif;}\n",
       "    #csv { margin-bottom: 15px; }\n",
       "    #csv table { border-collapse: collapse;}\n",
       "    #csv table td { padding: 4px 8px; border: 1px solid silver;} </style>`;\n",
       "\n",
       "  function csvToHtmlTable(str) {\n",
       "    return '<div id=\"csv\"><table><tr><td>' +  str.replace(/[\\n\\r]+$/g, '').replace(/[\\n\\r]+/g, '</td></tr><tr><td>')\n",
       "      .replace(/,/g, '</td><td>') + '</td></tr></table></div>';\n",
       "  }\n",
       "\n",
       "  function reqListener () {\n",
       "    if (el.title.endsWith(\".csv\")) {\n",
       "      iframe.setAttribute(\"srcdoc\", tblcss + csvToHtmlTable(this.responseText));\n",
       "    } else {\n",
       "      iframe.setAttribute(\"srcdoc\", this.responseText);\n",
       "    }\n",
       "    console.log(this.responseText);\n",
       "  }\n",
       "\n",
       "  const oReq = new XMLHttpRequest();\n",
       "  oReq.addEventListener(\"load\", reqListener);\n",
       "  oReq.open(\"GET\", el.title);\n",
       "  oReq.send();\n",
       "\n",
       "\n",
       "  //iframe.src = el.title;\n",
       "  const resultPane = document.querySelector(panelName + \"-pane\");\n",
       "  if (resultPane.classList.contains(\"hidden\")) {\n",
       "    resultPane.classList.remove(\"hidden\");\n",
       "  }\n",
       "}\n",
       "function closePanel(el) {\n",
       "  const panelName = \"#\" + el.getAttribute('paneName')\n",
       "  const resultPane = document.querySelector(panelName + \"-pane\");\n",
       "  if (!resultPane.classList.contains(\"hidden\")) {\n",
       "    resultPane.classList.add(\"hidden\");\n",
       "  }\n",
       "}\n",
       "\n",
       "</script>\n",
       "<div class=\"master-wrapper\">\n",
       "  <div class=\"block master-tbl\"><div>\n",
       "<style scoped>\n",
       "    .dataframe tbody tr th:only-of-type {\n",
       "        vertical-align: middle;\n",
       "    }\n",
       "\n",
       "    .dataframe tbody tr th {\n",
       "        vertical-align: top;\n",
       "    }\n",
       "\n",
       "    .dataframe thead th {\n",
       "        text-align: right;\n",
       "    }\n",
       "</style>\n",
       "<table border=\"1\" class=\"dataframe\">\n",
       "  <thead>\n",
       "    <tr style=\"text-align: right;\">\n",
       "      <th>project</th>\n",
       "      <th>uid</th>\n",
       "      <th>iter</th>\n",
       "      <th>start</th>\n",
       "      <th>state</th>\n",
       "      <th>name</th>\n",
       "      <th>labels</th>\n",
       "      <th>inputs</th>\n",
       "      <th>parameters</th>\n",
       "      <th>results</th>\n",
       "      <th>artifacts</th>\n",
       "    </tr>\n",
       "  </thead>\n",
       "  <tbody>\n",
       "    <tr>\n",
       "      <td>model-deployment-pipeline-dani</td>\n",
       "      <td><div title=\"638bbf5eb85e4be482d5b085a3a209d8\"><a href=\"https://dashboard.default-tenant.app.dev8.lab.iguazeng.com/mlprojects/model-deployment-pipeline-dani/jobs/monitor/638bbf5eb85e4be482d5b085a3a209d8/overview\" target=\"_blank\" >...a3a209d8</a></div></td>\n",
       "      <td>0</td>\n",
       "      <td>Oct 03 09:12:40</td>\n",
       "      <td>completed</td>\n",
       "      <td>data-generator-main</td>\n",
       "      <td><div class=\"dictlist\">v3io_user=dani</div><div class=\"dictlist\">kind=job</div><div class=\"dictlist\">owner=dani</div><div class=\"dictlist\">host=data-generator-main-bg6kp</div></td>\n",
       "      <td></td>\n",
       "      <td><div class=\"dictlist\">container=users</div><div class=\"dictlist\">output_stream_path=dani/examples/model-deployment-pipeline/data/generated-stream</div><div class=\"dictlist\">enrichment_table_path=dani/examples/model-deployment-pipeline/data/enrichment-table</div></td>\n",
       "      <td></td>\n",
       "      <td></td>\n",
       "    </tr>\n",
       "  </tbody>\n",
       "</table>\n",
       "</div></div>\n",
       "  <div id=\"result1df3aff8-pane\" class=\"right-pane block hidden\">\n",
       "    <div class=\"pane-header\">\n",
       "      <span id=\"result1df3aff8-title\" class=\"pane-header-title\">Title</span>\n",
       "      <span onclick=\"closePanel(this)\" paneName=\"result1df3aff8\" class=\"close clickable\">&times;</span>\n",
       "    </div>\n",
       "    <iframe class=\"fileview\" id=\"result1df3aff8-body\"></iframe>\n",
       "  </div>\n",
       "</div>\n"
      ],
      "text/plain": [
       "<IPython.core.display.HTML object>"
      ]
     },
     "metadata": {},
     "output_type": "display_data"
    },
    {
     "name": "stdout",
     "output_type": "stream",
     "text": [
      "\n"
     ]
    },
    {
     "data": {
      "text/html": [
       "<b> > to track results use the .show() or .logs() methods  or <a href=\"https://dashboard.default-tenant.app.dev8.lab.iguazeng.com/mlprojects/model-deployment-pipeline-dani/jobs/monitor/638bbf5eb85e4be482d5b085a3a209d8/overview\" target=\"_blank\">click here</a> to open in UI</b>"
      ],
      "text/plain": [
       "<IPython.core.display.HTML object>"
      ]
     },
     "metadata": {},
     "output_type": "display_data"
    },
    {
     "name": "stdout",
     "output_type": "stream",
     "text": [
      "> 2021-10-03 09:14:24,663 [info] run executed, status=completed\n"
     ]
    },
    {
     "data": {
      "text/plain": [
       "<mlrun.model.RunObject at 0x7f8d6833fe90>"
      ]
     },
     "execution_count": 18,
     "metadata": {},
     "output_type": "execute_result"
    }
   ],
   "source": [
    "#Run the job\n",
    "project.func('data-generator').run(params=dg_params, artifact_path=project.artifact_path)"
   ]
  },
  {
   "cell_type": "markdown",
   "metadata": {},
   "source": [
    "#### Event Handler"
   ]
  },
  {
   "cell_type": "code",
   "execution_count": 19,
   "metadata": {},
   "outputs": [
    {
     "name": "stdout",
     "output_type": "stream",
     "text": [
      "> 2021-10-03 09:14:26,744 [info] Starting remote function deploy\n",
      "2021-10-03 09:14:26  (info) Deploying function\n",
      "2021-10-03 09:14:26  (info) Building\n",
      "2021-10-03 09:14:26  (info) Staging files and preparing base images\n",
      "2021-10-03 09:14:26  (info) Building processor image\n",
      "2021-10-03 09:14:28  (info) Build complete\n",
      "2021-10-03 09:14:34  (info) Function deploy complete\n",
      "> 2021-10-03 09:14:35,411 [info] successfully deployed function: {'internal_invocation_urls': ['nuclio-model-deployment-pipeline-dani-event-handler.default-tenant.svc.cluster.local:8080'], 'external_invocation_urls': ['default-tenant.app.dev8.lab.iguazeng.com:31868']}\n"
     ]
    },
    {
     "data": {
      "text/plain": [
       "'http://default-tenant.app.dev8.lab.iguazeng.com:31868'"
      ]
     },
     "execution_count": 19,
     "metadata": {},
     "output_type": "execute_result"
    }
   ],
   "source": [
    "event_handler = code_to_function(name='event-handler', handler='handler', kind='nuclio', filename='functions/event-handler.ipynb',image='mlrun/mlrun')\n",
    "event_handler.spec.readinessTimeoutSeconds = 200\n",
    "project.set_function(event_handler)\n",
    "\n",
    "eh_envs = {'PARQUET_SINK_FLAG': 'true',\n",
    "           'STREAM_SINK_FLAG': 'true',\n",
    "           'PARQUET_TARGET_PATH' : raw_parquet_target_path,\n",
    "           'PARQUET_BATCH_SIZE': 8192,\n",
    "           'TS_KEY': 'event_time',\n",
    "           'TS_FORMAT': '%Y-%m-%d %H:%M:%S.%f',\n",
    "           'CONTAINER': container,\n",
    "           'OUTPUT_STREAM_PATH': stream_configs['incoming-events-stream']['path'],\n",
    "           'PARTITION_ATTR': partition_attr}\n",
    "\n",
    "project.func('event-handler').set_envs({**v3io_envs, **eh_envs})\n",
    "project.func('event-handler').apply(mount_v3io())\n",
    "\n",
    "generated_stream = '/'.join(s.strip('/') for s in [web_api_users, stream_configs['generated-stream']['path']]) + '@eh'\n",
    "project.func('event-handler').add_trigger('serving_stream',\n",
    "                                           nuclio.triggers.V3IOStreamTrigger(url=generated_stream,\n",
    "                                                                             maxWorkers=stream_configs['generated-stream']['shard_count']+2,\n",
    "                                                                             seekTo='earliest'))\n",
    "\n",
    "project.func('event-handler').spec.replicas=1\n",
    "project.func('event-handler').deploy()"
   ]
  },
  {
   "cell_type": "markdown",
   "metadata": {},
   "source": [
    "#### Stream to Features"
   ]
  },
  {
   "cell_type": "code",
   "execution_count": 20,
   "metadata": {},
   "outputs": [
    {
     "name": "stdout",
     "output_type": "stream",
     "text": [
      "> 2021-10-03 09:14:37,607 [info] Starting remote function deploy\n",
      "2021-10-03 09:14:37  (info) Deploying function\n",
      "2021-10-03 09:14:37  (info) Building\n",
      "2021-10-03 09:14:37  (info) Staging files and preparing base images\n",
      "2021-10-03 09:14:37  (info) Building processor image\n",
      "2021-10-03 09:14:39  (info) Build complete\n",
      "2021-10-03 09:14:43  (info) Function deploy complete\n",
      "> 2021-10-03 09:14:44,183 [info] successfully deployed function: {'internal_invocation_urls': ['nuclio-model-deployment-pipeline-dani-stream-to-features.default-tenant.svc.cluster.local:8080'], 'external_invocation_urls': ['default-tenant.app.dev8.lab.iguazeng.com:30556']}\n"
     ]
    },
    {
     "data": {
      "text/plain": [
       "'http://default-tenant.app.dev8.lab.iguazeng.com:30556'"
      ]
     },
     "execution_count": 20,
     "metadata": {},
     "output_type": "execute_result"
    }
   ],
   "source": [
    "stream_to_features = code_to_function(name='stream-to-features', handler='handler', kind='nuclio', filename='functions/stream-to-features.ipynb',image='mlrun/mlrun')\n",
    "project.set_function(stream_to_features)\n",
    "\n",
    "stf_envs = {'FEATURE_TABLE_PATH': feature_table_path,\n",
    "            'SERVING_EVENTS': \",\".join(['bet','win']),\n",
    "            'FEATURE_LIST': \",\".join(feature_list),\n",
    "            'CONTAINER': container,\n",
    "            'OUTPUT_STREAM_PATH': stream_configs['serving-stream']['path'],\n",
    "            'PARTITION_ATTR': partition_attr,\n",
    "            'ENRICHMENT_TABLE_PATH': enrichment_table_path,\n",
    "            'ENRICHMENT_KEY':\"postcode\"}\n",
    "\n",
    "project.func('stream-to-features').set_envs({**v3io_envs, **stf_envs})\n",
    "\n",
    "incoming_events_stream = '/'.join(s.strip('/') for s in [web_api_users, stream_configs['incoming-events-stream']['path']]) + '@stf'\n",
    "project.func('stream-to-features').add_trigger('serving_stream',\n",
    "                                               nuclio.triggers.V3IOStreamTrigger(url=incoming_events_stream,\n",
    "                                                                                 maxWorkers=stream_configs['incoming-events-stream']['shard_count']+2,\n",
    "                                                                                 seekTo='earliest'))\n",
    "\n",
    "project.func('stream-to-features').spec.readiness_timeout = 200\n",
    "project.func('stream-to-features').spec.replicas=1\n",
    "project.func('stream-to-features').deploy()"
   ]
  },
  {
   "cell_type": "markdown",
   "metadata": {},
   "source": [
    "#### Get Data Snapshot (part of optional model training)"
   ]
  },
  {
   "cell_type": "code",
   "execution_count": 21,
   "metadata": {},
   "outputs": [],
   "source": [
    "if run_training:\n",
    "    get_data_snapshot = code_to_function(name='get-data-snapshot', handler='snapshot_data', kind='job', filename='functions/get-data-snapshot.ipynb',image='mlrun/mlrun')\n",
    "    get_data_snapshot.spec.build.commands = ['pip install v3io-frames==0.8.*']\n",
    "    project.set_function(get_data_snapshot)\n",
    "\n",
    "    # set parameters and  environment variables\n",
    "    v3io_envs = {'V3IO_API': getenv('V3IO_API'),\n",
    "            'V3IO_ACCESS_KEY': getenv('V3IO_ACCESS_KEY')}\n",
    "    gds_params = {'container': container, \n",
    "                  'table_path': feature_table_path, \n",
    "                  'columns': ['label']+feature_list, \n",
    "                  'format': 'csv'}\n",
    "\n",
    "    project.func('get-data-snapshot').set_envs(v3io_envs)\n",
    "    project.func('get-data-snapshot').apply(mount_v3io())"
   ]
  },
  {
   "cell_type": "code",
   "execution_count": 22,
   "metadata": {},
   "outputs": [
    {
     "name": "stdout",
     "output_type": "stream",
     "text": [
      "> 2021-10-03 09:14:49,375 [info] Started building image: .mlrun/func-model-deployment-pipeline-dani-get-data-snapshot:latest\n",
      "E1003 09:15:32.433225       1 aws_credentials.go:77] while getting AWS credentials NoCredentialProviders: no valid providers in chain. Deprecated.\n",
      "\tFor verbose messaging see aws.Config.CredentialsChainVerboseErrors\n",
      "\u001B[36mINFO\u001B[0m[0040] Retrieving image manifest mlrun/mlrun:0.7.0-rc7 \n",
      "\u001B[36mINFO\u001B[0m[0042] Retrieving image manifest mlrun/mlrun:0.7.0-rc7 \n",
      "\u001B[36mINFO\u001B[0m[0045] Built cross stage deps: map[]                \n",
      "\u001B[36mINFO\u001B[0m[0045] Retrieving image manifest mlrun/mlrun:0.7.0-rc7 \n",
      "\u001B[36mINFO\u001B[0m[0047] Retrieving image manifest mlrun/mlrun:0.7.0-rc7 \n",
      "\u001B[36mINFO\u001B[0m[0049] Executing 0 build triggers                   \n",
      "\u001B[36mINFO\u001B[0m[0049] Unpacking rootfs as cmd RUN pip install v3io-frames==0.8.* requires it. \n",
      "\u001B[36mINFO\u001B[0m[0073] RUN pip install v3io-frames==0.8.*           \n",
      "\u001B[36mINFO\u001B[0m[0073] Taking snapshot of full filesystem...        \n",
      "\u001B[36mINFO\u001B[0m[0080] cmd: /bin/sh                                 \n",
      "\u001B[36mINFO\u001B[0m[0080] args: [-c pip install v3io-frames==0.8.*]    \n",
      "\u001B[36mINFO\u001B[0m[0080] Running: [/bin/sh -c pip install v3io-frames==0.8.*] \n",
      "Requirement already satisfied: v3io-frames==0.8.* in /usr/local/lib/python3.7/site-packages (0.8.17)\n",
      "Requirement already satisfied: googleapis-common-protos>=1.5.3 in /usr/local/lib/python3.7/site-packages (from v3io-frames==0.8.*) (1.53.0)\n",
      "Requirement already satisfied: grpcio-tools<1.33,>=1.30 in /usr/local/lib/python3.7/site-packages (from v3io-frames==0.8.*) (1.32.0)\n",
      "Requirement already satisfied: requests>=2.19.1 in /usr/local/lib/python3.7/site-packages (from v3io-frames==0.8.*) (2.26.0)\n",
      "Requirement already satisfied: grpcio<1.33,>=1.30 in /usr/local/lib/python3.7/site-packages (from v3io-frames==0.8.*) (1.32.0)\n",
      "Requirement already satisfied: pandas>=0.23.4 in /usr/local/lib/python3.7/site-packages (from v3io-frames==0.8.*) (1.3.2)\n",
      "Requirement already satisfied: protobuf>=3.12.0 in /usr/local/lib/python3.7/site-packages (from googleapis-common-protos>=1.5.3->v3io-frames==0.8.*) (3.17.3)\n",
      "Requirement already satisfied: charset-normalizer~=2.0.0; python_version >= \"3\" in /usr/local/lib/python3.7/site-packages (from requests>=2.19.1->v3io-frames==0.8.*) (2.0.4)\n",
      "Requirement already satisfied: certifi>=2017.4.17 in /usr/local/lib/python3.7/site-packages (from requests>=2.19.1->v3io-frames==0.8.*) (2021.5.30)\n",
      "Requirement already satisfied: urllib3<1.27,>=1.21.1 in /usr/local/lib/python3.7/site-packages (from requests>=2.19.1->v3io-frames==0.8.*) (1.26.6)\n",
      "Requirement already satisfied: idna<4,>=2.5; python_version >= \"3\" in /usr/local/lib/python3.7/site-packages (from requests>=2.19.1->v3io-frames==0.8.*) (3.2)\n",
      "Requirement already satisfied: six>=1.5.2 in /usr/local/lib/python3.7/site-packages (from grpcio<1.33,>=1.30->v3io-frames==0.8.*) (1.16.0)\n",
      "Requirement already satisfied: numpy>=1.17.3 in /usr/local/lib/python3.7/site-packages (from pandas>=0.23.4->v3io-frames==0.8.*) (1.19.5)\n",
      "Requirement already satisfied: pytz>=2017.3 in /usr/local/lib/python3.7/site-packages (from pandas>=0.23.4->v3io-frames==0.8.*) (2021.1)\n",
      "Requirement already satisfied: python-dateutil>=2.7.3 in /usr/local/lib/python3.7/site-packages (from pandas>=0.23.4->v3io-frames==0.8.*) (2.8.2)\n",
      "WARNING: You are using pip version 20.2.4; however, version 21.2.4 is available.\n",
      "You should consider upgrading via the '/usr/local/bin/python -m pip install --upgrade pip' command.\n",
      "\u001B[36mINFO\u001B[0m[0082] Taking snapshot of full filesystem...        \n"
     ]
    }
   ],
   "source": [
    "if run_training:\n",
    "    project.func('get-data-snapshot').deploy()"
   ]
  },
  {
   "cell_type": "code",
   "execution_count": 23,
   "metadata": {},
   "outputs": [
    {
     "name": "stdout",
     "output_type": "stream",
     "text": [
      "> 2021-10-03 09:16:15,693 [info] starting run get-data-snapshot-snapshot_data uid=94f2a68ce68e4d72be34e65c9e8405f2 DB=http://mlrun-api:8080\n",
      "> 2021-10-03 09:16:15,803 [info] Job is running in the background, pod: get-data-snapshot-snapshot-data-cs9ch\n",
      "> 2021-10-03 09:16:22,918 [info] Saving snapshot data set to /User/test/demos/model-deployment-pipeline/artifacts/data ...\n",
      "> 2021-10-03 09:16:23,204 [info] run executed, status=completed\n",
      "Warning - Server version '0.8.14' is different from client version '0.8.17'. Some operations may not work as expected.\n",
      "final state: completed\n"
     ]
    },
    {
     "data": {
      "text/html": [
       "<style>\n",
       ".dictlist {\n",
       "  background-color: #4EC64B;\n",
       "  text-align: center;\n",
       "  margin: 4px;\n",
       "  border-radius: 3px; padding: 0px 3px 1px 3px; display: inline-block;}\n",
       ".artifact {\n",
       "  cursor: pointer;\n",
       "  background-color: #4EC64B;\n",
       "  text-align: left;\n",
       "  margin: 4px; border-radius: 3px; padding: 0px 3px 1px 3px; display: inline-block;\n",
       "}\n",
       "div.block.hidden {\n",
       "  display: none;\n",
       "}\n",
       ".clickable {\n",
       "  cursor: pointer;\n",
       "}\n",
       ".ellipsis {\n",
       "  display: inline-block;\n",
       "  max-width: 60px;\n",
       "  white-space: nowrap;\n",
       "  overflow: hidden;\n",
       "  text-overflow: ellipsis;\n",
       "}\n",
       ".master-wrapper {\n",
       "  display: flex;\n",
       "  flex-flow: row nowrap;\n",
       "  justify-content: flex-start;\n",
       "  align-items: stretch;\n",
       "}\n",
       ".master-tbl {\n",
       "  flex: 3\n",
       "}\n",
       ".master-wrapper > div {\n",
       "  margin: 4px;\n",
       "  padding: 10px;\n",
       "}\n",
       "iframe.fileview {\n",
       "  border: 0 none;\n",
       "  height: 100%;\n",
       "  width: 100%;\n",
       "  white-space: pre-wrap;\n",
       "}\n",
       ".pane-header-title {\n",
       "  width: 80%;\n",
       "  font-weight: 500;\n",
       "}\n",
       ".pane-header {\n",
       "  line-height: 1;\n",
       "  background-color: #4EC64B;\n",
       "  padding: 3px;\n",
       "}\n",
       ".pane-header .close {\n",
       "  font-size: 20px;\n",
       "  font-weight: 700;\n",
       "  float: right;\n",
       "  margin-top: -5px;\n",
       "}\n",
       ".master-wrapper .right-pane {\n",
       "  border: 1px inset silver;\n",
       "  width: 40%;\n",
       "  min-height: 300px;\n",
       "  flex: 3\n",
       "  min-width: 500px;\n",
       "}\n",
       ".master-wrapper * {\n",
       "  box-sizing: border-box;\n",
       "}\n",
       "</style><script>\n",
       "function copyToClipboard(fld) {\n",
       "    if (document.queryCommandSupported && document.queryCommandSupported('copy')) {\n",
       "        var textarea = document.createElement('textarea');\n",
       "        textarea.textContent = fld.innerHTML;\n",
       "        textarea.style.position = 'fixed';\n",
       "        document.body.appendChild(textarea);\n",
       "        textarea.select();\n",
       "\n",
       "        try {\n",
       "            return document.execCommand('copy'); // Security exception may be thrown by some browsers.\n",
       "        } catch (ex) {\n",
       "\n",
       "        } finally {\n",
       "            document.body.removeChild(textarea);\n",
       "        }\n",
       "    }\n",
       "}\n",
       "function expandPanel(el) {\n",
       "  const panelName = \"#\" + el.getAttribute('paneName');\n",
       "  console.log(el.title);\n",
       "\n",
       "  document.querySelector(panelName + \"-title\").innerHTML = el.title\n",
       "  iframe = document.querySelector(panelName + \"-body\");\n",
       "\n",
       "  const tblcss = `<style> body { font-family: Arial, Helvetica, sans-serif;}\n",
       "    #csv { margin-bottom: 15px; }\n",
       "    #csv table { border-collapse: collapse;}\n",
       "    #csv table td { padding: 4px 8px; border: 1px solid silver;} </style>`;\n",
       "\n",
       "  function csvToHtmlTable(str) {\n",
       "    return '<div id=\"csv\"><table><tr><td>' +  str.replace(/[\\n\\r]+$/g, '').replace(/[\\n\\r]+/g, '</td></tr><tr><td>')\n",
       "      .replace(/,/g, '</td><td>') + '</td></tr></table></div>';\n",
       "  }\n",
       "\n",
       "  function reqListener () {\n",
       "    if (el.title.endsWith(\".csv\")) {\n",
       "      iframe.setAttribute(\"srcdoc\", tblcss + csvToHtmlTable(this.responseText));\n",
       "    } else {\n",
       "      iframe.setAttribute(\"srcdoc\", this.responseText);\n",
       "    }\n",
       "    console.log(this.responseText);\n",
       "  }\n",
       "\n",
       "  const oReq = new XMLHttpRequest();\n",
       "  oReq.addEventListener(\"load\", reqListener);\n",
       "  oReq.open(\"GET\", el.title);\n",
       "  oReq.send();\n",
       "\n",
       "\n",
       "  //iframe.src = el.title;\n",
       "  const resultPane = document.querySelector(panelName + \"-pane\");\n",
       "  if (resultPane.classList.contains(\"hidden\")) {\n",
       "    resultPane.classList.remove(\"hidden\");\n",
       "  }\n",
       "}\n",
       "function closePanel(el) {\n",
       "  const panelName = \"#\" + el.getAttribute('paneName')\n",
       "  const resultPane = document.querySelector(panelName + \"-pane\");\n",
       "  if (!resultPane.classList.contains(\"hidden\")) {\n",
       "    resultPane.classList.add(\"hidden\");\n",
       "  }\n",
       "}\n",
       "\n",
       "</script>\n",
       "<div class=\"master-wrapper\">\n",
       "  <div class=\"block master-tbl\"><div>\n",
       "<style scoped>\n",
       "    .dataframe tbody tr th:only-of-type {\n",
       "        vertical-align: middle;\n",
       "    }\n",
       "\n",
       "    .dataframe tbody tr th {\n",
       "        vertical-align: top;\n",
       "    }\n",
       "\n",
       "    .dataframe thead th {\n",
       "        text-align: right;\n",
       "    }\n",
       "</style>\n",
       "<table border=\"1\" class=\"dataframe\">\n",
       "  <thead>\n",
       "    <tr style=\"text-align: right;\">\n",
       "      <th>project</th>\n",
       "      <th>uid</th>\n",
       "      <th>iter</th>\n",
       "      <th>start</th>\n",
       "      <th>state</th>\n",
       "      <th>name</th>\n",
       "      <th>labels</th>\n",
       "      <th>inputs</th>\n",
       "      <th>parameters</th>\n",
       "      <th>results</th>\n",
       "      <th>artifacts</th>\n",
       "    </tr>\n",
       "  </thead>\n",
       "  <tbody>\n",
       "    <tr>\n",
       "      <td>model-deployment-pipeline-dani</td>\n",
       "      <td><div title=\"94f2a68ce68e4d72be34e65c9e8405f2\"><a href=\"https://dashboard.default-tenant.app.dev8.lab.iguazeng.com/mlprojects/model-deployment-pipeline-dani/jobs/monitor/94f2a68ce68e4d72be34e65c9e8405f2/overview\" target=\"_blank\" >...9e8405f2</a></div></td>\n",
       "      <td>0</td>\n",
       "      <td>Oct 03 09:16:22</td>\n",
       "      <td>completed</td>\n",
       "      <td>get-data-snapshot-snapshot_data</td>\n",
       "      <td><div class=\"dictlist\">v3io_user=dani</div><div class=\"dictlist\">kind=job</div><div class=\"dictlist\">owner=dani</div><div class=\"dictlist\">host=get-data-snapshot-snapshot-data-cs9ch</div></td>\n",
       "      <td></td>\n",
       "      <td><div class=\"dictlist\">container=users</div><div class=\"dictlist\">table_path=dani/examples/model-deployment-pipeline/data/feature-table</div><div class=\"dictlist\">columns=['label', 'socioeconomic_idx', 'purchase_sum', 'purchase_mean', 'purchase_count', 'purchase_var', 'bet_sum', 'bet_mean', 'bet_count', 'bet_var', 'win_sum', 'win_mean', 'win_count', 'win_var']</div><div class=\"dictlist\">format=csv</div></td>\n",
       "      <td></td>\n",
       "      <td><div class=\"artifact\" onclick=\"expandPanel(this)\" paneName=\"resultc34c2521\" title=\"/files/test/demos/model-deployment-pipeline/artifacts/data/snapshot_dataset.csv\">snapshot_dataset</div></td>\n",
       "    </tr>\n",
       "  </tbody>\n",
       "</table>\n",
       "</div></div>\n",
       "  <div id=\"resultc34c2521-pane\" class=\"right-pane block hidden\">\n",
       "    <div class=\"pane-header\">\n",
       "      <span id=\"resultc34c2521-title\" class=\"pane-header-title\">Title</span>\n",
       "      <span onclick=\"closePanel(this)\" paneName=\"resultc34c2521\" class=\"close clickable\">&times;</span>\n",
       "    </div>\n",
       "    <iframe class=\"fileview\" id=\"resultc34c2521-body\"></iframe>\n",
       "  </div>\n",
       "</div>\n"
      ],
      "text/plain": [
       "<IPython.core.display.HTML object>"
      ]
     },
     "metadata": {},
     "output_type": "display_data"
    },
    {
     "name": "stdout",
     "output_type": "stream",
     "text": [
      "\n"
     ]
    },
    {
     "data": {
      "text/html": [
       "<b> > to track results use the .show() or .logs() methods  or <a href=\"https://dashboard.default-tenant.app.dev8.lab.iguazeng.com/mlprojects/model-deployment-pipeline-dani/jobs/monitor/94f2a68ce68e4d72be34e65c9e8405f2/overview\" target=\"_blank\">click here</a> to open in UI</b>"
      ],
      "text/plain": [
       "<IPython.core.display.HTML object>"
      ]
     },
     "metadata": {},
     "output_type": "display_data"
    },
    {
     "name": "stdout",
     "output_type": "stream",
     "text": [
      "> 2021-10-03 09:16:24,971 [info] run executed, status=completed\n"
     ]
    }
   ],
   "source": [
    "if run_training:\n",
    "    snapshot_data_run = project.func('get-data-snapshot').run(params=gds_params, artifact_path=project.artifact_path)"
   ]
  },
  {
   "cell_type": "markdown",
   "metadata": {},
   "source": [
    "#### Describe the Dataset (part of optional model training)\n",
    "-------------------\n",
    "You can review the plots under - artifacts/plots/"
   ]
  },
  {
   "cell_type": "code",
   "execution_count": 24,
   "metadata": {},
   "outputs": [
    {
     "name": "stdout",
     "output_type": "stream",
     "text": [
      "> 2021-10-03 09:16:25,203 [info] starting run describe-summarize uid=2fe67236dba546c1b264569dddd58079 DB=http://mlrun-api:8080\n",
      "> 2021-10-03 09:16:25,322 [info] Job is running in the background, pod: describe-summarize-6mhwz\n",
      "> 2021-10-03 09:20:19,288 [info] run executed, status=completed\n",
      "final state: completed\n"
     ]
    },
    {
     "data": {
      "text/html": [
       "<style>\n",
       ".dictlist {\n",
       "  background-color: #4EC64B;\n",
       "  text-align: center;\n",
       "  margin: 4px;\n",
       "  border-radius: 3px; padding: 0px 3px 1px 3px; display: inline-block;}\n",
       ".artifact {\n",
       "  cursor: pointer;\n",
       "  background-color: #4EC64B;\n",
       "  text-align: left;\n",
       "  margin: 4px; border-radius: 3px; padding: 0px 3px 1px 3px; display: inline-block;\n",
       "}\n",
       "div.block.hidden {\n",
       "  display: none;\n",
       "}\n",
       ".clickable {\n",
       "  cursor: pointer;\n",
       "}\n",
       ".ellipsis {\n",
       "  display: inline-block;\n",
       "  max-width: 60px;\n",
       "  white-space: nowrap;\n",
       "  overflow: hidden;\n",
       "  text-overflow: ellipsis;\n",
       "}\n",
       ".master-wrapper {\n",
       "  display: flex;\n",
       "  flex-flow: row nowrap;\n",
       "  justify-content: flex-start;\n",
       "  align-items: stretch;\n",
       "}\n",
       ".master-tbl {\n",
       "  flex: 3\n",
       "}\n",
       ".master-wrapper > div {\n",
       "  margin: 4px;\n",
       "  padding: 10px;\n",
       "}\n",
       "iframe.fileview {\n",
       "  border: 0 none;\n",
       "  height: 100%;\n",
       "  width: 100%;\n",
       "  white-space: pre-wrap;\n",
       "}\n",
       ".pane-header-title {\n",
       "  width: 80%;\n",
       "  font-weight: 500;\n",
       "}\n",
       ".pane-header {\n",
       "  line-height: 1;\n",
       "  background-color: #4EC64B;\n",
       "  padding: 3px;\n",
       "}\n",
       ".pane-header .close {\n",
       "  font-size: 20px;\n",
       "  font-weight: 700;\n",
       "  float: right;\n",
       "  margin-top: -5px;\n",
       "}\n",
       ".master-wrapper .right-pane {\n",
       "  border: 1px inset silver;\n",
       "  width: 40%;\n",
       "  min-height: 300px;\n",
       "  flex: 3\n",
       "  min-width: 500px;\n",
       "}\n",
       ".master-wrapper * {\n",
       "  box-sizing: border-box;\n",
       "}\n",
       "</style><script>\n",
       "function copyToClipboard(fld) {\n",
       "    if (document.queryCommandSupported && document.queryCommandSupported('copy')) {\n",
       "        var textarea = document.createElement('textarea');\n",
       "        textarea.textContent = fld.innerHTML;\n",
       "        textarea.style.position = 'fixed';\n",
       "        document.body.appendChild(textarea);\n",
       "        textarea.select();\n",
       "\n",
       "        try {\n",
       "            return document.execCommand('copy'); // Security exception may be thrown by some browsers.\n",
       "        } catch (ex) {\n",
       "\n",
       "        } finally {\n",
       "            document.body.removeChild(textarea);\n",
       "        }\n",
       "    }\n",
       "}\n",
       "function expandPanel(el) {\n",
       "  const panelName = \"#\" + el.getAttribute('paneName');\n",
       "  console.log(el.title);\n",
       "\n",
       "  document.querySelector(panelName + \"-title\").innerHTML = el.title\n",
       "  iframe = document.querySelector(panelName + \"-body\");\n",
       "\n",
       "  const tblcss = `<style> body { font-family: Arial, Helvetica, sans-serif;}\n",
       "    #csv { margin-bottom: 15px; }\n",
       "    #csv table { border-collapse: collapse;}\n",
       "    #csv table td { padding: 4px 8px; border: 1px solid silver;} </style>`;\n",
       "\n",
       "  function csvToHtmlTable(str) {\n",
       "    return '<div id=\"csv\"><table><tr><td>' +  str.replace(/[\\n\\r]+$/g, '').replace(/[\\n\\r]+/g, '</td></tr><tr><td>')\n",
       "      .replace(/,/g, '</td><td>') + '</td></tr></table></div>';\n",
       "  }\n",
       "\n",
       "  function reqListener () {\n",
       "    if (el.title.endsWith(\".csv\")) {\n",
       "      iframe.setAttribute(\"srcdoc\", tblcss + csvToHtmlTable(this.responseText));\n",
       "    } else {\n",
       "      iframe.setAttribute(\"srcdoc\", this.responseText);\n",
       "    }\n",
       "    console.log(this.responseText);\n",
       "  }\n",
       "\n",
       "  const oReq = new XMLHttpRequest();\n",
       "  oReq.addEventListener(\"load\", reqListener);\n",
       "  oReq.open(\"GET\", el.title);\n",
       "  oReq.send();\n",
       "\n",
       "\n",
       "  //iframe.src = el.title;\n",
       "  const resultPane = document.querySelector(panelName + \"-pane\");\n",
       "  if (resultPane.classList.contains(\"hidden\")) {\n",
       "    resultPane.classList.remove(\"hidden\");\n",
       "  }\n",
       "}\n",
       "function closePanel(el) {\n",
       "  const panelName = \"#\" + el.getAttribute('paneName')\n",
       "  const resultPane = document.querySelector(panelName + \"-pane\");\n",
       "  if (!resultPane.classList.contains(\"hidden\")) {\n",
       "    resultPane.classList.add(\"hidden\");\n",
       "  }\n",
       "}\n",
       "\n",
       "</script>\n",
       "<div class=\"master-wrapper\">\n",
       "  <div class=\"block master-tbl\"><div>\n",
       "<style scoped>\n",
       "    .dataframe tbody tr th:only-of-type {\n",
       "        vertical-align: middle;\n",
       "    }\n",
       "\n",
       "    .dataframe tbody tr th {\n",
       "        vertical-align: top;\n",
       "    }\n",
       "\n",
       "    .dataframe thead th {\n",
       "        text-align: right;\n",
       "    }\n",
       "</style>\n",
       "<table border=\"1\" class=\"dataframe\">\n",
       "  <thead>\n",
       "    <tr style=\"text-align: right;\">\n",
       "      <th>project</th>\n",
       "      <th>uid</th>\n",
       "      <th>iter</th>\n",
       "      <th>start</th>\n",
       "      <th>state</th>\n",
       "      <th>name</th>\n",
       "      <th>labels</th>\n",
       "      <th>inputs</th>\n",
       "      <th>parameters</th>\n",
       "      <th>results</th>\n",
       "      <th>artifacts</th>\n",
       "    </tr>\n",
       "  </thead>\n",
       "  <tbody>\n",
       "    <tr>\n",
       "      <td>model-deployment-pipeline-dani</td>\n",
       "      <td><div title=\"2fe67236dba546c1b264569dddd58079\"><a href=\"https://dashboard.default-tenant.app.dev8.lab.iguazeng.com/mlprojects/model-deployment-pipeline-dani/jobs/monitor/2fe67236dba546c1b264569dddd58079/overview\" target=\"_blank\" >...ddd58079</a></div></td>\n",
       "      <td>0</td>\n",
       "      <td>Oct 03 09:16:31</td>\n",
       "      <td>completed</td>\n",
       "      <td>describe-summarize</td>\n",
       "      <td><div class=\"dictlist\">v3io_user=dani</div><div class=\"dictlist\">kind=job</div><div class=\"dictlist\">owner=dani</div><div class=\"dictlist\">host=describe-summarize-6mhwz</div></td>\n",
       "      <td><div title=\"store://artifacts/model-deployment-pipeline-dani/get-data-snapshot-snapshot_data_snapshot_dataset:94f2a68ce68e4d72be34e65c9e8405f2\">table</div></td>\n",
       "      <td><div class=\"dictlist\">label_column=label</div></td>\n",
       "      <td></td>\n",
       "      <td><div class=\"artifact\" onclick=\"expandPanel(this)\" paneName=\"result84ac2409\" title=\"/files/test/demos/model-deployment-pipeline/artifacts/plots/hist.html\">histograms</div><div class=\"artifact\" onclick=\"expandPanel(this)\" paneName=\"result84ac2409\" title=\"/files/test/demos/model-deployment-pipeline/artifacts/plots/violin.html\">violin</div><div class=\"artifact\" onclick=\"expandPanel(this)\" paneName=\"result84ac2409\" title=\"/files/test/demos/model-deployment-pipeline/artifacts/plots/imbalance.html\">imbalance</div><div class=\"artifact\" onclick=\"expandPanel(this)\" paneName=\"result84ac2409\" title=\"/files/test/demos/model-deployment-pipeline/artifacts/plots/imbalance-weights-vec.csv\">imbalance-weights-vec</div><div class=\"artifact\" onclick=\"expandPanel(this)\" paneName=\"result84ac2409\" title=\"/files/test/demos/model-deployment-pipeline/artifacts/plots/correlation-matrix.csv\">correlation-matrix</div><div class=\"artifact\" onclick=\"expandPanel(this)\" paneName=\"result84ac2409\" title=\"/files/test/demos/model-deployment-pipeline/artifacts/plots/corr.html\">correlation</div></td>\n",
       "    </tr>\n",
       "  </tbody>\n",
       "</table>\n",
       "</div></div>\n",
       "  <div id=\"result84ac2409-pane\" class=\"right-pane block hidden\">\n",
       "    <div class=\"pane-header\">\n",
       "      <span id=\"result84ac2409-title\" class=\"pane-header-title\">Title</span>\n",
       "      <span onclick=\"closePanel(this)\" paneName=\"result84ac2409\" class=\"close clickable\">&times;</span>\n",
       "    </div>\n",
       "    <iframe class=\"fileview\" id=\"result84ac2409-body\"></iframe>\n",
       "  </div>\n",
       "</div>\n"
      ],
      "text/plain": [
       "<IPython.core.display.HTML object>"
      ]
     },
     "metadata": {},
     "output_type": "display_data"
    },
    {
     "name": "stdout",
     "output_type": "stream",
     "text": [
      "\n"
     ]
    },
    {
     "data": {
      "text/html": [
       "<b> > to track results use the .show() or .logs() methods  or <a href=\"https://dashboard.default-tenant.app.dev8.lab.iguazeng.com/mlprojects/model-deployment-pipeline-dani/jobs/monitor/2fe67236dba546c1b264569dddd58079/overview\" target=\"_blank\">click here</a> to open in UI</b>"
      ],
      "text/plain": [
       "<IPython.core.display.HTML object>"
      ]
     },
     "metadata": {},
     "output_type": "display_data"
    },
    {
     "name": "stdout",
     "output_type": "stream",
     "text": [
      "> 2021-10-03 09:20:25,570 [info] run executed, status=completed\n"
     ]
    }
   ],
   "source": [
    "if run_training:\n",
    "    project.set_function('hub://describe', 'describe')\n",
    "\n",
    "    project.func('describe').apply(mount_v3io())\n",
    "    describe_run = project.func('describe').run(params={'label_column': 'label'},\n",
    "                                inputs={\"table\":\n",
    "                                        snapshot_data_run.outputs['snapshot_dataset']},\n",
    "                                artifact_path=project.artifact_path)"
   ]
  },
  {
   "cell_type": "markdown",
   "metadata": {},
   "source": [
    "#### Training (part of optional model training)\n",
    "---------------------\n",
    "function's source and full docstrings can be found at https://github.com/mlrun/functions/tree/master/sklearn_classifier"
   ]
  },
  {
   "cell_type": "code",
   "execution_count": 25,
   "metadata": {},
   "outputs": [
    {
     "name": "stdout",
     "output_type": "stream",
     "text": [
      "> 2021-10-03 09:20:26,074 [info] Started building image: .mlrun/func-model-deployment-pipeline-dani-sklearn-classifier:latest\n",
      "E1003 09:21:08.926917       1 aws_credentials.go:77] while getting AWS credentials NoCredentialProviders: no valid providers in chain. Deprecated.\n",
      "\tFor verbose messaging see aws.Config.CredentialsChainVerboseErrors\n",
      "\u001B[36mINFO\u001B[0m[0040] Retrieving image manifest mlrun/mlrun:0.7.0-rc7 \n",
      "\u001B[36mINFO\u001B[0m[0043] Retrieving image manifest mlrun/mlrun:0.7.0-rc7 \n",
      "\u001B[36mINFO\u001B[0m[0045] Built cross stage deps: map[]                \n",
      "\u001B[36mINFO\u001B[0m[0045] Retrieving image manifest mlrun/mlrun:0.7.0-rc7 \n",
      "\u001B[36mINFO\u001B[0m[0047] Retrieving image manifest mlrun/mlrun:0.7.0-rc7 \n",
      "\u001B[36mINFO\u001B[0m[0050] Executing 0 build triggers                   \n",
      "\u001B[36mINFO\u001B[0m[0050] Unpacking rootfs as cmd RUN pip install scikit-learn==0.24.2 requires it. \n",
      "\u001B[36mINFO\u001B[0m[0073] RUN pip install scikit-learn==0.24.2         \n",
      "\u001B[36mINFO\u001B[0m[0073] Taking snapshot of full filesystem...        \n",
      "\u001B[36mINFO\u001B[0m[0080] cmd: /bin/sh                                 \n",
      "\u001B[36mINFO\u001B[0m[0080] args: [-c pip install scikit-learn==0.24.2]  \n",
      "\u001B[36mINFO\u001B[0m[0080] Running: [/bin/sh -c pip install scikit-learn==0.24.2] \n",
      "Collecting scikit-learn==0.24.2\n",
      "  Downloading scikit_learn-0.24.2-cp37-cp37m-manylinux2010_x86_64.whl (22.3 MB)\n",
      "Requirement already satisfied: numpy>=1.13.3 in /usr/local/lib/python3.7/site-packages (from scikit-learn==0.24.2) (1.19.5)\n",
      "Requirement already satisfied: threadpoolctl>=2.0.0 in /usr/local/lib/python3.7/site-packages (from scikit-learn==0.24.2) (2.2.0)\n",
      "Requirement already satisfied: scipy>=0.19.1 in /usr/local/lib/python3.7/site-packages (from scikit-learn==0.24.2) (1.7.1)\n",
      "Requirement already satisfied: joblib>=0.11 in /usr/local/lib/python3.7/site-packages (from scikit-learn==0.24.2) (1.0.1)\n",
      "Installing collected packages: scikit-learn\n",
      "  Attempting uninstall: scikit-learn\n",
      "    Found existing installation: scikit-learn 0.23.2\n",
      "    Uninstalling scikit-learn-0.23.2:\n",
      "      Successfully uninstalled scikit-learn-0.23.2\n",
      "Successfully installed scikit-learn-0.24.2\n",
      "WARNING: You are using pip version 20.2.4; however, version 21.2.4 is available.\n",
      "You should consider upgrading via the '/usr/local/bin/python -m pip install --upgrade pip' command.\n",
      "\u001B[36mINFO\u001B[0m[0087] Taking snapshot of full filesystem...        \n",
      "> 2021-10-03 09:22:04,977 [info] starting run train uid=50c3165e4b2441138768ea223e3350f3 DB=http://mlrun-api:8080\n",
      "> 2021-10-03 09:22:05,100 [info] Job is running in the background, pod: train-49fc5\n",
      "> 2021-10-03 09:22:19,430 [info] best iteration=3, used criteria max.accuracy\n",
      "> 2021-10-03 09:22:19,755 [info] run executed, status=completed\n",
      "lbfgs failed to converge (status=1):\n",
      "STOP: TOTAL NO. of ITERATIONS REACHED LIMIT.\n",
      "\n",
      "Increase the number of iterations (max_iter) or scale the data as shown in:\n",
      "    https://scikit-learn.org/stable/modules/preprocessing.html\n",
      "Please also refer to the documentation for alternative solver options:\n",
      "    https://scikit-learn.org/stable/modules/linear_model.html#logistic-regression\n",
      "final state: completed\n"
     ]
    },
    {
     "data": {
      "text/html": [
       "<style>\n",
       ".dictlist {\n",
       "  background-color: #4EC64B;\n",
       "  text-align: center;\n",
       "  margin: 4px;\n",
       "  border-radius: 3px; padding: 0px 3px 1px 3px; display: inline-block;}\n",
       ".artifact {\n",
       "  cursor: pointer;\n",
       "  background-color: #4EC64B;\n",
       "  text-align: left;\n",
       "  margin: 4px; border-radius: 3px; padding: 0px 3px 1px 3px; display: inline-block;\n",
       "}\n",
       "div.block.hidden {\n",
       "  display: none;\n",
       "}\n",
       ".clickable {\n",
       "  cursor: pointer;\n",
       "}\n",
       ".ellipsis {\n",
       "  display: inline-block;\n",
       "  max-width: 60px;\n",
       "  white-space: nowrap;\n",
       "  overflow: hidden;\n",
       "  text-overflow: ellipsis;\n",
       "}\n",
       ".master-wrapper {\n",
       "  display: flex;\n",
       "  flex-flow: row nowrap;\n",
       "  justify-content: flex-start;\n",
       "  align-items: stretch;\n",
       "}\n",
       ".master-tbl {\n",
       "  flex: 3\n",
       "}\n",
       ".master-wrapper > div {\n",
       "  margin: 4px;\n",
       "  padding: 10px;\n",
       "}\n",
       "iframe.fileview {\n",
       "  border: 0 none;\n",
       "  height: 100%;\n",
       "  width: 100%;\n",
       "  white-space: pre-wrap;\n",
       "}\n",
       ".pane-header-title {\n",
       "  width: 80%;\n",
       "  font-weight: 500;\n",
       "}\n",
       ".pane-header {\n",
       "  line-height: 1;\n",
       "  background-color: #4EC64B;\n",
       "  padding: 3px;\n",
       "}\n",
       ".pane-header .close {\n",
       "  font-size: 20px;\n",
       "  font-weight: 700;\n",
       "  float: right;\n",
       "  margin-top: -5px;\n",
       "}\n",
       ".master-wrapper .right-pane {\n",
       "  border: 1px inset silver;\n",
       "  width: 40%;\n",
       "  min-height: 300px;\n",
       "  flex: 3\n",
       "  min-width: 500px;\n",
       "}\n",
       ".master-wrapper * {\n",
       "  box-sizing: border-box;\n",
       "}\n",
       "</style><script>\n",
       "function copyToClipboard(fld) {\n",
       "    if (document.queryCommandSupported && document.queryCommandSupported('copy')) {\n",
       "        var textarea = document.createElement('textarea');\n",
       "        textarea.textContent = fld.innerHTML;\n",
       "        textarea.style.position = 'fixed';\n",
       "        document.body.appendChild(textarea);\n",
       "        textarea.select();\n",
       "\n",
       "        try {\n",
       "            return document.execCommand('copy'); // Security exception may be thrown by some browsers.\n",
       "        } catch (ex) {\n",
       "\n",
       "        } finally {\n",
       "            document.body.removeChild(textarea);\n",
       "        }\n",
       "    }\n",
       "}\n",
       "function expandPanel(el) {\n",
       "  const panelName = \"#\" + el.getAttribute('paneName');\n",
       "  console.log(el.title);\n",
       "\n",
       "  document.querySelector(panelName + \"-title\").innerHTML = el.title\n",
       "  iframe = document.querySelector(panelName + \"-body\");\n",
       "\n",
       "  const tblcss = `<style> body { font-family: Arial, Helvetica, sans-serif;}\n",
       "    #csv { margin-bottom: 15px; }\n",
       "    #csv table { border-collapse: collapse;}\n",
       "    #csv table td { padding: 4px 8px; border: 1px solid silver;} </style>`;\n",
       "\n",
       "  function csvToHtmlTable(str) {\n",
       "    return '<div id=\"csv\"><table><tr><td>' +  str.replace(/[\\n\\r]+$/g, '').replace(/[\\n\\r]+/g, '</td></tr><tr><td>')\n",
       "      .replace(/,/g, '</td><td>') + '</td></tr></table></div>';\n",
       "  }\n",
       "\n",
       "  function reqListener () {\n",
       "    if (el.title.endsWith(\".csv\")) {\n",
       "      iframe.setAttribute(\"srcdoc\", tblcss + csvToHtmlTable(this.responseText));\n",
       "    } else {\n",
       "      iframe.setAttribute(\"srcdoc\", this.responseText);\n",
       "    }\n",
       "    console.log(this.responseText);\n",
       "  }\n",
       "\n",
       "  const oReq = new XMLHttpRequest();\n",
       "  oReq.addEventListener(\"load\", reqListener);\n",
       "  oReq.open(\"GET\", el.title);\n",
       "  oReq.send();\n",
       "\n",
       "\n",
       "  //iframe.src = el.title;\n",
       "  const resultPane = document.querySelector(panelName + \"-pane\");\n",
       "  if (resultPane.classList.contains(\"hidden\")) {\n",
       "    resultPane.classList.remove(\"hidden\");\n",
       "  }\n",
       "}\n",
       "function closePanel(el) {\n",
       "  const panelName = \"#\" + el.getAttribute('paneName')\n",
       "  const resultPane = document.querySelector(panelName + \"-pane\");\n",
       "  if (!resultPane.classList.contains(\"hidden\")) {\n",
       "    resultPane.classList.add(\"hidden\");\n",
       "  }\n",
       "}\n",
       "\n",
       "</script>\n",
       "<div class=\"master-wrapper\">\n",
       "  <div class=\"block master-tbl\"><div>\n",
       "<style scoped>\n",
       "    .dataframe tbody tr th:only-of-type {\n",
       "        vertical-align: middle;\n",
       "    }\n",
       "\n",
       "    .dataframe tbody tr th {\n",
       "        vertical-align: top;\n",
       "    }\n",
       "\n",
       "    .dataframe thead th {\n",
       "        text-align: right;\n",
       "    }\n",
       "</style>\n",
       "<table border=\"1\" class=\"dataframe\">\n",
       "  <thead>\n",
       "    <tr style=\"text-align: right;\">\n",
       "      <th>project</th>\n",
       "      <th>uid</th>\n",
       "      <th>iter</th>\n",
       "      <th>start</th>\n",
       "      <th>state</th>\n",
       "      <th>name</th>\n",
       "      <th>labels</th>\n",
       "      <th>inputs</th>\n",
       "      <th>parameters</th>\n",
       "      <th>results</th>\n",
       "      <th>artifacts</th>\n",
       "    </tr>\n",
       "  </thead>\n",
       "  <tbody>\n",
       "    <tr>\n",
       "      <td>model-deployment-pipeline-dani</td>\n",
       "      <td><div title=\"50c3165e4b2441138768ea223e3350f3\"><a href=\"https://dashboard.default-tenant.app.dev8.lab.iguazeng.com/mlprojects/model-deployment-pipeline-dani/jobs/monitor/50c3165e4b2441138768ea223e3350f3/overview\" target=\"_blank\" >...3e3350f3</a></div></td>\n",
       "      <td>0</td>\n",
       "      <td>Oct 03 09:22:11</td>\n",
       "      <td>completed</td>\n",
       "      <td>train</td>\n",
       "      <td><div class=\"dictlist\">v3io_user=dani</div><div class=\"dictlist\">kind=job</div><div class=\"dictlist\">owner=dani</div></td>\n",
       "      <td><div title=\"store://artifacts/model-deployment-pipeline-dani/get-data-snapshot-snapshot_data_snapshot_dataset:94f2a68ce68e4d72be34e65c9e8405f2\">dataset</div></td>\n",
       "      <td><div class=\"dictlist\">sample=-1</div><div class=\"dictlist\">label_column=label</div><div class=\"dictlist\">test_size=0.1</div></td>\n",
       "      <td><div class=\"dictlist\">best_iteration=3</div><div class=\"dictlist\">accuracy=0.99666874869873</div><div class=\"dictlist\">test-error=0.0033312513012700396</div><div class=\"dictlist\">rocauc=0.9999139585278023</div><div class=\"dictlist\">brier_score=0.12973866409055337</div><div class=\"dictlist\">f1-score=0.9976324356318437</div><div class=\"dictlist\">precision_score=0.9985189573459715</div><div class=\"dictlist\">recall_score=0.9967474866942637</div></td>\n",
       "      <td><div title=\"/User/test/demos/model-deployment-pipeline/artifacts/data/3/test_set.parquet\">test_set</div><div class=\"artifact\" onclick=\"expandPanel(this)\" paneName=\"result3765ccf6\" title=\"/files/test/demos/model-deployment-pipeline/artifacts/model/plots/3/probability-calibration.html\">probability-calibration</div><div class=\"artifact\" onclick=\"expandPanel(this)\" paneName=\"result3765ccf6\" title=\"/files/test/demos/model-deployment-pipeline/artifacts/model/plots/3/confusion-matrix.html\">confusion-matrix</div><div class=\"artifact\" onclick=\"expandPanel(this)\" paneName=\"result3765ccf6\" title=\"/files/test/demos/model-deployment-pipeline/artifacts/model/plots/3/feature-importances.html\">feature-importances</div><div class=\"artifact\" onclick=\"expandPanel(this)\" paneName=\"result3765ccf6\" title=\"/files/test/demos/model-deployment-pipeline/artifacts/model/plots/3/precision-recall-binary.html\">precision-recall-binary</div><div class=\"artifact\" onclick=\"expandPanel(this)\" paneName=\"result3765ccf6\" title=\"/files/test/demos/model-deployment-pipeline/artifacts/model/plots/3/roc-binary.html\">roc-binary</div><div title=\"/User/test/demos/model-deployment-pipeline/artifacts/model/3\">model</div><div class=\"artifact\" onclick=\"expandPanel(this)\" paneName=\"result3765ccf6\" title=\"/files/test/demos/model-deployment-pipeline/artifacts/iteration_results.csv\">iteration_results</div></td>\n",
       "    </tr>\n",
       "  </tbody>\n",
       "</table>\n",
       "</div></div>\n",
       "  <div id=\"result3765ccf6-pane\" class=\"right-pane block hidden\">\n",
       "    <div class=\"pane-header\">\n",
       "      <span id=\"result3765ccf6-title\" class=\"pane-header-title\">Title</span>\n",
       "      <span onclick=\"closePanel(this)\" paneName=\"result3765ccf6\" class=\"close clickable\">&times;</span>\n",
       "    </div>\n",
       "    <iframe class=\"fileview\" id=\"result3765ccf6-body\"></iframe>\n",
       "  </div>\n",
       "</div>\n"
      ],
      "text/plain": [
       "<IPython.core.display.HTML object>"
      ]
     },
     "metadata": {},
     "output_type": "display_data"
    },
    {
     "name": "stdout",
     "output_type": "stream",
     "text": [
      "\n"
     ]
    },
    {
     "data": {
      "text/html": [
       "<b> > to track results use the .show() or .logs() methods  or <a href=\"https://dashboard.default-tenant.app.dev8.lab.iguazeng.com/mlprojects/model-deployment-pipeline-dani/jobs/monitor/50c3165e4b2441138768ea223e3350f3/overview\" target=\"_blank\">click here</a> to open in UI</b>"
      ],
      "text/plain": [
       "<IPython.core.display.HTML object>"
      ]
     },
     "metadata": {},
     "output_type": "display_data"
    },
    {
     "name": "stdout",
     "output_type": "stream",
     "text": [
      "> 2021-10-03 09:22:24,343 [info] run executed, status=completed\n"
     ]
    }
   ],
   "source": [
    "if run_training:\n",
    "    project.set_function('hub://sklearn_classifier', 'train',image= 'mlrun/mlrun')\n",
    "    project.func('train').apply(mount_v3io())\n",
    "    project.func('train').spec.build.commands = ['pip install scikit-learn==0.24.2']\n",
    "        # Configure the models to train\n",
    "    models = [\"sklearn.ensemble.RandomForestClassifier\",\n",
    "              \"sklearn.linear_model.LogisticRegression\",\n",
    "              \"sklearn.ensemble.AdaBoostClassifier\"]\n",
    "    \n",
    "    # Create a training task\n",
    "    train_task = NewTask(name=\"train\",\n",
    "                         params={\"sample\": -1,\n",
    "                                 \"label_column\": \"label\",\n",
    "                                 \"test_size\": 0.10},\n",
    "                         inputs={\"dataset\": snapshot_data_run.outputs['snapshot_dataset']})\n",
    "    \n",
    "    # Run the training task\n",
    "    project.func('train').deploy()\n",
    "    train_run = project.func('train').run(train_task.with_hyper_params({'model_pkg_class': models},\n",
    "                                                                        selector='max.accuracy'),\n",
    "                                                                        artifact_path=project.artifact_path)"
   ]
  },
  {
   "cell_type": "code",
   "execution_count": 26,
   "metadata": {},
   "outputs": [
    {
     "data": {
      "text/html": [
       "<b>Best model:</b> sklearn.ensemble.AdaBoostClassifier"
      ],
      "text/plain": [
       "<IPython.core.display.HTML object>"
      ]
     },
     "metadata": {},
     "output_type": "display_data"
    },
    {
     "data": {
      "text/html": [
       "<b>Accuracy:</b> 0.99666874869873"
      ],
      "text/plain": [
       "<IPython.core.display.HTML object>"
      ]
     },
     "metadata": {},
     "output_type": "display_data"
    }
   ],
   "source": [
    "if run_training:\n",
    "    # Display the name of the selected model\n",
    "    from IPython.display import display, HTML\n",
    "\n",
    "    display(HTML(f'<b>Best model:</b> '\n",
    "                 f'{models[train_run.outputs[\"best_iteration\"]-1]}'))\n",
    "\n",
    "    # Display the accuracy for the optimal run iteration\n",
    "    display(HTML(f'<b>Accuracy:</b> {train_run.outputs[\"accuracy\"]}'))\n"
   ]
  },
  {
   "cell_type": "markdown",
   "metadata": {},
   "source": [
    "#### Testing (part of optional model training)"
   ]
  },
  {
   "cell_type": "code",
   "execution_count": 27,
   "metadata": {},
   "outputs": [
    {
     "name": "stdout",
     "output_type": "stream",
     "text": [
      "> 2021-10-03 09:22:24,749 [info] starting run test uid=176344dcd0a04722b296cd1a2cc35a55 DB=http://mlrun-api:8080\n",
      "> 2021-10-03 09:22:24,873 [info] Job is running in the background, pod: test-hp9fj\n",
      "> 2021-10-03 09:22:33,782 [info] run executed, status=completed\n",
      "final state: completed\n"
     ]
    },
    {
     "data": {
      "text/html": [
       "<style>\n",
       ".dictlist {\n",
       "  background-color: #4EC64B;\n",
       "  text-align: center;\n",
       "  margin: 4px;\n",
       "  border-radius: 3px; padding: 0px 3px 1px 3px; display: inline-block;}\n",
       ".artifact {\n",
       "  cursor: pointer;\n",
       "  background-color: #4EC64B;\n",
       "  text-align: left;\n",
       "  margin: 4px; border-radius: 3px; padding: 0px 3px 1px 3px; display: inline-block;\n",
       "}\n",
       "div.block.hidden {\n",
       "  display: none;\n",
       "}\n",
       ".clickable {\n",
       "  cursor: pointer;\n",
       "}\n",
       ".ellipsis {\n",
       "  display: inline-block;\n",
       "  max-width: 60px;\n",
       "  white-space: nowrap;\n",
       "  overflow: hidden;\n",
       "  text-overflow: ellipsis;\n",
       "}\n",
       ".master-wrapper {\n",
       "  display: flex;\n",
       "  flex-flow: row nowrap;\n",
       "  justify-content: flex-start;\n",
       "  align-items: stretch;\n",
       "}\n",
       ".master-tbl {\n",
       "  flex: 3\n",
       "}\n",
       ".master-wrapper > div {\n",
       "  margin: 4px;\n",
       "  padding: 10px;\n",
       "}\n",
       "iframe.fileview {\n",
       "  border: 0 none;\n",
       "  height: 100%;\n",
       "  width: 100%;\n",
       "  white-space: pre-wrap;\n",
       "}\n",
       ".pane-header-title {\n",
       "  width: 80%;\n",
       "  font-weight: 500;\n",
       "}\n",
       ".pane-header {\n",
       "  line-height: 1;\n",
       "  background-color: #4EC64B;\n",
       "  padding: 3px;\n",
       "}\n",
       ".pane-header .close {\n",
       "  font-size: 20px;\n",
       "  font-weight: 700;\n",
       "  float: right;\n",
       "  margin-top: -5px;\n",
       "}\n",
       ".master-wrapper .right-pane {\n",
       "  border: 1px inset silver;\n",
       "  width: 40%;\n",
       "  min-height: 300px;\n",
       "  flex: 3\n",
       "  min-width: 500px;\n",
       "}\n",
       ".master-wrapper * {\n",
       "  box-sizing: border-box;\n",
       "}\n",
       "</style><script>\n",
       "function copyToClipboard(fld) {\n",
       "    if (document.queryCommandSupported && document.queryCommandSupported('copy')) {\n",
       "        var textarea = document.createElement('textarea');\n",
       "        textarea.textContent = fld.innerHTML;\n",
       "        textarea.style.position = 'fixed';\n",
       "        document.body.appendChild(textarea);\n",
       "        textarea.select();\n",
       "\n",
       "        try {\n",
       "            return document.execCommand('copy'); // Security exception may be thrown by some browsers.\n",
       "        } catch (ex) {\n",
       "\n",
       "        } finally {\n",
       "            document.body.removeChild(textarea);\n",
       "        }\n",
       "    }\n",
       "}\n",
       "function expandPanel(el) {\n",
       "  const panelName = \"#\" + el.getAttribute('paneName');\n",
       "  console.log(el.title);\n",
       "\n",
       "  document.querySelector(panelName + \"-title\").innerHTML = el.title\n",
       "  iframe = document.querySelector(panelName + \"-body\");\n",
       "\n",
       "  const tblcss = `<style> body { font-family: Arial, Helvetica, sans-serif;}\n",
       "    #csv { margin-bottom: 15px; }\n",
       "    #csv table { border-collapse: collapse;}\n",
       "    #csv table td { padding: 4px 8px; border: 1px solid silver;} </style>`;\n",
       "\n",
       "  function csvToHtmlTable(str) {\n",
       "    return '<div id=\"csv\"><table><tr><td>' +  str.replace(/[\\n\\r]+$/g, '').replace(/[\\n\\r]+/g, '</td></tr><tr><td>')\n",
       "      .replace(/,/g, '</td><td>') + '</td></tr></table></div>';\n",
       "  }\n",
       "\n",
       "  function reqListener () {\n",
       "    if (el.title.endsWith(\".csv\")) {\n",
       "      iframe.setAttribute(\"srcdoc\", tblcss + csvToHtmlTable(this.responseText));\n",
       "    } else {\n",
       "      iframe.setAttribute(\"srcdoc\", this.responseText);\n",
       "    }\n",
       "    console.log(this.responseText);\n",
       "  }\n",
       "\n",
       "  const oReq = new XMLHttpRequest();\n",
       "  oReq.addEventListener(\"load\", reqListener);\n",
       "  oReq.open(\"GET\", el.title);\n",
       "  oReq.send();\n",
       "\n",
       "\n",
       "  //iframe.src = el.title;\n",
       "  const resultPane = document.querySelector(panelName + \"-pane\");\n",
       "  if (resultPane.classList.contains(\"hidden\")) {\n",
       "    resultPane.classList.remove(\"hidden\");\n",
       "  }\n",
       "}\n",
       "function closePanel(el) {\n",
       "  const panelName = \"#\" + el.getAttribute('paneName')\n",
       "  const resultPane = document.querySelector(panelName + \"-pane\");\n",
       "  if (!resultPane.classList.contains(\"hidden\")) {\n",
       "    resultPane.classList.add(\"hidden\");\n",
       "  }\n",
       "}\n",
       "\n",
       "</script>\n",
       "<div class=\"master-wrapper\">\n",
       "  <div class=\"block master-tbl\"><div>\n",
       "<style scoped>\n",
       "    .dataframe tbody tr th:only-of-type {\n",
       "        vertical-align: middle;\n",
       "    }\n",
       "\n",
       "    .dataframe tbody tr th {\n",
       "        vertical-align: top;\n",
       "    }\n",
       "\n",
       "    .dataframe thead th {\n",
       "        text-align: right;\n",
       "    }\n",
       "</style>\n",
       "<table border=\"1\" class=\"dataframe\">\n",
       "  <thead>\n",
       "    <tr style=\"text-align: right;\">\n",
       "      <th>project</th>\n",
       "      <th>uid</th>\n",
       "      <th>iter</th>\n",
       "      <th>start</th>\n",
       "      <th>state</th>\n",
       "      <th>name</th>\n",
       "      <th>labels</th>\n",
       "      <th>inputs</th>\n",
       "      <th>parameters</th>\n",
       "      <th>results</th>\n",
       "      <th>artifacts</th>\n",
       "    </tr>\n",
       "  </thead>\n",
       "  <tbody>\n",
       "    <tr>\n",
       "      <td>model-deployment-pipeline-dani</td>\n",
       "      <td><div title=\"176344dcd0a04722b296cd1a2cc35a55\"><a href=\"https://dashboard.default-tenant.app.dev8.lab.iguazeng.com/mlprojects/model-deployment-pipeline-dani/jobs/monitor/176344dcd0a04722b296cd1a2cc35a55/overview\" target=\"_blank\" >...2cc35a55</a></div></td>\n",
       "      <td>0</td>\n",
       "      <td>Oct 03 09:22:32</td>\n",
       "      <td>completed</td>\n",
       "      <td>test</td>\n",
       "      <td><div class=\"dictlist\">v3io_user=dani</div><div class=\"dictlist\">kind=job</div><div class=\"dictlist\">owner=dani</div><div class=\"dictlist\">host=test-hp9fj</div></td>\n",
       "      <td><div title=\"store://artifacts/model-deployment-pipeline-dani/train_model:50c3165e4b2441138768ea223e3350f3\">models_path</div><div title=\"store://artifacts/model-deployment-pipeline-dani/train_test_set:50c3165e4b2441138768ea223e3350f3\">test_set</div></td>\n",
       "      <td><div class=\"dictlist\">label_column=label</div><div class=\"dictlist\">plots_dest=plots/test</div></td>\n",
       "      <td><div class=\"dictlist\">accuracy=0.9960652051714446</div><div class=\"dictlist\">test-error=0.0039347948285553686</div><div class=\"dictlist\">rocauc=0.9999204309158478</div><div class=\"dictlist\">brier_score=0.1310127916622303</div><div class=\"dictlist\">f1-score=0.997201119552179</div><div class=\"dictlist\">precision_score=0.9983987189751802</div><div class=\"dictlist\">recall_score=0.9960063897763578</div></td>\n",
       "      <td><div class=\"artifact\" onclick=\"expandPanel(this)\" paneName=\"result73677ae6\" title=\"/files/test/demos/model-deployment-pipeline/artifacts/plots/probability-calibration.html\">probability-calibration</div><div class=\"artifact\" onclick=\"expandPanel(this)\" paneName=\"result73677ae6\" title=\"/files/test/demos/model-deployment-pipeline/artifacts/plots/confusion-matrix.html\">confusion-matrix</div><div class=\"artifact\" onclick=\"expandPanel(this)\" paneName=\"result73677ae6\" title=\"/files/test/demos/model-deployment-pipeline/artifacts/plots/feature-importances.html\">feature-importances</div><div class=\"artifact\" onclick=\"expandPanel(this)\" paneName=\"result73677ae6\" title=\"/files/test/demos/model-deployment-pipeline/artifacts/plots/precision-recall-binary.html\">precision-recall-binary</div><div class=\"artifact\" onclick=\"expandPanel(this)\" paneName=\"result73677ae6\" title=\"/files/test/demos/model-deployment-pipeline/artifacts/plots/roc-binary.html\">roc-binary</div><div title=\"/User/test/demos/model-deployment-pipeline/artifacts/test_set_preds.parquet\">test_set_preds</div></td>\n",
       "    </tr>\n",
       "  </tbody>\n",
       "</table>\n",
       "</div></div>\n",
       "  <div id=\"result73677ae6-pane\" class=\"right-pane block hidden\">\n",
       "    <div class=\"pane-header\">\n",
       "      <span id=\"result73677ae6-title\" class=\"pane-header-title\">Title</span>\n",
       "      <span onclick=\"closePanel(this)\" paneName=\"result73677ae6\" class=\"close clickable\">&times;</span>\n",
       "    </div>\n",
       "    <iframe class=\"fileview\" id=\"result73677ae6-body\"></iframe>\n",
       "  </div>\n",
       "</div>\n"
      ],
      "text/plain": [
       "<IPython.core.display.HTML object>"
      ]
     },
     "metadata": {},
     "output_type": "display_data"
    },
    {
     "name": "stdout",
     "output_type": "stream",
     "text": [
      "\n"
     ]
    },
    {
     "data": {
      "text/html": [
       "<b> > to track results use the .show() or .logs() methods  or <a href=\"https://dashboard.default-tenant.app.dev8.lab.iguazeng.com/mlprojects/model-deployment-pipeline-dani/jobs/monitor/176344dcd0a04722b296cd1a2cc35a55/overview\" target=\"_blank\">click here</a> to open in UI</b>"
      ],
      "text/plain": [
       "<IPython.core.display.HTML object>"
      ]
     },
     "metadata": {},
     "output_type": "display_data"
    },
    {
     "name": "stdout",
     "output_type": "stream",
     "text": [
      "> 2021-10-03 09:22:34,072 [info] run executed, status=completed\n"
     ]
    }
   ],
   "source": [
    "if run_training:\n",
    "    project.set_function('hub://test_classifier', 'test')\n",
    "    project.func('test').apply(mount_v3io())\n",
    "    \n",
    "    test_task = NewTask(name=\"test\",\n",
    "                        params={\"label_column\": \"label\",\n",
    "                                \"plots_dest\": path.join(\"plots\", \"test\")},\n",
    "                        inputs={\"models_path\": train_run.outputs['model'],\n",
    "                                \"test_set\": train_run.outputs['test_set']}\n",
    "                        )\n",
    "    test_run = project.func('test').run(test_task,\n",
    "                        artifact_path=project.artifact_path)"
   ]
  },
  {
   "cell_type": "code",
   "execution_count": 28,
   "metadata": {},
   "outputs": [
    {
     "data": {
      "text/html": [
       "<b>Test Accuracy:</b> 0.9960652051714446"
      ],
      "text/plain": [
       "<IPython.core.display.HTML object>"
      ]
     },
     "metadata": {},
     "output_type": "display_data"
    }
   ],
   "source": [
    "if run_training:\n",
    "    # Display the model accuracy\n",
    "    display(HTML(f'<b>Test Accuracy:</b> {test_run.outputs[\"accuracy\"]}'))"
   ]
  },
  {
   "cell_type": "markdown",
   "metadata": {},
   "source": [
    "#### Serving"
   ]
  },
  {
   "cell_type": "code",
   "execution_count": 29,
   "metadata": {},
   "outputs": [
    {
     "name": "stdout",
     "output_type": "stream",
     "text": [
      "> 2021-10-03 09:22:34,491 [info] Starting remote function deploy\n",
      "2021-10-03 09:22:34  (info) Deploying function\n",
      "2021-10-03 09:22:34  (info) Building\n",
      "2021-10-03 09:22:34  (info) Staging files and preparing base images\n",
      "2021-10-03 09:22:34  (info) Building processor image\n",
      "2021-10-03 09:22:36  (info) Build complete\n",
      "> 2021-10-03 09:22:46,364 [info] successfully deployed function: {'internal_invocation_urls': ['nuclio-model-deployment-pipeline-dani-v2-model-server.default-tenant.svc.cluster.local:8080'], 'external_invocation_urls': ['default-tenant.app.dev8.lab.iguazeng.com:30332']}\n"
     ]
    },
    {
     "data": {
      "text/plain": [
       "'http://default-tenant.app.dev8.lab.iguazeng.com:30332'"
      ]
     },
     "execution_count": 29,
     "metadata": {},
     "output_type": "execute_result"
    }
   ],
   "source": [
    "project.set_function('hub://v2_model_server', 'serving')\n",
    "\n",
    "serving = project.func('serving').apply(mount_v3io())\n",
    "if 'train_run' in locals() and train_run.outputs.get('model') is not None:\n",
    "    serving.add_model('my_model', train_run.outputs.get('model'),class_name='ClassifierModel')\n",
    "else:\n",
    "    serving.add_model('my_model', path.join(getcwd(), 'assets/model.pkl'),class_name='ClassifierModel')\n",
    "\n",
    "serving.set_tracking(path.join('v3io:///',container, stream_configs['inference-stream']['path']),\n",
    "                     stream_args={\"access_key\": getenv(\"V3IO_ACCESS_KEY\")})\n",
    "\n",
    "serving_stream = '/'.join(s.strip('/') for s in [web_api_users, stream_configs['serving-stream']['path']]) + '@ms'\n",
    "serving.add_trigger('serving_stream',\n",
    "                    nuclio.triggers.V3IOStreamTrigger(url=serving_stream,\n",
    "                                                      maxWorkers=stream_configs['serving-stream']['shard_count']+2,\n",
    "                                                      seekTo='earliest'))\n",
    "serving.spec.readiness_timeout = 200\n",
    "serving.spec.replicas = 1\n",
    "\n",
    "serving.deploy()"
   ]
  },
  {
   "cell_type": "markdown",
   "metadata": {},
   "source": [
    "#### Inference logger"
   ]
  },
  {
   "cell_type": "code",
   "execution_count": 30,
   "metadata": {},
   "outputs": [
    {
     "name": "stdout",
     "output_type": "stream",
     "text": [
      "> 2021-10-03 09:22:49,690 [info] Starting remote function deploy\n",
      "2021-10-03 09:22:49  (info) Deploying function\n",
      "2021-10-03 09:22:49  (info) Building\n",
      "2021-10-03 09:22:49  (info) Staging files and preparing base images\n",
      "2021-10-03 09:22:49  (info) Building processor image\n",
      "2021-10-03 09:22:51  (info) Build complete\n",
      "2021-10-03 09:22:57  (info) Function deploy complete\n",
      "> 2021-10-03 09:22:58,507 [info] successfully deployed function: {'internal_invocation_urls': ['nuclio-model-deployment-pipeline-dani-inference-logger.default-tenant.svc.cluster.local:8080'], 'external_invocation_urls': ['default-tenant.app.dev8.lab.iguazeng.com:31257']}\n"
     ]
    },
    {
     "data": {
      "text/plain": [
       "'http://default-tenant.app.dev8.lab.iguazeng.com:31257'"
      ]
     },
     "execution_count": 30,
     "metadata": {},
     "output_type": "execute_result"
    }
   ],
   "source": [
    "# We will use the same event-handler function for logging the inference stream to parquet.\n",
    "inference_logger = code_to_function(name='inference-logger', handler='handler', kind='nuclio', filename='functions/event-handler.ipynb',image='mlrun/mlrun')\n",
    "inference_logger.spec.readinessTimeoutSeconds = 200\n",
    "project.set_function(inference_logger)\n",
    "\n",
    "il_envs = {'PARQUET_SINK_FLAG': 'true',\n",
    "           'STREAM_SINK_FLAG': 'false',\n",
    "           'PARQUET_TARGET_PATH' : inference_parquet_target_path,\n",
    "           'PARQUET_BATCH_SIZE': 8192,\n",
    "           'TS_KEY': 'when',\n",
    "           'TS_FORMAT': '%Y-%m-%d %H:%M:%S.%f%z',\n",
    "           'FEATURES': \",\".join(feature_list),\n",
    "           'PREDICTIONS': 'about_to_churn',\n",
    "           'CONTAINER': container}\n",
    "project.func('inference-logger').set_envs({**v3io_envs, **il_envs})\n",
    "\n",
    "project.func('inference-logger').apply(mount_v3io())\n",
    "\n",
    "inference_stream = '/'.join(s.strip('/') for s in [web_api_users, stream_configs['inference-stream']['path']]) + '@il'\n",
    "project.func('inference-logger').add_trigger('inference_stream',\n",
    "                                               nuclio.triggers.V3IOStreamTrigger(url=inference_stream,\n",
    "                                                                                 maxWorkers=stream_configs['inference-stream']['shard_count']+2,\n",
    "                                                                                 seekTo='earliest'))\n",
    "project.func('inference-logger').spec.replicas=1\n",
    "project.func('inference-logger').deploy()"
   ]
  },
  {
   "cell_type": "markdown",
   "metadata": {},
   "source": [
    "### Save the Project"
   ]
  },
  {
   "cell_type": "code",
   "execution_count": 31,
   "metadata": {},
   "outputs": [],
   "source": [
    "project.save()"
   ]
  },
  {
   "cell_type": "markdown",
   "metadata": {},
   "source": [
    "## Done"
   ]
  }
 ],
 "metadata": {
  "kernelspec": {
   "display_name": "Python 3",
   "language": "python",
   "name": "python3"
  },
  "language_info": {
   "codemirror_mode": {
    "name": "ipython",
    "version": 3
   },
   "file_extension": ".py",
   "mimetype": "text/x-python",
   "name": "python",
   "nbconvert_exporter": "python",
   "pygments_lexer": "ipython3",
   "version": "3.7.6"
  }
 },
 "nbformat": 4,
 "nbformat_minor": 4
}