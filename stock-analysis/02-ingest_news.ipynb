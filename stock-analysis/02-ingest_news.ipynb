{
 "cells": [
  {
   "cell_type": "markdown",
   "metadata": {},
   "source": [
    "# This notebook handles ingestion of stocks data to feature store"
   ]
  },
  {
   "cell_type": "code",
   "execution_count": 69,
   "metadata": {},
   "outputs": [
    {
     "name": "stdout",
     "output_type": "stream",
     "text": [
      "> 2022-06-06 08:57:04,827 [info] created and saved project stocks\n"
     ]
    }
   ],
   "source": [
    "import mlrun\n",
    "project = mlrun.get_or_create_project(name='stocks',user_project=True, context=\"./\")"
   ]
  },
  {
   "cell_type": "markdown",
   "metadata": {},
   "source": [
    "> <b> Steps </b>\n",
    "> * [Creating mlrun function that reads stocks from yahoo_fin and returning record oriented json](#Creating-mlrun-function-that-reads-stocks-from-yahoo_fin-and-returning-record-oriented-json)\n",
    "> * [Creating a feature set and declaring the graph](#Creating-a-feature-set-and-declaring-the-graph)\n",
    "> * [Dummy ingestion, Deploying ingestion service and getting ingestion endpoint](#Dummy-ingestion,-Deploying-ingestion-service-and-getting-ingestion-endpoint)\n",
    "> * [Testing ingestion service](#Testing-ingestion-service)\n",
    "> * [Creating scheduled mlrun job to invoke our function every time delta](#Creating-scheduled-mlrun-job-to-invoke-our-function-every-time-delta)"
   ]
  },
  {
   "cell_type": "markdown",
   "metadata": {},
   "source": [
    "## Creating mlrun function that reads stocks from yahoo_fin and returning record oriented json\n",
    "similar to ingest_stocks, we collect the data from within the feature-set graph. <br>\n",
    "event sent to graph is real-time configuration."
   ]
  },
  {
   "cell_type": "code",
   "execution_count": 70,
   "metadata": {},
   "outputs": [],
   "source": [
    "USER_NAME = os.environ['V3IO_USERNAME']\n",
    "STREAM_SHARDS = 1 # NO. of input stream shard"
   ]
  },
  {
   "cell_type": "code",
   "execution_count": 71,
   "metadata": {},
   "outputs": [],
   "source": [
    "# serving function configuration\n",
    "SERVING_FUNCTION_RESPONSE = 'SYNC'\n",
    "MIN_REPLICAS = 1 # serving function minimum replicas\n",
    "MAX_REPLICAS = 1 # serving function maximum replicas\n",
    "SERVING_PROCESSING_TIME = 1 # time for the serving function to sleep\n",
    "WORKER_AVAILIBALITY_TIMEOUT = 100\n",
    "INGRESS_TIMEOUT = 150\n",
    "USE_GPU = False # whether the serving function will use GPU (if true - REMOTE_SCALE_RANGE will determine the consumption)"
   ]
  },
  {
   "cell_type": "code",
   "execution_count": 72,
   "metadata": {},
   "outputs": [],
   "source": [
    "# RemoteStep configuration\n",
    "REMOTE_STEP_WORKERS = 1\n",
    "MAX_IN_FLIGHT = 1  # how many simulteneous events on each worker in the serving function\n",
    "REMOTE_STEP_HTTP_TIMEOUT = 150\n",
    "STOREY_QUEUE_SIZE = 8\n",
    "WINDOW_ACK = (STOREY_QUEUE_SIZE+MAX_IN_FLIGHT)*STREAM_SHARDS"
   ]
  },
  {
   "cell_type": "code",
   "execution_count": 73,
   "metadata": {},
   "outputs": [],
   "source": [
    "streams_prefix = \"v3io:///users/\"+USER_NAME+\"/\"\n",
    "news_stream = streams_prefix + \"news_stream\"\n"
   ]
  },
  {
   "cell_type": "code",
   "execution_count": 74,
   "metadata": {},
   "outputs": [
    {
     "name": "stdout",
     "output_type": "stream",
     "text": [
      "> 2022-06-06 08:57:26,864 [info] Starting remote function deploy\n",
      "2022-06-06 08:57:27  (info) Deploying function\n",
      "2022-06-06 08:57:27  (info) Building\n",
      "2022-06-06 08:57:27  (info) Staging files and preparing base images\n",
      "2022-06-06 08:57:27  (info) Building processor image\n",
      "2022-06-06 08:59:23  (info) Build complete\n",
      "2022-06-06 09:01:21  (info) Function deploy complete\n",
      "> 2022-06-06 09:01:22,333 [info] successfully deployed function: {'internal_invocation_urls': ['nuclio-stocks-avia-sentiment-analysis-serving.default-tenant.svc.cluster.local:8080'], 'external_invocation_urls': ['stocks-avia-sentiment-analysis-serving-stocks-avia.default-tenant.app.dev39.lab.iguazeng.com/']}\n"
     ]
    }
   ],
   "source": [
    "import nuclio\n",
    "import mlrun\n",
    "\n",
    "model_location = 'https://iguazio-sample-data.s3.amazonaws.com/models/model.pt'\n",
    "scaled_function = mlrun.import_function('hub://sentiment_analysis_serving:development')\n",
    "scaled_function.spec.min_replicas = MIN_REPLICAS\n",
    "scaled_function.spec.max_replicas = MAX_REPLICAS\n",
    "scaled_function.add_model('sentiment_analysis_model', model_path=model_location,\n",
    "                          class_name='SentimentClassifierServing')\n",
    "\n",
    "scaled_function.with_http(workers=REMOTE_STEP_WORKERS, gateway_timeout=INGRESS_TIMEOUT,\n",
    "                          worker_timeout=WORKER_AVAILIBALITY_TIMEOUT)\n",
    "\n",
    "env_vars = {\"SERVING_FUNCTION_TIME_TO_SLEEP\": SERVING_PROCESSING_TIME}\n",
    "\n",
    "scaled_function.set_envs(env_vars)\n",
    "scaled_function.spec.readiness_timeout = 300\n",
    "address = scaled_function.deploy()"
   ]
  },
  {
   "cell_type": "code",
   "execution_count": 75,
   "metadata": {},
   "outputs": [],
   "source": [
    "#mlrun: start-code\n",
    "\n",
    "import yahoo_fin.stock_info as si\n",
    "import yahoo_fin.news as ynews\n",
    "from dateutil import parser\n",
    "import pandas as pd\n",
    "import json\n",
    "import requests\n",
    "from storey import MapClass, Event\n",
    "import string\n",
    "import mlrun\n",
    "\n",
    "def print_event(event):    \n",
    "    sentiment = event.body['outputs']['predictions'][0]/2\n",
    "    return_event = Event(body={'sentiment': sentiment}, key=event.body['outputs']['meta_data']['ticker'], time=event.body['outputs']['meta_data']['Datetime'])\n",
    "    print(return_event)\n",
    "    return return_event\n",
    "\n",
    "\n",
    "def wrap_event(event):\n",
    "    print(event)\n",
    "    wrapped_event = {'meta_data': {'ticker': event['ticker'], 'Datetime': event['Datetime']}, 'inputs': [event['summary']]}\n",
    "    print(wrapped_event)\n",
    "    return wrapped_event\n",
    "\n",
    "def remove_punctuation(text):\n",
    "    punctuationfree = \"\".join([i for i in text if i not in string.punctuation])\n",
    "    return punctuationfree\n",
    "\n",
    "\n",
    "def get_news(event):\n",
    "    '''\n",
    "    event: dict with the following keys:\n",
    "    n_stocks - how many stocks to collect\n",
    "    '''\n",
    "    tickers = si.tickers_sp500()[:event['n_stocks']]\n",
    "    tickers_news = []\n",
    "    for ticker in tickers:\n",
    "        news = ynews.get_yf_rss(ticker=ticker)\n",
    "        news_df = pd.DataFrame(news)\n",
    "        df_copy = news_df[['title', 'summary', 'link', 'published']].copy()\n",
    "        df_copy['ticker'] = ticker\n",
    "        df_copy['Datetime'] = df_copy['published'].apply(lambda x: parser.parse(x).strftime('%Y-%m-%d %H:%M:%S'))\n",
    "        df_copy['summary'] = df_copy['summary'].apply(lambda x: remove_punctuation(x))\n",
    "        df_copy['title'] = df_copy['title'].apply(lambda x: remove_punctuation(x))\n",
    "        tickers_news.append(df_copy)\n",
    "    df = pd.concat(tickers_news).reset_index(drop=True)\n",
    "    return json.loads(df.to_json(orient='records'))\n",
    "\n",
    "#mlrun: end-code"
   ]
  },
  {
   "cell_type": "markdown",
   "metadata": {},
   "source": [
    "## Creating a feature set and declaring the graph"
   ]
  },
  {
   "cell_type": "code",
   "execution_count": 76,
   "metadata": {},
   "outputs": [
    {
     "data": {
      "image/svg+xml": [
       "<?xml version=\"1.0\" encoding=\"UTF-8\" standalone=\"no\"?>\n",
       "<!DOCTYPE svg PUBLIC \"-//W3C//DTD SVG 1.1//EN\"\n",
       " \"http://www.w3.org/Graphics/SVG/1.1/DTD/svg11.dtd\">\n",
       "<!-- Generated by graphviz version 2.40.1 (20161225.0304)\n",
       " -->\n",
       "<!-- Title: mlrun&#45;flow Pages: 1 -->\n",
       "<svg width=\"1168pt\" height=\"98pt\"\n",
       " viewBox=\"0.00 0.00 1168.44 98.00\" xmlns=\"http://www.w3.org/2000/svg\" xmlns:xlink=\"http://www.w3.org/1999/xlink\">\n",
       "<g id=\"graph0\" class=\"graph\" transform=\"scale(1 1) rotate(0) translate(4 94)\">\n",
       "<title>mlrun&#45;flow</title>\n",
       "<polygon fill=\"#ffffff\" stroke=\"transparent\" points=\"-4,4 -4,-94 1164.441,-94 1164.441,4 -4,4\"/>\n",
       "<!-- _start -->\n",
       "<g id=\"node1\" class=\"node\">\n",
       "<title>_start</title>\n",
       "<polygon fill=\"#d3d3d3\" stroke=\"#000000\" points=\"38.5476,-27.0493 40.698,-27.1479 42.8263,-27.2953 44.9236,-27.4913 46.9815,-27.7353 48.9917,-28.0266 50.9463,-28.3645 52.8377,-28.7479 54.6587,-29.1759 56.4025,-29.6472 58.0628,-30.1606 59.634,-30.7147 61.1107,-31.308 62.4882,-31.9388 63.7625,-32.6054 64.9302,-33.3059 65.9882,-34.0385 66.9343,-34.8012 67.7669,-35.5918 68.4849,-36.4082 69.0878,-37.2481 69.5758,-38.1093 69.9496,-38.9894 70.2102,-39.886 70.3595,-40.7965 70.3997,-41.7186 70.3334,-42.6497 70.1636,-43.5873 69.8937,-44.5287 69.5276,-45.4713 69.0691,-46.4127 68.5225,-47.3503 67.8923,-48.2814 67.1831,-49.2035 66.3996,-50.114 65.5464,-51.0106 64.6285,-51.8907 63.6504,-52.7519 62.617,-53.5918 61.5329,-54.4082 60.4024,-55.1988 59.2299,-55.9615 58.0197,-56.6941 56.7755,-57.3946 55.5012,-58.0612 54.2002,-58.692 52.8757,-59.2853 51.5309,-59.8394 50.1684,-60.3528 48.7908,-60.8241 47.4003,-61.2521 45.9989,-61.6355 44.5886,-61.9734 43.1708,-62.2647 41.7472,-62.5087 40.3189,-62.7047 38.8872,-62.8521 37.4531,-62.9507 36.0175,-63 34.5815,-63 33.146,-62.9507 31.7119,-62.8521 30.2801,-62.7047 28.8519,-62.5087 27.4282,-62.2647 26.0105,-61.9734 24.6001,-61.6355 23.1988,-61.2521 21.8083,-60.8241 20.4306,-60.3528 19.0681,-59.8394 17.7233,-59.2853 16.3989,-58.692 15.0979,-58.0612 13.8236,-57.3946 12.5794,-56.6941 11.3691,-55.9615 10.1967,-55.1988 9.0662,-54.4082 7.982,-53.5918 6.9486,-52.7519 5.9706,-51.8907 5.0526,-51.0106 4.1995,-50.114 3.4159,-49.2035 2.7067,-48.2814 2.0765,-47.3503 1.53,-46.4127 1.0715,-45.4713 .7053,-44.5287 .4355,-43.5873 .2657,-42.6497 .1993,-41.7186 .2395,-40.7965 .3888,-39.886 .6495,-38.9894 1.0232,-38.1093 1.5112,-37.2481 2.1141,-36.4082 2.8321,-35.5918 3.6647,-34.8012 4.6109,-34.0385 5.6689,-33.3059 6.8365,-32.6054 8.1108,-31.9388 9.4884,-31.308 10.9651,-30.7147 12.5362,-30.1606 14.1966,-29.6472 15.9404,-29.1759 17.7614,-28.7479 19.6528,-28.3645 21.6074,-28.0266 23.6176,-27.7353 25.6755,-27.4913 27.7728,-27.2953 29.901,-27.1479 32.0515,-27.0493 34.2154,-27 36.3837,-27 38.5476,-27.0493\"/>\n",
       "<text text-anchor=\"middle\" x=\"35.2995\" y=\"-41.3\" font-family=\"Times,serif\" font-size=\"14.00\" fill=\"#000000\">start</text>\n",
       "</g>\n",
       "<!-- get_news -->\n",
       "<g id=\"node2\" class=\"node\">\n",
       "<title>get_news</title>\n",
       "<ellipse fill=\"none\" stroke=\"#000000\" cx=\"161.1942\" cy=\"-45\" rx=\"54.6905\" ry=\"18\"/>\n",
       "<text text-anchor=\"middle\" x=\"161.1942\" y=\"-41.3\" font-family=\"Times,serif\" font-size=\"14.00\" fill=\"#000000\">get_news</text>\n",
       "</g>\n",
       "<!-- _start&#45;&gt;get_news -->\n",
       "<g id=\"edge1\" class=\"edge\">\n",
       "<title>_start&#45;&gt;get_news</title>\n",
       "<path fill=\"none\" stroke=\"#000000\" d=\"M70.0341,-45C78.1776,-45 87.1155,-45 96.1116,-45\"/>\n",
       "<polygon fill=\"#000000\" stroke=\"#000000\" points=\"96.254,-48.5001 106.254,-45 96.2539,-41.5001 96.254,-48.5001\"/>\n",
       "</g>\n",
       "<!-- flatten_news -->\n",
       "<g id=\"node3\" class=\"node\">\n",
       "<title>flatten_news</title>\n",
       "<ellipse fill=\"none\" stroke=\"#000000\" cx=\"321.9831\" cy=\"-45\" rx=\"70.3881\" ry=\"18\"/>\n",
       "<text text-anchor=\"middle\" x=\"321.9831\" y=\"-41.3\" font-family=\"Times,serif\" font-size=\"14.00\" fill=\"#000000\">flatten_news</text>\n",
       "</g>\n",
       "<!-- get_news&#45;&gt;flatten_news -->\n",
       "<g id=\"edge2\" class=\"edge\">\n",
       "<title>get_news&#45;&gt;flatten_news</title>\n",
       "<path fill=\"none\" stroke=\"#000000\" d=\"M216.0789,-45C224.3179,-45 232.9556,-45 241.5932,-45\"/>\n",
       "<polygon fill=\"#000000\" stroke=\"#000000\" points=\"241.7092,-48.5001 251.7091,-45 241.7091,-41.5001 241.7092,-48.5001\"/>\n",
       "</g>\n",
       "<!-- wrap_event -->\n",
       "<g id=\"node4\" class=\"node\">\n",
       "<title>wrap_event</title>\n",
       "<ellipse fill=\"none\" stroke=\"#000000\" cx=\"493.1711\" cy=\"-45\" rx=\"64.9885\" ry=\"18\"/>\n",
       "<text text-anchor=\"middle\" x=\"493.1711\" y=\"-41.3\" font-family=\"Times,serif\" font-size=\"14.00\" fill=\"#000000\">wrap_event</text>\n",
       "</g>\n",
       "<!-- flatten_news&#45;&gt;wrap_event -->\n",
       "<g id=\"edge3\" class=\"edge\">\n",
       "<title>flatten_news&#45;&gt;wrap_event</title>\n",
       "<path fill=\"none\" stroke=\"#000000\" d=\"M392.6002,-45C400.9159,-45 409.4263,-45 417.804,-45\"/>\n",
       "<polygon fill=\"#000000\" stroke=\"#000000\" points=\"417.9353,-48.5001 427.9353,-45 417.9353,-41.5001 417.9353,-48.5001\"/>\n",
       "</g>\n",
       "<!-- news_stream -->\n",
       "<g id=\"node5\" class=\"node\">\n",
       "<title>news_stream</title>\n",
       "<polygon fill=\"none\" stroke=\"#000000\" points=\"693.1654,-57 594.1654,-57 594.1654,-33 693.1654,-33 705.1654,-45 693.1654,-57\"/>\n",
       "<text text-anchor=\"middle\" x=\"649.6654\" y=\"-41.3\" font-family=\"Times,serif\" font-size=\"14.00\" fill=\"#000000\">news_stream</text>\n",
       "</g>\n",
       "<!-- wrap_event&#45;&gt;news_stream -->\n",
       "<g id=\"edge4\" class=\"edge\">\n",
       "<title>wrap_event&#45;&gt;news_stream</title>\n",
       "<path fill=\"none\" stroke=\"#000000\" d=\"M558.1792,-45C566.657,-45 575.3484,-45 583.8395,-45\"/>\n",
       "<polygon fill=\"#000000\" stroke=\"#000000\" points=\"584.0697,-48.5001 594.0697,-45 584.0696,-41.5001 584.0697,-48.5001\"/>\n",
       "</g>\n",
       "<!-- remote_scale -->\n",
       "<g id=\"node6\" class=\"node\">\n",
       "<title>remote_scale</title>\n",
       "<ellipse fill=\"none\" stroke=\"#000000\" cx=\"813.9589\" cy=\"-45\" rx=\"72.5877\" ry=\"18\"/>\n",
       "<text text-anchor=\"middle\" x=\"813.9589\" y=\"-41.3\" font-family=\"Times,serif\" font-size=\"14.00\" fill=\"#000000\">remote_scale</text>\n",
       "</g>\n",
       "<!-- news_stream&#45;&gt;remote_scale -->\n",
       "<g id=\"edge5\" class=\"edge\">\n",
       "<title>news_stream&#45;&gt;remote_scale</title>\n",
       "<path fill=\"none\" stroke=\"#000000\" d=\"M705.2877,-45C713.5175,-45 722.1453,-45 730.7882,-45\"/>\n",
       "<polygon fill=\"#000000\" stroke=\"#000000\" points=\"730.9182,-48.5001 740.9182,-45 730.9181,-41.5001 730.9182,-48.5001\"/>\n",
       "</g>\n",
       "<!-- print_event -->\n",
       "<g id=\"node7\" class=\"node\">\n",
       "<title>print_event</title>\n",
       "<ellipse fill=\"none\" stroke=\"#000000\" cx=\"987.0967\" cy=\"-45\" rx=\"64.189\" ry=\"18\"/>\n",
       "<text text-anchor=\"middle\" x=\"987.0967\" y=\"-41.3\" font-family=\"Times,serif\" font-size=\"14.00\" fill=\"#000000\">print_event</text>\n",
       "</g>\n",
       "<!-- remote_scale&#45;&gt;print_event -->\n",
       "<g id=\"edge6\" class=\"edge\">\n",
       "<title>remote_scale&#45;&gt;print_event</title>\n",
       "<path fill=\"none\" stroke=\"#000000\" d=\"M886.8831,-45C895.2931,-45 903.8792,-45 912.3133,-45\"/>\n",
       "<polygon fill=\"#000000\" stroke=\"#000000\" points=\"912.5036,-48.5001 922.5035,-45 912.5035,-41.5001 912.5036,-48.5001\"/>\n",
       "</g>\n",
       "<!-- parquet -->\n",
       "<g id=\"node8\" class=\"node\">\n",
       "<title>parquet</title>\n",
       "<path fill=\"none\" stroke=\"#000000\" d=\"M1160.441,-86.7273C1160.441,-88.5331 1144.0812,-90 1123.941,-90 1103.8009,-90 1087.441,-88.5331 1087.441,-86.7273 1087.441,-86.7273 1087.441,-57.2727 1087.441,-57.2727 1087.441,-55.4669 1103.8009,-54 1123.941,-54 1144.0812,-54 1160.441,-55.4669 1160.441,-57.2727 1160.441,-57.2727 1160.441,-86.7273 1160.441,-86.7273\"/>\n",
       "<path fill=\"none\" stroke=\"#000000\" d=\"M1160.441,-86.7273C1160.441,-84.9214 1144.0812,-83.4545 1123.941,-83.4545 1103.8009,-83.4545 1087.441,-84.9214 1087.441,-86.7273\"/>\n",
       "<text text-anchor=\"middle\" x=\"1123.941\" y=\"-68.3\" font-family=\"Times,serif\" font-size=\"14.00\" fill=\"#000000\">parquet</text>\n",
       "</g>\n",
       "<!-- print_event&#45;&gt;parquet -->\n",
       "<g id=\"edge7\" class=\"edge\">\n",
       "<title>print_event&#45;&gt;parquet</title>\n",
       "<path fill=\"none\" stroke=\"#000000\" d=\"M1040.0043,-55.4389C1052.3436,-57.8735 1065.3935,-60.4483 1077.4316,-62.8235\"/>\n",
       "<polygon fill=\"#000000\" stroke=\"#000000\" points=\"1076.7795,-66.2622 1087.2679,-64.7642 1078.1345,-59.3946 1076.7795,-66.2622\"/>\n",
       "</g>\n",
       "<!-- nosql -->\n",
       "<g id=\"node9\" class=\"node\">\n",
       "<title>nosql</title>\n",
       "<path fill=\"none\" stroke=\"#000000\" d=\"M1151.441,-32.7273C1151.441,-34.5331 1139.1151,-36 1123.941,-36 1108.767,-36 1096.441,-34.5331 1096.441,-32.7273 1096.441,-32.7273 1096.441,-3.2727 1096.441,-3.2727 1096.441,-1.4669 1108.767,0 1123.941,0 1139.1151,0 1151.441,-1.4669 1151.441,-3.2727 1151.441,-3.2727 1151.441,-32.7273 1151.441,-32.7273\"/>\n",
       "<path fill=\"none\" stroke=\"#000000\" d=\"M1151.441,-32.7273C1151.441,-30.9214 1139.1151,-29.4545 1123.941,-29.4545 1108.767,-29.4545 1096.441,-30.9214 1096.441,-32.7273\"/>\n",
       "<text text-anchor=\"middle\" x=\"1123.941\" y=\"-14.3\" font-family=\"Times,serif\" font-size=\"14.00\" fill=\"#000000\">nosql</text>\n",
       "</g>\n",
       "<!-- print_event&#45;&gt;nosql -->\n",
       "<g id=\"edge8\" class=\"edge\">\n",
       "<title>print_event&#45;&gt;nosql</title>\n",
       "<path fill=\"none\" stroke=\"#000000\" d=\"M1040.0043,-34.5611C1055.4978,-31.5042 1072.1115,-28.2262 1086.436,-25.3999\"/>\n",
       "<polygon fill=\"#000000\" stroke=\"#000000\" points=\"1087.2798,-28.801 1096.4132,-23.4314 1085.9248,-21.9334 1087.2798,-28.801\"/>\n",
       "</g>\n",
       "</g>\n",
       "</svg>\n"
      ],
      "text/plain": [
       "<graphviz.dot.Digraph at 0x7fe9dc410810>"
      ]
     },
     "execution_count": 76,
     "metadata": {},
     "output_type": "execute_result"
    }
   ],
   "source": [
    "import mlrun.feature_store as fstore\n",
    "from mlrun.feature_store.steps import DateExtractor, MapValues\n",
    "import yahoo_fin.stock_info as si\n",
    "from mlrun.serving.remote import RemoteStep \n",
    "# creating feature set\n",
    "news_set = fstore.FeatureSet(\"stocks_news\", \n",
    "                                 entities=[fstore.Entity(\"ticker\")],\n",
    "                                 timestamp_key='Datetime', \n",
    "                                 description=\"stocks news feature set\")\n",
    "\n",
    "# how many tickers data we ingest (make sure same number used for ingesting news)\n",
    "# n_tickers = 4\n",
    "\n",
    "news_set.graph \\\n",
    "    .to(name='get_news', handler='get_news') \\\n",
    "    .to(\"storey.steps.Flatten\", name=\"flatten_news\") \\\n",
    "    .to(name='wrap_event', handler='wrap_event') \\\n",
    "    .to(\">>\", \"news_stream\", path=news_stream,shards = STREAM_SHARDS)\\\n",
    "    .to(RemoteStep(name=\"remote_scale\", url=address, method=\"POST\", max_in_flight=MAX_IN_FLIGHT,\n",
    "                   timeout=REMOTE_STEP_HTTP_TIMEOUT)) \\\n",
    "    .to(name='print_event', handler='print_event',full_event=True)\n",
    "\n",
    "news_set.set_targets(with_defaults=True) \n",
    "news_set.plot(rankdir=\"LR\", with_targets=True)"
   ]
  },
  {
   "cell_type": "markdown",
   "metadata": {},
   "source": [
    "## Dummy ingestion, Deploying ingestion service and getting ingestion endpoint"
   ]
  },
  {
   "cell_type": "code",
   "execution_count": 77,
   "metadata": {},
   "outputs": [
    {
     "name": "stdout",
     "output_type": "stream",
     "text": [
      "{'title': 'Heres How Much a 1000 Investment in Agilent Technologies Made 10 Years Ago Would Be Worth Today', 'summary': 'Why investing for the long run especially if you buy certain popular stocks could reap huge rewards', 'link': 'https://finance.yahoo.com/news/heres-much-1000-investment-agilent-123012973.html?.tsrc=rss', 'published': 'Fri, 03 Jun 2022 12:30:12 +0000', 'ticker': 'A', 'Datetime': '2022-06-03 12:30:12'}\n",
      "{'meta_data': {'ticker': 'A', 'Datetime': '2022-06-03 12:30:12'}, 'inputs': ['Why investing for the long run especially if you buy certain popular stocks could reap huge rewards']}\n",
      "{'title': 'Agilent to Participate in Goldman Sachs 43rd Annual Global Healthcare Conference', 'summary': 'SANTA CLARA Calif June 01 2022Agilent Technologies Inc NYSE A today announced the company will participate in the Goldman Sachs 43rd Annual Healthcare Conference on Wednesday June 15 in Rancho Palos Verdes California', 'link': 'https://finance.yahoo.com/news/agilent-participate-goldman-sachs-43rd-203000829.html?.tsrc=rss', 'published': 'Wed, 01 Jun 2022 20:30:00 +0000', 'ticker': 'A', 'Datetime': '2022-06-01 20:30:00'}\n",
      "{'meta_data': {'ticker': 'A', 'Datetime': '2022-06-01 20:30:00'}, 'inputs': ['SANTA CLARA Calif June 01 2022Agilent Technologies Inc NYSE A today announced the company will participate in the Goldman Sachs 43rd Annual Healthcare Conference on Wednesday June 15 in Rancho Palos Verdes California']}\n",
      "{'title': 'Agilent Releases IVDRCompliant Instruments Kits and Reagents for Use in the European Union', 'summary': 'SANTA CLARA Calif June 01 2022Agilent Technologies Inc NYSE A today announced that previously CEIVD marked instruments kits and reagents were released as IVDR Class A on May 26 2022 in compliance with the new EU IVDR regulation', 'link': 'https://finance.yahoo.com/news/agilent-releases-ivdr-compliant-instruments-120000233.html?.tsrc=rss', 'published': 'Wed, 01 Jun 2022 12:00:00 +0000', 'ticker': 'A', 'Datetime': '2022-06-01 12:00:00'}\n",
      "{'meta_data': {'ticker': 'A', 'Datetime': '2022-06-01 12:00:00'}, 'inputs': ['SANTA CLARA Calif June 01 2022Agilent Technologies Inc NYSE A today announced that previously CEIVD marked instruments kits and reagents were released as IVDR Class A on May 26 2022 in compliance with the new EU IVDR regulation']}\n",
      "{'title': 'Agilent A to Attract Biopharma Customers With APC TieUp', 'summary': 'Agilent A collaborates with APC Ltd to combine their technologies and develop unique workflows to cater to the needs of customers in the biopharmaceutical and pharmaceutical industry', 'link': 'https://finance.yahoo.com/news/agilent-attract-biopharma-customers-apc-185106288.html?.tsrc=rss', 'published': 'Tue, 31 May 2022 18:51:06 +0000', 'ticker': 'A', 'Datetime': '2022-05-31 18:51:06'}\n",
      "{'meta_data': {'ticker': 'A', 'Datetime': '2022-05-31 18:51:06'}, 'inputs': ['Agilent A collaborates with APC Ltd to combine their technologies and develop unique workflows to cater to the needs of customers in the biopharmaceutical and pharmaceutical industry']}\n",
      "{'title': 'Why This 1 Momentum Stock Could Be a Great Addition to Your Portfolio', 'summary': 'Whether youre a value growth or momentum investor finding strong stocks becomes easier with the Zacks Style Scores a top feature of the Zacks Premium research service', 'link': 'https://finance.yahoo.com/news/why-1-momentum-stock-could-135001134.html?.tsrc=rss', 'published': 'Tue, 31 May 2022 13:50:01 +0000', 'ticker': 'A', 'Datetime': '2022-05-31 13:50:01'}\n",
      "{'meta_data': {'ticker': 'A', 'Datetime': '2022-05-31 13:50:01'}, 'inputs': ['Whether youre a value growth or momentum investor finding strong stocks becomes easier with the Zacks Style Scores a top feature of the Zacks Premium research service']}\n",
      "{'title': 'New to Investing This 1 Computer and Technology Stock Could Be the Perfect Starting Point', 'summary': 'The Zacks Focus List offers investors a way to easily find toprated stocks and build a winning investment portfolio Heres why you should take advantage', 'link': 'https://finance.yahoo.com/news/investing-1-computer-technology-stock-133001272.html?.tsrc=rss', 'published': 'Tue, 31 May 2022 13:30:01 +0000', 'ticker': 'A', 'Datetime': '2022-05-31 13:30:01'}\n",
      "{'meta_data': {'ticker': 'A', 'Datetime': '2022-05-31 13:30:01'}, 'inputs': ['The Zacks Focus List offers investors a way to easily find toprated stocks and build a winning investment portfolio Heres why you should take advantage']}\n",
      "{'title': 'Denarius Announces First Quarter 2022 Results', 'summary': 'TORONTO May 30 2022 GLOBE NEWSWIRE  Denarius Metals Corp “Denarius” or “the Company” TSXV DSLV OTCQB DNRSF announced today that it has filed its unaudited interim condensed consolidated financial statements and accompanying management’s discussion and analysis MDampA for the three months ended March 31 2022 These documents can be found on its website at wwwdenariusmetalscom and by reviewing its profile on SEDAR at wwwsedarcom All financial figures contained herein are expres', 'link': 'https://finance.yahoo.com/news/denarius-announces-first-quarter-2022-214800363.html?.tsrc=rss', 'published': 'Mon, 30 May 2022 21:48:00 +0000', 'ticker': 'A', 'Datetime': '2022-05-30 21:48:00'}\n",
      "{'meta_data': {'ticker': 'A', 'Datetime': '2022-05-30 21:48:00'}, 'inputs': ['TORONTO May 30 2022 GLOBE NEWSWIRE  Denarius Metals Corp “Denarius” or “the Company” TSXV DSLV OTCQB DNRSF announced today that it has filed its unaudited interim condensed consolidated financial statements and accompanying management’s discussion and analysis MDampA for the three months ended March 31 2022 These documents can be found on its website at wwwdenariusmetalscom and by reviewing its profile on SEDAR at wwwsedarcom All financial figures contained herein are expres']}\n",
      "{'title': 'Agilent Announces Collaboration with APC on RealTime Process Monitoring', 'summary': 'SANTA CLARA Calif May 27 2022Agilent Technologies Inc NYSE A today announced a collaboration agreement with APC Ltd in which the companies commit to working towards combining their technologies to provide unique workflows to customers that support automated process analysis via liquid chromatography LC', 'link': 'https://finance.yahoo.com/news/agilent-announces-collaboration-apc-real-120000943.html?.tsrc=rss', 'published': 'Fri, 27 May 2022 12:00:00 +0000', 'ticker': 'A', 'Datetime': '2022-05-27 12:00:00'}\n",
      "{'meta_data': {'ticker': 'A', 'Datetime': '2022-05-27 12:00:00'}, 'inputs': ['SANTA CLARA Calif May 27 2022Agilent Technologies Inc NYSE A today announced a collaboration agreement with APC Ltd in which the companies commit to working towards combining their technologies to provide unique workflows to customers that support automated process analysis via liquid chromatography LC']}\n",
      "{'title': 'Quant Ratings Updated on 75 Stocks', 'summary': 'First I want to thank those who joined me for my special event on Tuesday The Great American Wealth Shift It was a great success and I enjoyed discussing the importance of money flow For those who were unable to make this event a replay of The Great American Wealth Shift is available here for your viewing Not only did we cover money flow but I shared the sector that is about to shed billions and the sector that’s seeing a surge in money flow I also gave away a bonus pick and revealed th', 'link': 'https://finance.yahoo.com/news/quant-ratings-updated-75-stocks-213116462.html?.tsrc=rss', 'published': 'Thu, 26 May 2022 21:31:16 +0000', 'ticker': 'A', 'Datetime': '2022-05-26 21:31:16'}\n",
      "{'meta_data': {'ticker': 'A', 'Datetime': '2022-05-26 21:31:16'}, 'inputs': ['First I want to thank those who joined me for my special event on Tuesday The Great American Wealth Shift It was a great success and I enjoyed discussing the importance of money flow For those who were unable to make this event a replay of The Great American Wealth Shift is available here for your viewing Not only did we cover money flow but I shared the sector that is about to shed billions and the sector that’s seeing a surge in money flow I also gave away a bonus pick and revealed th']}\n",
      "{'title': 'FOCUSSilver Lakes backing of dealmaking CEOs pays off', 'summary': 'Private equity firm Silver Lake has spent years cultivating and backing chief executives enamored with big deals a strategy that pays off handsomely when large acquisitions such as the deal between chipmaker Broadcom Inc and cloud computing company VMware Inc come along  Earlier on Thursday Broadcom said it will acquire VMware for 61 billion the secondbiggest acquisition globally so far this year  Silver Lake whose assets under management are close to 90 billion was deeply involved in the negotiations to combine the two companies according to people familiar with the matter', 'link': 'https://finance.yahoo.com/news/focus-silver-lakes-backing-dealmaking-182700825.html?.tsrc=rss', 'published': 'Thu, 26 May 2022 18:27:00 +0000', 'ticker': 'A', 'Datetime': '2022-05-26 18:27:00'}\n",
      "{'meta_data': {'ticker': 'A', 'Datetime': '2022-05-26 18:27:00'}, 'inputs': ['Private equity firm Silver Lake has spent years cultivating and backing chief executives enamored with big deals a strategy that pays off handsomely when large acquisitions such as the deal between chipmaker Broadcom Inc and cloud computing company VMware Inc come along  Earlier on Thursday Broadcom said it will acquire VMware for 61 billion the secondbiggest acquisition globally so far this year  Silver Lake whose assets under management are close to 90 billion was deeply involved in the negotiations to combine the two companies according to people familiar with the matter']}\n",
      "{'title': 'What Makes Agilent A a New Buy Stock', 'summary': 'Agilent A has been upgraded to a Zacks Rank 2 Buy reflecting growing optimism about the companys earnings prospects This might drive the stock higher in the near term', 'link': 'https://finance.yahoo.com/news/makes-agilent-buy-stock-160004464.html?.tsrc=rss', 'published': 'Thu, 26 May 2022 16:00:04 +0000', 'ticker': 'A', 'Datetime': '2022-05-26 16:00:04'}\n",
      "{'meta_data': {'ticker': 'A', 'Datetime': '2022-05-26 16:00:04'}, 'inputs': ['Agilent A has been upgraded to a Zacks Rank 2 Buy reflecting growing optimism about the companys earnings prospects This might drive the stock higher in the near term']}\n",
      "{'title': 'Wall Street Analysts Predict a 31 Upside in Agilent A Heres What You Should Know', 'summary': 'The mean of analysts price targets for Agilent A points to a 311 upside in the stock While this highly soughtafter metric has not proven reasonably effective strong agreement among analysts in raising earnings estimates does indicate an upside in the stock', 'link': 'https://finance.yahoo.com/news/wall-street-analysts-predict-31-135501042.html?.tsrc=rss', 'published': 'Thu, 26 May 2022 13:55:01 +0000', 'ticker': 'A', 'Datetime': '2022-05-26 13:55:01'}\n",
      "{'meta_data': {'ticker': 'A', 'Datetime': '2022-05-26 13:55:01'}, 'inputs': ['The mean of analysts price targets for Agilent A points to a 311 upside in the stock While this highly soughtafter metric has not proven reasonably effective strong agreement among analysts in raising earnings estimates does indicate an upside in the stock']}\n",
      "{'title': 'Company News for May 26 2022', 'summary': 'Companies In The News Are DKS A DY JWN', 'link': 'https://finance.yahoo.com/news/company-news-may-26-2022-115311364.html?.tsrc=rss', 'published': 'Thu, 26 May 2022 11:53:11 +0000', 'ticker': 'A', 'Datetime': '2022-05-26 11:53:11'}\n",
      "{'meta_data': {'ticker': 'A', 'Datetime': '2022-05-26 11:53:11'}, 'inputs': ['Companies In The News Are DKS A DY JWN']}\n",
      "{'title': 'Agilent A Q2 Earnings Surpass Estimates Revenues Rise YY', 'summary': 'Agilents A results for the fiscal second quarter reflect strong momentum in the pharma and chemical  energy market', 'link': 'https://finance.yahoo.com/news/agilent-q2-earnings-surpass-estimates-183706680.html?.tsrc=rss', 'published': 'Wed, 25 May 2022 18:37:06 +0000', 'ticker': 'A', 'Datetime': '2022-05-25 18:37:06'}\n",
      "{'meta_data': {'ticker': 'A', 'Datetime': '2022-05-25 18:37:06'}, 'inputs': ['Agilents A results for the fiscal second quarter reflect strong momentum in the pharma and chemical  energy market']}\n",
      "{'title': '11 Stocks That Beat Profit Expectations', 'summary': 'In this article we will take a look at the 11 stocks that beat profit expectations You can skip our detailed analysis of these companies and go directly to the 5 Stocks That Beat Profit Expectations Notable companies from the technology healthcare and communication services sectors including Intuit Inc NASDAQINTU Agilent Technologies Inc NYSEA and …', 'link': 'https://finance.yahoo.com/news/11-stocks-beat-profit-expectations-150412143.html?.tsrc=rss', 'published': 'Wed, 25 May 2022 15:04:12 +0000', 'ticker': 'A', 'Datetime': '2022-05-25 15:04:12'}\n",
      "{'meta_data': {'ticker': 'A', 'Datetime': '2022-05-25 15:04:12'}, 'inputs': ['In this article we will take a look at the 11 stocks that beat profit expectations You can skip our detailed analysis of these companies and go directly to the 5 Stocks That Beat Profit Expectations Notable companies from the technology healthcare and communication services sectors including Intuit Inc NASDAQINTU Agilent Technologies Inc NYSEA and …']}\n",
      "{'title': 'Agilent Technologies A Q2 2022 Earnings Call Transcript', 'summary': 'Good afternoon and thank you for attending todays Agilent Technologies Inc Q2 2022 earnings conference call  Thank you Selena and welcome everyone to Agilents conference call for the second quarter of fiscal year 2022  With me are Mike McMullen Agilent president and CEO and Bob McMahon Agilent senior vice president and CFO', 'link': 'https://finance.yahoo.com/m/afe50ba9-6adf-390f-af97-8757eb209549/agilent-technologies-%28a%29-q2.html?.tsrc=rss', 'published': 'Wed, 25 May 2022 05:30:27 +0000', 'ticker': 'A', 'Datetime': '2022-05-25 05:30:27'}\n",
      "{'meta_data': {'ticker': 'A', 'Datetime': '2022-05-25 05:30:27'}, 'inputs': ['Good afternoon and thank you for attending todays Agilent Technologies Inc Q2 2022 earnings conference call  Thank you Selena and welcome everyone to Agilents conference call for the second quarter of fiscal year 2022  With me are Mike McMullen Agilent president and CEO and Bob McMahon Agilent senior vice president and CFO']}\n",
      "{'title': 'Agilent Technologies A Q2 Earnings Beat Estimates', 'summary': 'Agilent A delivered earnings and revenue surprises of 180 and 033 respectively for the quarter ended April 2022 Do the numbers hold clues to what lies ahead for the stock', 'link': 'https://finance.yahoo.com/news/agilent-technologies-q2-earnings-beat-212509120.html?.tsrc=rss', 'published': 'Tue, 24 May 2022 21:25:09 +0000', 'ticker': 'A', 'Datetime': '2022-05-24 21:25:09'}\n",
      "{'meta_data': {'ticker': 'A', 'Datetime': '2022-05-24 21:25:09'}, 'inputs': ['Agilent A delivered earnings and revenue surprises of 180 and 033 respectively for the quarter ended April 2022 Do the numbers hold clues to what lies ahead for the stock']}\n",
      "{'title': 'Agilent’s secondquarter profit widens on higher sales', 'summary': 'The Santa Clara Califbased maker of laboratory instruments reported net income of 274 million up from 216 million in the same period a year earlier', 'link': 'https://finance.yahoo.com/m/014808fd-cc31-37a5-be0b-a186fd91fc2c/agilent%E2%80%99s-second-quarter.html?.tsrc=rss', 'published': 'Tue, 24 May 2022 20:27:00 +0000', 'ticker': 'A', 'Datetime': '2022-05-24 20:27:00'}\n",
      "{'meta_data': {'ticker': 'A', 'Datetime': '2022-05-24 20:27:00'}, 'inputs': ['The Santa Clara Califbased maker of laboratory instruments reported net income of 274 million up from 216 million in the same period a year earlier']}\n",
      "{'title': 'Agilent Reports SecondQuarter Fiscal Year 2022 Financial Results', 'summary': 'SANTA CLARA Calif May 24 2022Agilent today reported revenue of 161 billion for the second quarter ended April 30 2022', 'link': 'https://finance.yahoo.com/news/agilent-reports-second-quarter-fiscal-200500644.html?.tsrc=rss', 'published': 'Tue, 24 May 2022 20:05:00 +0000', 'ticker': 'A', 'Datetime': '2022-05-24 20:05:00'}\n",
      "{'meta_data': {'ticker': 'A', 'Datetime': '2022-05-24 20:05:00'}, 'inputs': ['SANTA CLARA Calif May 24 2022Agilent today reported revenue of 161 billion for the second quarter ended April 30 2022']}\n",
      "{'title': 'Dow Futures Lift as Fears of Slowing Growth Remain', 'summary': 'By Oliver Gray', 'link': 'https://finance.yahoo.com/news/dow-futures-lift-fears-slowing-184805046.html?.tsrc=rss', 'published': 'Tue, 24 May 2022 18:48:05 +0000', 'ticker': 'A', 'Datetime': '2022-05-24 18:48:05'}\n",
      "{'meta_data': {'ticker': 'A', 'Datetime': '2022-05-24 18:48:05'}, 'inputs': ['By Oliver Gray']}\n",
      "{'title': 'Heres How Much a 1000 Investment in Agilent Technologies Made 10 Years Ago Would Be Worth Today', 'summary': 'Why investing for the long run especially if you buy certain popular stocks could reap huge rewards', 'link': 'https://finance.yahoo.com/news/heres-much-1000-investment-agilent-123012973.html?.tsrc=rss', 'published': 'Fri, 03 Jun 2022 12:30:12 +0000', 'ticker': 'A', 'Datetime': '2022-06-03 12:30:12'}\n",
      "{'meta_data': {'ticker': 'A', 'Datetime': '2022-06-03 12:30:12'}, 'inputs': ['Why investing for the long run especially if you buy certain popular stocks could reap huge rewards']}\n",
      "{'title': 'Agilent to Participate in Goldman Sachs 43rd Annual Global Healthcare Conference', 'summary': 'SANTA CLARA Calif June 01 2022Agilent Technologies Inc NYSE A today announced the company will participate in the Goldman Sachs 43rd Annual Healthcare Conference on Wednesday June 15 in Rancho Palos Verdes California', 'link': 'https://finance.yahoo.com/news/agilent-participate-goldman-sachs-43rd-203000829.html?.tsrc=rss', 'published': 'Wed, 01 Jun 2022 20:30:00 +0000', 'ticker': 'A', 'Datetime': '2022-06-01 20:30:00'}\n",
      "{'meta_data': {'ticker': 'A', 'Datetime': '2022-06-01 20:30:00'}, 'inputs': ['SANTA CLARA Calif June 01 2022Agilent Technologies Inc NYSE A today announced the company will participate in the Goldman Sachs 43rd Annual Healthcare Conference on Wednesday June 15 in Rancho Palos Verdes California']}\n",
      "{'title': 'Agilent Releases IVDRCompliant Instruments Kits and Reagents for Use in the European Union', 'summary': 'SANTA CLARA Calif June 01 2022Agilent Technologies Inc NYSE A today announced that previously CEIVD marked instruments kits and reagents were released as IVDR Class A on May 26 2022 in compliance with the new EU IVDR regulation', 'link': 'https://finance.yahoo.com/news/agilent-releases-ivdr-compliant-instruments-120000233.html?.tsrc=rss', 'published': 'Wed, 01 Jun 2022 12:00:00 +0000', 'ticker': 'A', 'Datetime': '2022-06-01 12:00:00'}\n",
      "{'meta_data': {'ticker': 'A', 'Datetime': '2022-06-01 12:00:00'}, 'inputs': ['SANTA CLARA Calif June 01 2022Agilent Technologies Inc NYSE A today announced that previously CEIVD marked instruments kits and reagents were released as IVDR Class A on May 26 2022 in compliance with the new EU IVDR regulation']}\n",
      "{'title': 'Agilent A to Attract Biopharma Customers With APC TieUp', 'summary': 'Agilent A collaborates with APC Ltd to combine their technologies and develop unique workflows to cater to the needs of customers in the biopharmaceutical and pharmaceutical industry', 'link': 'https://finance.yahoo.com/news/agilent-attract-biopharma-customers-apc-185106288.html?.tsrc=rss', 'published': 'Tue, 31 May 2022 18:51:06 +0000', 'ticker': 'A', 'Datetime': '2022-05-31 18:51:06'}\n",
      "{'meta_data': {'ticker': 'A', 'Datetime': '2022-05-31 18:51:06'}, 'inputs': ['Agilent A collaborates with APC Ltd to combine their technologies and develop unique workflows to cater to the needs of customers in the biopharmaceutical and pharmaceutical industry']}\n",
      "{'title': 'Why This 1 Momentum Stock Could Be a Great Addition to Your Portfolio', 'summary': 'Whether youre a value growth or momentum investor finding strong stocks becomes easier with the Zacks Style Scores a top feature of the Zacks Premium research service', 'link': 'https://finance.yahoo.com/news/why-1-momentum-stock-could-135001134.html?.tsrc=rss', 'published': 'Tue, 31 May 2022 13:50:01 +0000', 'ticker': 'A', 'Datetime': '2022-05-31 13:50:01'}\n",
      "{'meta_data': {'ticker': 'A', 'Datetime': '2022-05-31 13:50:01'}, 'inputs': ['Whether youre a value growth or momentum investor finding strong stocks becomes easier with the Zacks Style Scores a top feature of the Zacks Premium research service']}\n",
      "{'title': 'New to Investing This 1 Computer and Technology Stock Could Be the Perfect Starting Point', 'summary': 'The Zacks Focus List offers investors a way to easily find toprated stocks and build a winning investment portfolio Heres why you should take advantage', 'link': 'https://finance.yahoo.com/news/investing-1-computer-technology-stock-133001272.html?.tsrc=rss', 'published': 'Tue, 31 May 2022 13:30:01 +0000', 'ticker': 'A', 'Datetime': '2022-05-31 13:30:01'}\n",
      "{'meta_data': {'ticker': 'A', 'Datetime': '2022-05-31 13:30:01'}, 'inputs': ['The Zacks Focus List offers investors a way to easily find toprated stocks and build a winning investment portfolio Heres why you should take advantage']}\n",
      "{'title': 'Denarius Announces First Quarter 2022 Results', 'summary': 'TORONTO May 30 2022 GLOBE NEWSWIRE  Denarius Metals Corp “Denarius” or “the Company” TSXV DSLV OTCQB DNRSF announced today that it has filed its unaudited interim condensed consolidated financial statements and accompanying management’s discussion and analysis MDampA for the three months ended March 31 2022 These documents can be found on its website at wwwdenariusmetalscom and by reviewing its profile on SEDAR at wwwsedarcom All financial figures contained herein are expres', 'link': 'https://finance.yahoo.com/news/denarius-announces-first-quarter-2022-214800363.html?.tsrc=rss', 'published': 'Mon, 30 May 2022 21:48:00 +0000', 'ticker': 'A', 'Datetime': '2022-05-30 21:48:00'}\n",
      "{'meta_data': {'ticker': 'A', 'Datetime': '2022-05-30 21:48:00'}, 'inputs': ['TORONTO May 30 2022 GLOBE NEWSWIRE  Denarius Metals Corp “Denarius” or “the Company” TSXV DSLV OTCQB DNRSF announced today that it has filed its unaudited interim condensed consolidated financial statements and accompanying management’s discussion and analysis MDampA for the three months ended March 31 2022 These documents can be found on its website at wwwdenariusmetalscom and by reviewing its profile on SEDAR at wwwsedarcom All financial figures contained herein are expres']}\n",
      "{'title': 'Agilent Announces Collaboration with APC on RealTime Process Monitoring', 'summary': 'SANTA CLARA Calif May 27 2022Agilent Technologies Inc NYSE A today announced a collaboration agreement with APC Ltd in which the companies commit to working towards combining their technologies to provide unique workflows to customers that support automated process analysis via liquid chromatography LC', 'link': 'https://finance.yahoo.com/news/agilent-announces-collaboration-apc-real-120000943.html?.tsrc=rss', 'published': 'Fri, 27 May 2022 12:00:00 +0000', 'ticker': 'A', 'Datetime': '2022-05-27 12:00:00'}\n",
      "{'meta_data': {'ticker': 'A', 'Datetime': '2022-05-27 12:00:00'}, 'inputs': ['SANTA CLARA Calif May 27 2022Agilent Technologies Inc NYSE A today announced a collaboration agreement with APC Ltd in which the companies commit to working towards combining their technologies to provide unique workflows to customers that support automated process analysis via liquid chromatography LC']}\n",
      "{'title': 'Quant Ratings Updated on 75 Stocks', 'summary': 'First I want to thank those who joined me for my special event on Tuesday The Great American Wealth Shift It was a great success and I enjoyed discussing the importance of money flow For those who were unable to make this event a replay of The Great American Wealth Shift is available here for your viewing Not only did we cover money flow but I shared the sector that is about to shed billions and the sector that’s seeing a surge in money flow I also gave away a bonus pick and revealed th', 'link': 'https://finance.yahoo.com/news/quant-ratings-updated-75-stocks-213116462.html?.tsrc=rss', 'published': 'Thu, 26 May 2022 21:31:16 +0000', 'ticker': 'A', 'Datetime': '2022-05-26 21:31:16'}\n",
      "{'meta_data': {'ticker': 'A', 'Datetime': '2022-05-26 21:31:16'}, 'inputs': ['First I want to thank those who joined me for my special event on Tuesday The Great American Wealth Shift It was a great success and I enjoyed discussing the importance of money flow For those who were unable to make this event a replay of The Great American Wealth Shift is available here for your viewing Not only did we cover money flow but I shared the sector that is about to shed billions and the sector that’s seeing a surge in money flow I also gave away a bonus pick and revealed th']}\n",
      "{'title': 'FOCUSSilver Lakes backing of dealmaking CEOs pays off', 'summary': 'Private equity firm Silver Lake has spent years cultivating and backing chief executives enamored with big deals a strategy that pays off handsomely when large acquisitions such as the deal between chipmaker Broadcom Inc and cloud computing company VMware Inc come along  Earlier on Thursday Broadcom said it will acquire VMware for 61 billion the secondbiggest acquisition globally so far this year  Silver Lake whose assets under management are close to 90 billion was deeply involved in the negotiations to combine the two companies according to people familiar with the matter', 'link': 'https://finance.yahoo.com/news/focus-silver-lakes-backing-dealmaking-182700825.html?.tsrc=rss', 'published': 'Thu, 26 May 2022 18:27:00 +0000', 'ticker': 'A', 'Datetime': '2022-05-26 18:27:00'}\n",
      "{'meta_data': {'ticker': 'A', 'Datetime': '2022-05-26 18:27:00'}, 'inputs': ['Private equity firm Silver Lake has spent years cultivating and backing chief executives enamored with big deals a strategy that pays off handsomely when large acquisitions such as the deal between chipmaker Broadcom Inc and cloud computing company VMware Inc come along  Earlier on Thursday Broadcom said it will acquire VMware for 61 billion the secondbiggest acquisition globally so far this year  Silver Lake whose assets under management are close to 90 billion was deeply involved in the negotiations to combine the two companies according to people familiar with the matter']}\n",
      "{'title': 'What Makes Agilent A a New Buy Stock', 'summary': 'Agilent A has been upgraded to a Zacks Rank 2 Buy reflecting growing optimism about the companys earnings prospects This might drive the stock higher in the near term', 'link': 'https://finance.yahoo.com/news/makes-agilent-buy-stock-160004464.html?.tsrc=rss', 'published': 'Thu, 26 May 2022 16:00:04 +0000', 'ticker': 'A', 'Datetime': '2022-05-26 16:00:04'}\n",
      "{'meta_data': {'ticker': 'A', 'Datetime': '2022-05-26 16:00:04'}, 'inputs': ['Agilent A has been upgraded to a Zacks Rank 2 Buy reflecting growing optimism about the companys earnings prospects This might drive the stock higher in the near term']}\n",
      "{'title': 'Wall Street Analysts Predict a 31 Upside in Agilent A Heres What You Should Know', 'summary': 'The mean of analysts price targets for Agilent A points to a 311 upside in the stock While this highly soughtafter metric has not proven reasonably effective strong agreement among analysts in raising earnings estimates does indicate an upside in the stock', 'link': 'https://finance.yahoo.com/news/wall-street-analysts-predict-31-135501042.html?.tsrc=rss', 'published': 'Thu, 26 May 2022 13:55:01 +0000', 'ticker': 'A', 'Datetime': '2022-05-26 13:55:01'}\n",
      "{'meta_data': {'ticker': 'A', 'Datetime': '2022-05-26 13:55:01'}, 'inputs': ['The mean of analysts price targets for Agilent A points to a 311 upside in the stock While this highly soughtafter metric has not proven reasonably effective strong agreement among analysts in raising earnings estimates does indicate an upside in the stock']}\n",
      "{'title': 'Company News for May 26 2022', 'summary': 'Companies In The News Are DKS A DY JWN', 'link': 'https://finance.yahoo.com/news/company-news-may-26-2022-115311364.html?.tsrc=rss', 'published': 'Thu, 26 May 2022 11:53:11 +0000', 'ticker': 'A', 'Datetime': '2022-05-26 11:53:11'}\n",
      "{'meta_data': {'ticker': 'A', 'Datetime': '2022-05-26 11:53:11'}, 'inputs': ['Companies In The News Are DKS A DY JWN']}\n",
      "{'title': 'Agilent A Q2 Earnings Surpass Estimates Revenues Rise YY', 'summary': 'Agilents A results for the fiscal second quarter reflect strong momentum in the pharma and chemical  energy market', 'link': 'https://finance.yahoo.com/news/agilent-q2-earnings-surpass-estimates-183706680.html?.tsrc=rss', 'published': 'Wed, 25 May 2022 18:37:06 +0000', 'ticker': 'A', 'Datetime': '2022-05-25 18:37:06'}\n",
      "{'meta_data': {'ticker': 'A', 'Datetime': '2022-05-25 18:37:06'}, 'inputs': ['Agilents A results for the fiscal second quarter reflect strong momentum in the pharma and chemical  energy market']}\n",
      "{'title': '11 Stocks That Beat Profit Expectations', 'summary': 'In this article we will take a look at the 11 stocks that beat profit expectations You can skip our detailed analysis of these companies and go directly to the 5 Stocks That Beat Profit Expectations Notable companies from the technology healthcare and communication services sectors including Intuit Inc NASDAQINTU Agilent Technologies Inc NYSEA and …', 'link': 'https://finance.yahoo.com/news/11-stocks-beat-profit-expectations-150412143.html?.tsrc=rss', 'published': 'Wed, 25 May 2022 15:04:12 +0000', 'ticker': 'A', 'Datetime': '2022-05-25 15:04:12'}\n",
      "{'meta_data': {'ticker': 'A', 'Datetime': '2022-05-25 15:04:12'}, 'inputs': ['In this article we will take a look at the 11 stocks that beat profit expectations You can skip our detailed analysis of these companies and go directly to the 5 Stocks That Beat Profit Expectations Notable companies from the technology healthcare and communication services sectors including Intuit Inc NASDAQINTU Agilent Technologies Inc NYSEA and …']}\n",
      "{'title': 'Agilent Technologies A Q2 2022 Earnings Call Transcript', 'summary': 'Good afternoon and thank you for attending todays Agilent Technologies Inc Q2 2022 earnings conference call  Thank you Selena and welcome everyone to Agilents conference call for the second quarter of fiscal year 2022  With me are Mike McMullen Agilent president and CEO and Bob McMahon Agilent senior vice president and CFO', 'link': 'https://finance.yahoo.com/m/afe50ba9-6adf-390f-af97-8757eb209549/agilent-technologies-%28a%29-q2.html?.tsrc=rss', 'published': 'Wed, 25 May 2022 05:30:27 +0000', 'ticker': 'A', 'Datetime': '2022-05-25 05:30:27'}\n",
      "{'meta_data': {'ticker': 'A', 'Datetime': '2022-05-25 05:30:27'}, 'inputs': ['Good afternoon and thank you for attending todays Agilent Technologies Inc Q2 2022 earnings conference call  Thank you Selena and welcome everyone to Agilents conference call for the second quarter of fiscal year 2022  With me are Mike McMullen Agilent president and CEO and Bob McMahon Agilent senior vice president and CFO']}\n",
      "{'title': 'Agilent Technologies A Q2 Earnings Beat Estimates', 'summary': 'Agilent A delivered earnings and revenue surprises of 180 and 033 respectively for the quarter ended April 2022 Do the numbers hold clues to what lies ahead for the stock', 'link': 'https://finance.yahoo.com/news/agilent-technologies-q2-earnings-beat-212509120.html?.tsrc=rss', 'published': 'Tue, 24 May 2022 21:25:09 +0000', 'ticker': 'A', 'Datetime': '2022-05-24 21:25:09'}\n",
      "{'meta_data': {'ticker': 'A', 'Datetime': '2022-05-24 21:25:09'}, 'inputs': ['Agilent A delivered earnings and revenue surprises of 180 and 033 respectively for the quarter ended April 2022 Do the numbers hold clues to what lies ahead for the stock']}\n",
      "{'title': 'Agilent’s secondquarter profit widens on higher sales', 'summary': 'The Santa Clara Califbased maker of laboratory instruments reported net income of 274 million up from 216 million in the same period a year earlier', 'link': 'https://finance.yahoo.com/m/014808fd-cc31-37a5-be0b-a186fd91fc2c/agilent%E2%80%99s-second-quarter.html?.tsrc=rss', 'published': 'Tue, 24 May 2022 20:27:00 +0000', 'ticker': 'A', 'Datetime': '2022-05-24 20:27:00'}\n",
      "{'meta_data': {'ticker': 'A', 'Datetime': '2022-05-24 20:27:00'}, 'inputs': ['The Santa Clara Califbased maker of laboratory instruments reported net income of 274 million up from 216 million in the same period a year earlier']}\n",
      "{'title': 'Agilent Reports SecondQuarter Fiscal Year 2022 Financial Results', 'summary': 'SANTA CLARA Calif May 24 2022Agilent today reported revenue of 161 billion for the second quarter ended April 30 2022', 'link': 'https://finance.yahoo.com/news/agilent-reports-second-quarter-fiscal-200500644.html?.tsrc=rss', 'published': 'Tue, 24 May 2022 20:05:00 +0000', 'ticker': 'A', 'Datetime': '2022-05-24 20:05:00'}\n",
      "{'meta_data': {'ticker': 'A', 'Datetime': '2022-05-24 20:05:00'}, 'inputs': ['SANTA CLARA Calif May 24 2022Agilent today reported revenue of 161 billion for the second quarter ended April 30 2022']}\n",
      "{'title': 'Dow Futures Lift as Fears of Slowing Growth Remain', 'summary': 'By Oliver Gray', 'link': 'https://finance.yahoo.com/news/dow-futures-lift-fears-slowing-184805046.html?.tsrc=rss', 'published': 'Tue, 24 May 2022 18:48:05 +0000', 'ticker': 'A', 'Datetime': '2022-05-24 18:48:05'}\n",
      "{'meta_data': {'ticker': 'A', 'Datetime': '2022-05-24 18:48:05'}, 'inputs': ['By Oliver Gray']}\n"
     ]
    },
    {
     "data": {
      "text/html": [
       "<div>\n",
       "<style scoped>\n",
       "    .dataframe tbody tr th:only-of-type {\n",
       "        vertical-align: middle;\n",
       "    }\n",
       "\n",
       "    .dataframe tbody tr th {\n",
       "        vertical-align: top;\n",
       "    }\n",
       "\n",
       "    .dataframe thead th {\n",
       "        text-align: right;\n",
       "    }\n",
       "</style>\n",
       "<table border=\"1\" class=\"dataframe\">\n",
       "  <thead>\n",
       "    <tr style=\"text-align: right;\">\n",
       "      <th></th>\n",
       "    </tr>\n",
       "  </thead>\n",
       "  <tbody>\n",
       "  </tbody>\n",
       "</table>\n",
       "</div>"
      ],
      "text/plain": [
       "Empty DataFrame\n",
       "Columns: []\n",
       "Index: []"
      ]
     },
     "execution_count": 77,
     "metadata": {},
     "output_type": "execute_result"
    }
   ],
   "source": [
    "# ingesting dummy (A MUST) \n",
    "import os\n",
    "import datetime\n",
    "\n",
    "name = os.environ['V3IO_USERNAME']\n",
    "now = datetime.datetime.now().strftime('%Y-%m-%d %H:%M:%S')\n",
    "\n",
    "fstore.ingest(news_set,\n",
    "              pd.DataFrame.from_dict({'ticker':[name],\n",
    "                                      'Datetime': now,\n",
    "                                      'n_stocks':1}))"
   ]
  },
  {
   "cell_type": "code",
   "execution_count": 78,
   "metadata": {},
   "outputs": [],
   "source": [
    "# Define the HTTP Source to_dictable the HTTP trigger on our function and expose the endpoint.\n",
    "# There is an option to declare key and timestamp inside the http source (here we dont send data through the http hence not needed)\n",
    "http_source = mlrun.datastore.sources.HttpSource()\n",
    "news_set.spec.source = http_source\n",
    "\n",
    "# code_to_function our mlrun wrapped function to deploy the ingestion pipeline on.\n",
    "# the serving runtimes enables the deployment of our feature set's computational graph\n",
    "function = mlrun.code_to_function(name='get_news',kind='serving',image='mlrun/mlrun', requirements=['yahoo_fin','graphviz'])\n",
    "function.spec.readiness_timeout=100000\n",
    "\n",
    "run_config = fstore.RunConfig(function=function, local=False).apply(mlrun.mount_v3io())"
   ]
  },
  {
   "cell_type": "code",
   "execution_count": 79,
   "metadata": {},
   "outputs": [
    {
     "name": "stdout",
     "output_type": "stream",
     "text": [
      "> 2022-06-06 09:02:17,862 [info] Starting remote function deploy\n",
      "2022-06-06 09:02:18  (info) Deploying function\n",
      "2022-06-06 09:02:18  (info) Building\n",
      "2022-06-06 09:02:18  (info) Staging files and preparing base images\n",
      "2022-06-06 09:02:18  (info) Building processor image\n",
      "2022-06-06 09:03:03  (info) Build complete\n",
      "2022-06-06 09:03:47  (info) Function deploy complete\n",
      "> 2022-06-06 09:03:47,679 [info] successfully deployed function: {'internal_invocation_urls': ['nuclio-stocks-avia-get-news.default-tenant.svc.cluster.local:8080'], 'external_invocation_urls': ['stocks-avia-get-news-stocks-avia.default-tenant.app.dev39.lab.iguazeng.com/']}\n"
     ]
    }
   ],
   "source": [
    "# Deploying\n",
    "news_set_endpoint = fstore.deploy_ingestion_service(featureset=news_set, run_config=run_config)"
   ]
  },
  {
   "cell_type": "markdown",
   "metadata": {},
   "source": [
    "## Testing ingestion service"
   ]
  },
  {
   "cell_type": "code",
   "execution_count": 85,
   "metadata": {},
   "outputs": [
    {
     "data": {
      "text/plain": [
       "'{\"id\": \"9e7cd48a-8074-45bd-8091-d6e37dde874a\"}'"
      ]
     },
     "execution_count": 85,
     "metadata": {},
     "output_type": "execute_result"
    }
   ],
   "source": [
    "import requests\n",
    "import json\n",
    "\n",
    "now = datetime.datetime.now().strftime('%Y-%m-%d %H:%M:%S')\n",
    "\n",
    "t = requests.post(news_set_endpoint,json={'ticker':['news'],\n",
    "                                                 'Datetime': now,\n",
    "                                                 'n_stocks':4})\n",
    "t.text"
   ]
  },
  {
   "cell_type": "markdown",
   "metadata": {},
   "source": [
    "## Creating scheduled mlrun job to invoke our function every time delta"
   ]
  },
  {
   "cell_type": "code",
   "execution_count": null,
   "metadata": {},
   "outputs": [],
   "source": [
    "os.makedirs('src',exist_ok=True)"
   ]
  },
  {
   "cell_type": "code",
   "execution_count": null,
   "metadata": {},
   "outputs": [],
   "source": [
    "%%writefile src/invoker.py\n",
    "\n",
    "import requests\n",
    "import datetime\n",
    "\n",
    "def ingestion_service_invoker(endpoint): \n",
    "    now = datetime.datetime.now().strftime('%Y-%m-%d %H:%M:%S')\n",
    "    \n",
    "    t = requests.post(endpoint,json={'ticker':['news'],\n",
    "                                     'Datetime': now,\n",
    "                                     'n_stocks':4})"
   ]
  },
  {
   "cell_type": "code",
   "execution_count": null,
   "metadata": {},
   "outputs": [],
   "source": [
    "# specifying '0 8 * * *' as schedule will trigger the function every day at 08:00 AM\n",
    "fn = mlrun.code_to_function(name='ingestion_service_news',kind='job',image='mlrun/mlrun',handler='ingestion_service_invoker', filename='src/invoker.py')\n",
    "fn.run(params={'endpoint':news_set_endpoint}, schedule='0 8 * * *')"
   ]
  },
  {
   "cell_type": "code",
   "execution_count": null,
   "metadata": {},
   "outputs": [],
   "source": []
  }
 ],
 "metadata": {
  "kernelspec": {
   "display_name": "Python 3",
   "language": "python",
   "name": "python3"
  },
  "language_info": {
   "codemirror_mode": {
    "name": "ipython",
    "version": 3
   },
   "file_extension": ".py",
   "mimetype": "text/x-python",
   "name": "python",
   "nbconvert_exporter": "python",
   "pygments_lexer": "ipython3",
   "version": "3.7.6"
  }
 },
 "nbformat": 4,
 "nbformat_minor": 4
}
