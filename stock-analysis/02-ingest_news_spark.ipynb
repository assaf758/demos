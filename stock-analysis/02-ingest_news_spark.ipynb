{
 "cells": [
  {
   "cell_type": "markdown",
   "metadata": {},
   "source": [
    "# This notebook handles ingestion of stocks data to feature store"
   ]
  },
  {
   "cell_type": "code",
   "execution_count": 1,
   "metadata": {},
   "outputs": [
    {
     "name": "stdout",
     "output_type": "stream",
     "text": [
      "> 2022-06-14 09:20:33,408 [info] created and saved project stocks\n"
     ]
    }
   ],
   "source": [
    "import mlrun\n",
    "project = mlrun.get_or_create_project(name='stocks',user_project=True, context=\"./\")"
   ]
  },
  {
   "cell_type": "markdown",
   "metadata": {},
   "source": [
    "> <b> Steps </b>\n",
    "> * [Creating mlrun function that reads stocks from yahoo_fin and returning record oriented json](#Creating-mlrun-function-that-reads-stocks-from-yahoo_fin-and-returning-record-oriented-json)\n",
    "> * [Creating a feature set and declaring the graph](#Creating-a-feature-set-and-declaring-the-graph)\n",
    "> * [Dummy ingestion, Deploying ingestion service and getting ingestion endpoint](#Dummy-ingestion,-Deploying-ingestion-service-and-getting-ingestion-endpoint)\n",
    "> * [Testing ingestion service](#Testing-ingestion-service)\n",
    "> * [Creating scheduled mlrun job to invoke our function every time delta](#Creating-scheduled-mlrun-job-to-invoke-our-function-every-time-delta)"
   ]
  },
  {
   "cell_type": "markdown",
   "metadata": {},
   "source": [
    "## Creating mlrun function that reads stocks from yahoo_fin and returning record oriented json\n",
    "similar to ingest_stocks, we collect the data from within the feature-set graph. <br>\n",
    "event sent to graph is real-time configuration."
   ]
  },
  {
   "cell_type": "code",
   "execution_count": 2,
   "metadata": {},
   "outputs": [],
   "source": [
    "import os\n",
    "\n",
    "USER_NAME = os.environ['V3IO_USERNAME']\n",
    "STREAM_SHARDS = 1 # NO. of input stream shard"
   ]
  },
  {
   "cell_type": "code",
   "execution_count": 3,
   "metadata": {},
   "outputs": [],
   "source": [
    "# serving function configuration\n",
    "SERVING_FUNCTION_RESPONSE = 'SYNC'\n",
    "MIN_REPLICAS = 1 # serving function minimum replicas\n",
    "MAX_REPLICAS = 1 # serving function maximum replicas\n",
    "SERVING_PROCESSING_TIME = 1 # time for the serving function to sleep\n",
    "WORKER_AVAILIBALITY_TIMEOUT = 100\n",
    "INGRESS_TIMEOUT = 150\n",
    "USE_GPU = False # whether the serving function will use GPU (if true - REMOTE_SCALE_RANGE will determine the consumption)"
   ]
  },
  {
   "cell_type": "code",
   "execution_count": 4,
   "metadata": {},
   "outputs": [],
   "source": [
    "# RemoteStep configuration\n",
    "REMOTE_STEP_WORKERS = 1\n",
    "MAX_IN_FLIGHT = 1  # how many simulteneous events on each worker in the serving function\n",
    "REMOTE_STEP_HTTP_TIMEOUT = 150\n",
    "STOREY_QUEUE_SIZE = 8\n",
    "WINDOW_ACK = (STOREY_QUEUE_SIZE+MAX_IN_FLIGHT)*STREAM_SHARDS"
   ]
  },
  {
   "cell_type": "code",
   "execution_count": 5,
   "metadata": {},
   "outputs": [],
   "source": [
    "streams_prefix = \"v3io:///users/\"+USER_NAME+\"/\"\n",
    "news_stream = streams_prefix + \"news_stream\"\n"
   ]
  },
  {
   "cell_type": "code",
   "execution_count": 6,
   "metadata": {},
   "outputs": [],
   "source": [
    "# import nuclio\n",
    "# import mlrun\n",
    "\n",
    "# model_location = 'https://iguazio-sample-data.s3.amazonaws.com/models/model.pt'\n",
    "# scaled_function = mlrun.import_function('hub://sentiment_analysis_serving')\n",
    "# scaled_function.spec.min_replicas = MIN_REPLICAS\n",
    "# scaled_function.spec.max_replicas = MAX_REPLICAS\n",
    "# scaled_function.add_model('sentiment_analysis_model', model_path=model_location,\n",
    "#                           class_name='SentimentClassifierServing')\n",
    "\n",
    "# scaled_function.with_http(workers=REMOTE_STEP_WORKERS, gateway_timeout=INGRESS_TIMEOUT,\n",
    "#                           worker_timeout=WORKER_AVAILIBALITY_TIMEOUT)\n",
    "\n",
    "# env_vars = {\"SERVING_FUNCTION_TIME_TO_SLEEP\": SERVING_PROCESSING_TIME}\n",
    "\n",
    "# scaled_function.set_envs(env_vars)\n",
    "# scaled_function.spec.readiness_timeout = 300\n",
    "# address = scaled_function.deploy()"
   ]
  },
  {
   "cell_type": "code",
   "execution_count": 7,
   "metadata": {},
   "outputs": [],
   "source": [
    "# mlrun: start-code\n",
    "\n",
    "\n",
    "# You can add your own PySpark code as a graph step:\n",
    "def filter_func(df, context=None):\n",
    "    return df.filter(\"bid>55\") # PySpark code\n",
    "\n",
    "\n",
    "def add_column(df, context=None):\n",
    "    return_df = df.withColumn(\"bid_ask_diff\", df.bid-df.ask)\n",
    "    return return_df\n",
    "\n",
    "def print_dataframe(df, contest=None):\n",
    "    print(\"type of data frame {}\".format(type(df)))        \n",
    "    print(df.show())\n",
    "    return df\n",
    "\n"
   ]
  },
  {
   "cell_type": "code",
   "execution_count": 8,
   "metadata": {},
   "outputs": [],
   "source": [
    "\n",
    "\n",
    "import yahoo_fin.stock_info as si\n",
    "import yahoo_fin.news as ynews\n",
    "from dateutil import parser\n",
    "import pandas as pd\n",
    "import json\n",
    "import requests\n",
    "from storey import MapClass, Event\n",
    "import string\n",
    "import mlrun\n",
    "from mlrun.feature_store.api import ingest\n",
    "from IPython.display import display\n",
    "\n",
    "\n",
    "def ingest_handler(context):\n",
    "    ingest(mlrun_context=context) # The handler function must call ingest with the mlrun_context\n",
    "\n",
    "\n",
    "\n",
    "def print_event(event):    \n",
    "    sentiment = event.body['outputs']['predictions'][0]/2\n",
    "    return_event = Event(body={'sentiment': sentiment}, key=event.body['outputs']['meta_data']['ticker'], time=event.body['outputs']['meta_data']['Datetime'])\n",
    "    print(return_event)\n",
    "    return return_event\n",
    "\n",
    "\n",
    "def wrap_event(event):\n",
    "    print(event)\n",
    "    wrapped_event = {'meta_data': {'ticker': event['ticker'], 'Datetime': event['Datetime']}, 'inputs': [event['summary']]}\n",
    "    print(wrapped_event)\n",
    "    return wrapped_event\n",
    "\n",
    "def remove_punctuation(text):\n",
    "    punctuationfree = \"\".join([i for i in text if i not in string.punctuation])\n",
    "    return punctuationfree\n",
    "\n",
    "\n",
    "def get_news(event):\n",
    "    '''\n",
    "    event: dict with the following keys:\n",
    "    n_stocks - how many stocks to collect\n",
    "    '''\n",
    "    tickers = si.tickers_sp500()[:event['n_stocks']]\n",
    "    tickers_news = []\n",
    "    for ticker in tickers:\n",
    "        news = ynews.get_yf_rss(ticker=ticker)\n",
    "        news_df = pd.DataFrame(news)\n",
    "        df_copy = news_df[['title', 'summary', 'link', 'published']].copy()\n",
    "        df_copy['ticker'] = ticker\n",
    "        df_copy['Datetime'] = df_copy['published'].apply(lambda x: parser.parse(x).strftime('%Y-%m-%d %H:%M:%S'))\n",
    "        df_copy['summary'] = df_copy['summary'].apply(lambda x: remove_punctuation(x))\n",
    "        df_copy['title'] = df_copy['title'].apply(lambda x: remove_punctuation(x))\n",
    "        tickers_news.append(df_copy)\n",
    "    df = pd.concat(tickers_news).reset_index(drop=True)\n",
    "    return json.loads(df.to_json(orient='records'))\n",
    "\n",
    "def print_dataframe(df, contest=None):\n",
    "    print(\"type of data frame {}\".format(type(df)))        \n",
    "    print(df.show())\n",
    "    return df\n",
    "\n",
    "\n",
    "#mlrun: end-code"
   ]
  },
  {
   "cell_type": "markdown",
   "metadata": {},
   "source": [
    "## Creating a feature set and declaring the graph"
   ]
  },
  {
   "cell_type": "code",
   "execution_count": 9,
   "metadata": {},
   "outputs": [
    {
     "data": {
      "image/svg+xml": [
       "<?xml version=\"1.0\" encoding=\"UTF-8\" standalone=\"no\"?>\n",
       "<!DOCTYPE svg PUBLIC \"-//W3C//DTD SVG 1.1//EN\"\n",
       " \"http://www.w3.org/Graphics/SVG/1.1/DTD/svg11.dtd\">\n",
       "<!-- Generated by graphviz version 2.40.1 (20161225.0304)\n",
       " -->\n",
       "<!-- Title: mlrun&#45;flow Pages: 1 -->\n",
       "<svg width=\"396pt\" height=\"98pt\"\n",
       " viewBox=\"0.00 0.00 396.48 98.00\" xmlns=\"http://www.w3.org/2000/svg\" xmlns:xlink=\"http://www.w3.org/1999/xlink\">\n",
       "<g id=\"graph0\" class=\"graph\" transform=\"scale(1 1) rotate(0) translate(4 94)\">\n",
       "<title>mlrun&#45;flow</title>\n",
       "<polygon fill=\"#ffffff\" stroke=\"transparent\" points=\"-4,4 -4,-94 392.4837,-94 392.4837,4 -4,4\"/>\n",
       "<!-- _start -->\n",
       "<g id=\"node1\" class=\"node\">\n",
       "<title>_start</title>\n",
       "<polygon fill=\"#d3d3d3\" stroke=\"#000000\" points=\"38.5476,-27.0493 40.698,-27.1479 42.8263,-27.2953 44.9236,-27.4913 46.9815,-27.7353 48.9917,-28.0266 50.9463,-28.3645 52.8377,-28.7479 54.6587,-29.1759 56.4025,-29.6472 58.0628,-30.1606 59.634,-30.7147 61.1107,-31.308 62.4882,-31.9388 63.7625,-32.6054 64.9302,-33.3059 65.9882,-34.0385 66.9343,-34.8012 67.7669,-35.5918 68.4849,-36.4082 69.0878,-37.2481 69.5758,-38.1093 69.9496,-38.9894 70.2102,-39.886 70.3595,-40.7965 70.3997,-41.7186 70.3334,-42.6497 70.1636,-43.5873 69.8937,-44.5287 69.5276,-45.4713 69.0691,-46.4127 68.5225,-47.3503 67.8923,-48.2814 67.1831,-49.2035 66.3996,-50.114 65.5464,-51.0106 64.6285,-51.8907 63.6504,-52.7519 62.617,-53.5918 61.5329,-54.4082 60.4024,-55.1988 59.2299,-55.9615 58.0197,-56.6941 56.7755,-57.3946 55.5012,-58.0612 54.2002,-58.692 52.8757,-59.2853 51.5309,-59.8394 50.1684,-60.3528 48.7908,-60.8241 47.4003,-61.2521 45.9989,-61.6355 44.5886,-61.9734 43.1708,-62.2647 41.7472,-62.5087 40.3189,-62.7047 38.8872,-62.8521 37.4531,-62.9507 36.0175,-63 34.5815,-63 33.146,-62.9507 31.7119,-62.8521 30.2801,-62.7047 28.8519,-62.5087 27.4282,-62.2647 26.0105,-61.9734 24.6001,-61.6355 23.1988,-61.2521 21.8083,-60.8241 20.4306,-60.3528 19.0681,-59.8394 17.7233,-59.2853 16.3989,-58.692 15.0979,-58.0612 13.8236,-57.3946 12.5794,-56.6941 11.3691,-55.9615 10.1967,-55.1988 9.0662,-54.4082 7.982,-53.5918 6.9486,-52.7519 5.9706,-51.8907 5.0526,-51.0106 4.1995,-50.114 3.4159,-49.2035 2.7067,-48.2814 2.0765,-47.3503 1.53,-46.4127 1.0715,-45.4713 .7053,-44.5287 .4355,-43.5873 .2657,-42.6497 .1993,-41.7186 .2395,-40.7965 .3888,-39.886 .6495,-38.9894 1.0232,-38.1093 1.5112,-37.2481 2.1141,-36.4082 2.8321,-35.5918 3.6647,-34.8012 4.6109,-34.0385 5.6689,-33.3059 6.8365,-32.6054 8.1108,-31.9388 9.4884,-31.308 10.9651,-30.7147 12.5362,-30.1606 14.1966,-29.6472 15.9404,-29.1759 17.7614,-28.7479 19.6528,-28.3645 21.6074,-28.0266 23.6176,-27.7353 25.6755,-27.4913 27.7728,-27.2953 29.901,-27.1479 32.0515,-27.0493 34.2154,-27 36.3837,-27 38.5476,-27.0493\"/>\n",
       "<text text-anchor=\"middle\" x=\"35.2995\" y=\"-41.3\" font-family=\"Times,serif\" font-size=\"14.00\" fill=\"#000000\">start</text>\n",
       "</g>\n",
       "<!-- print_dataframe -->\n",
       "<g id=\"node2\" class=\"node\">\n",
       "<title>print_dataframe</title>\n",
       "<ellipse fill=\"none\" stroke=\"#000000\" cx=\"193.0414\" cy=\"-45\" rx=\"86.3847\" ry=\"18\"/>\n",
       "<text text-anchor=\"middle\" x=\"193.0414\" y=\"-41.3\" font-family=\"Times,serif\" font-size=\"14.00\" fill=\"#000000\">print_dataframe</text>\n",
       "</g>\n",
       "<!-- _start&#45;&gt;print_dataframe -->\n",
       "<g id=\"edge1\" class=\"edge\">\n",
       "<title>_start&#45;&gt;print_dataframe</title>\n",
       "<path fill=\"none\" stroke=\"#000000\" d=\"M69.9166,-45C77.9754,-45 86.9455,-45 96.268,-45\"/>\n",
       "<polygon fill=\"#000000\" stroke=\"#000000\" points=\"96.4956,-48.5001 106.4956,-45 96.4955,-41.5001 96.4956,-48.5001\"/>\n",
       "</g>\n",
       "<!-- parquet -->\n",
       "<g id=\"node3\" class=\"node\">\n",
       "<title>parquet</title>\n",
       "<path fill=\"none\" stroke=\"#000000\" d=\"M388.4837,-86.7273C388.4837,-88.5331 372.1238,-90 351.9837,-90 331.8436,-90 315.4837,-88.5331 315.4837,-86.7273 315.4837,-86.7273 315.4837,-57.2727 315.4837,-57.2727 315.4837,-55.4669 331.8436,-54 351.9837,-54 372.1238,-54 388.4837,-55.4669 388.4837,-57.2727 388.4837,-57.2727 388.4837,-86.7273 388.4837,-86.7273\"/>\n",
       "<path fill=\"none\" stroke=\"#000000\" d=\"M388.4837,-86.7273C388.4837,-84.9214 372.1238,-83.4545 351.9837,-83.4545 331.8436,-83.4545 315.4837,-84.9214 315.4837,-86.7273\"/>\n",
       "<text text-anchor=\"middle\" x=\"351.9837\" y=\"-68.3\" font-family=\"Times,serif\" font-size=\"14.00\" fill=\"#000000\">parquet</text>\n",
       "</g>\n",
       "<!-- print_dataframe&#45;&gt;parquet -->\n",
       "<g id=\"edge2\" class=\"edge\">\n",
       "<title>print_dataframe&#45;&gt;parquet</title>\n",
       "<path fill=\"none\" stroke=\"#000000\" d=\"M260.4472,-56.4504C275.5618,-59.018 291.2725,-61.6868 305.3234,-64.0737\"/>\n",
       "<polygon fill=\"#000000\" stroke=\"#000000\" points=\"304.7841,-67.5321 315.229,-65.7564 305.9564,-60.631 304.7841,-67.5321\"/>\n",
       "</g>\n",
       "<!-- nosql -->\n",
       "<g id=\"node4\" class=\"node\">\n",
       "<title>nosql</title>\n",
       "<path fill=\"none\" stroke=\"#000000\" d=\"M379.4837,-32.7273C379.4837,-34.5331 367.1578,-36 351.9837,-36 336.8097,-36 324.4837,-34.5331 324.4837,-32.7273 324.4837,-32.7273 324.4837,-3.2727 324.4837,-3.2727 324.4837,-1.4669 336.8097,0 351.9837,0 367.1578,0 379.4837,-1.4669 379.4837,-3.2727 379.4837,-3.2727 379.4837,-32.7273 379.4837,-32.7273\"/>\n",
       "<path fill=\"none\" stroke=\"#000000\" d=\"M379.4837,-32.7273C379.4837,-30.9214 367.1578,-29.4545 351.9837,-29.4545 336.8097,-29.4545 324.4837,-30.9214 324.4837,-32.7273\"/>\n",
       "<text text-anchor=\"middle\" x=\"351.9837\" y=\"-14.3\" font-family=\"Times,serif\" font-size=\"14.00\" fill=\"#000000\">nosql</text>\n",
       "</g>\n",
       "<!-- print_dataframe&#45;&gt;nosql -->\n",
       "<g id=\"edge3\" class=\"edge\">\n",
       "<title>print_dataframe&#45;&gt;nosql</title>\n",
       "<path fill=\"none\" stroke=\"#000000\" d=\"M260.4472,-33.5496C278.9092,-30.4134 298.2605,-27.1261 314.39,-24.3862\"/>\n",
       "<polygon fill=\"#000000\" stroke=\"#000000\" points=\"315.2098,-27.7971 324.4824,-22.6717 314.0374,-20.896 315.2098,-27.7971\"/>\n",
       "</g>\n",
       "</g>\n",
       "</svg>\n"
      ],
      "text/plain": [
       "<graphviz.dot.Digraph at 0x7fd6551afa10>"
      ]
     },
     "execution_count": 9,
     "metadata": {},
     "output_type": "execute_result"
    }
   ],
   "source": [
    "from mlrun.datastore.sources import CSVSource\n",
    "import mlrun.feature_store as fstore\n",
    "from mlrun.feature_store.steps import DateExtractor, MapValues\n",
    "import yahoo_fin.stock_info as si\n",
    "from mlrun.serving.remote import RemoteStep \n",
    "# creating feature set\n",
    "news_set = fstore.FeatureSet(\"stocks_news\", \n",
    "                                 entities=[fstore.Entity(\"ticker\")],\n",
    "                                 timestamp_key='Datetime', \n",
    "                                 description=\"stocks news feature set\",engine=\"spark\")\n",
    "\n",
    "# how many tickers data we ingest (make sure same number used for ingesting news)\n",
    "# n_tickers = 4\n",
    "\n",
    "source = CSVSource(\"mycsv\", path=\"v3io:///projects/news_input.csv\")\n",
    "\n",
    "\n",
    "news_set.graph \\\n",
    "    .to(name=\"print_dataframe\", handler=\"print_dataframe\")\n",
    "\n",
    "#     .to(\"storey.steps.Flatten\", name=\"flatten_news\") \\\n",
    "#     .to(name='wrap_event', handler='wrap_event') \\\n",
    "#     .to(\">>\", \"news_stream\", path=news_stream,shards = STREAM_SHARDS)\\\n",
    "#     .to(RemoteStep(name=\"remote_scale\", url=address, method=\"POST\", max_in_flight=MAX_IN_FLIGHT,\n",
    "#                    timeout=REMOTE_STEP_HTTP_TIMEOUT)) \\\n",
    "#     .to(name='print_event', handler='print_event',full_event=True)\n",
    "\n",
    "news_set.set_targets(with_defaults=True) \n",
    "news_set.plot(rankdir=\"LR\", with_targets=True)"
   ]
  },
  {
   "cell_type": "markdown",
   "metadata": {},
   "source": [
    "## Dummy ingestion, Deploying ingestion service and getting ingestion endpoint"
   ]
  },
  {
   "cell_type": "code",
   "execution_count": 10,
   "metadata": {},
   "outputs": [
    {
     "name": "stdout",
     "output_type": "stream",
     "text": [
      "> 2022-06-14 09:21:06,786 [info] starting run stocks-news-ingest uid=e89acbdb50ee4f2198b73925511d0a36 DB=http://mlrun-api:8080\n",
      "> 2022-06-14 09:21:07,062 [info] starting ingestion task to store://feature-sets/stocks-avia/stocks_news:latest.\n",
      "type of data frame <class 'pyspark.sql.dataframe.DataFrame'>\n",
      "+--------------------+--------------------+--------------------+--------------------+------+-------------------+\n",
      "|               title|             summary|                link|           published|ticker|           Datetime|\n",
      "+--------------------+--------------------+--------------------+--------------------+------+-------------------+\n",
      "|Agilent A to Prov...|Agilent A collabo...|https://finance.y...|Wed, 08 Jun 2022 ...|     A|2022-06-08 18:57:06|\n",
      "|Agilent Leverages...|SANTA CLARA Calif...|https://finance.y...|Tue, 07 Jun 2022 ...|     A|2022-06-07 14:35:00|\n",
      "|Do Agilent Techno...|Like a puppy chas...|https://finance.y...|Tue, 07 Jun 2022 ...|     A|2022-06-07 12:00:40|\n",
      "|Agilent Announces...|SANTA CLARA Calif...|https://finance.y...|Mon, 06 Jun 2022 ...|     A|2022-06-06 12:00:00|\n",
      "|Agilent Announces...|SANTA CLARA Calif...|https://finance.y...|Mon, 06 Jun 2022 ...|     A|2022-06-06 12:00:00|\n",
      "|Heres How Much a ...|Why investing for...|https://finance.y...|Fri, 03 Jun 2022 ...|     A|2022-06-03 12:30:12|\n",
      "|Agilent to Partic...|SANTA CLARA Calif...|https://finance.y...|Wed, 01 Jun 2022 ...|     A|2022-06-01 20:30:00|\n",
      "|Agilent Releases ...|SANTA CLARA Calif...|https://finance.y...|Wed, 01 Jun 2022 ...|     A|2022-06-01 12:00:00|\n",
      "|Agilent A to Attr...|Agilent A collabo...|https://finance.y...|Tue, 31 May 2022 ...|     A|2022-05-31 18:51:06|\n",
      "|Why This 1 Moment...|Whether youre a v...|https://finance.y...|Tue, 31 May 2022 ...|     A|2022-05-31 13:50:01|\n",
      "|New to Investing ...|The Zacks Focus L...|https://finance.y...|Tue, 31 May 2022 ...|     A|2022-05-31 13:30:01|\n",
      "|Denarius Announce...|TORONTO May 30 20...|https://finance.y...|Mon, 30 May 2022 ...|     A|2022-05-30 21:48:00|\n",
      "|Agilent Announces...|SANTA CLARA Calif...|https://finance.y...|Fri, 27 May 2022 ...|     A|2022-05-27 12:00:00|\n",
      "|Quant Ratings Upd...|First I want to t...|https://finance.y...|Thu, 26 May 2022 ...|     A|2022-05-26 21:31:16|\n",
      "|FOCUSSilver Lakes...|Private equity fi...|https://finance.y...|Thu, 26 May 2022 ...|     A|2022-05-26 18:27:00|\n",
      "|What Makes Agilen...|Agilent A has bee...|https://finance.y...|Thu, 26 May 2022 ...|     A|2022-05-26 16:00:04|\n",
      "|Wall Street Analy...|The mean of analy...|https://finance.y...|Thu, 26 May 2022 ...|     A|2022-05-26 13:55:01|\n",
      "|Company News for ...|Companies In The ...|https://finance.y...|Thu, 26 May 2022 ...|     A|2022-05-26 11:53:11|\n",
      "|Agilent A Q2 Earn...|Agilents A result...|https://finance.y...|Wed, 25 May 2022 ...|     A|2022-05-25 18:37:06|\n",
      "|11 Stocks That Be...|In this article w...|https://finance.y...|Wed, 25 May 2022 ...|     A|2022-05-25 15:04:12|\n",
      "+--------------------+--------------------+--------------------+--------------------+------+-------------------+\n",
      "only showing top 20 rows\n",
      "\n",
      "None\n",
      "> 2022-06-14 09:21:31,847 [info] writing to target parquet, spark options {'path': 'v3io://projects/stocks-avia/FeatureStore/stocks_news/parquet/sets/stocks_news/1655198491847_79/', 'format': 'parquet'}\n",
      "> 2022-06-14 09:21:34,046 [info] writing to target nosql, spark options {'path': 'v3io://projects/stocks-avia/FeatureStore/stocks_news/nosql/sets/stocks_news/1655198491847_79/', 'format': 'io.iguaz.v3io.spark.sql.kv', 'key': 'ticker'}\n"
     ]
    },
    {
     "data": {
      "text/html": [
       "<style>\n",
       ".dictlist {\n",
       "  background-color: #4EC64B;\n",
       "  text-align: center;\n",
       "  margin: 4px;\n",
       "  border-radius: 3px; padding: 0px 3px 1px 3px; display: inline-block;}\n",
       ".artifact {\n",
       "  cursor: pointer;\n",
       "  background-color: #4EC64B;\n",
       "  text-align: left;\n",
       "  margin: 4px; border-radius: 3px; padding: 0px 3px 1px 3px; display: inline-block;\n",
       "}\n",
       "div.block.hidden {\n",
       "  display: none;\n",
       "}\n",
       ".clickable {\n",
       "  cursor: pointer;\n",
       "}\n",
       ".ellipsis {\n",
       "  display: inline-block;\n",
       "  max-width: 60px;\n",
       "  white-space: nowrap;\n",
       "  overflow: hidden;\n",
       "  text-overflow: ellipsis;\n",
       "}\n",
       ".master-wrapper {\n",
       "  display: flex;\n",
       "  flex-flow: row nowrap;\n",
       "  justify-content: flex-start;\n",
       "  align-items: stretch;\n",
       "}\n",
       ".master-tbl {\n",
       "  flex: 3\n",
       "}\n",
       ".master-wrapper > div {\n",
       "  margin: 4px;\n",
       "  padding: 10px;\n",
       "}\n",
       "iframe.fileview {\n",
       "  border: 0 none;\n",
       "  height: 100%;\n",
       "  width: 100%;\n",
       "  white-space: pre-wrap;\n",
       "}\n",
       ".pane-header-title {\n",
       "  width: 80%;\n",
       "  font-weight: 500;\n",
       "}\n",
       ".pane-header {\n",
       "  line-height: 1;\n",
       "  background-color: #4EC64B;\n",
       "  padding: 3px;\n",
       "}\n",
       ".pane-header .close {\n",
       "  font-size: 20px;\n",
       "  font-weight: 700;\n",
       "  float: right;\n",
       "  margin-top: -5px;\n",
       "}\n",
       ".master-wrapper .right-pane {\n",
       "  border: 1px inset silver;\n",
       "  width: 40%;\n",
       "  min-height: 300px;\n",
       "  flex: 3\n",
       "  min-width: 500px;\n",
       "}\n",
       ".master-wrapper * {\n",
       "  box-sizing: border-box;\n",
       "}\n",
       "</style><script>\n",
       "function copyToClipboard(fld) {\n",
       "    if (document.queryCommandSupported && document.queryCommandSupported('copy')) {\n",
       "        var textarea = document.createElement('textarea');\n",
       "        textarea.textContent = fld.innerHTML;\n",
       "        textarea.style.position = 'fixed';\n",
       "        document.body.appendChild(textarea);\n",
       "        textarea.select();\n",
       "\n",
       "        try {\n",
       "            return document.execCommand('copy'); // Security exception may be thrown by some browsers.\n",
       "        } catch (ex) {\n",
       "\n",
       "        } finally {\n",
       "            document.body.removeChild(textarea);\n",
       "        }\n",
       "    }\n",
       "}\n",
       "function expandPanel(el) {\n",
       "  const panelName = \"#\" + el.getAttribute('paneName');\n",
       "  console.log(el.title);\n",
       "\n",
       "  document.querySelector(panelName + \"-title\").innerHTML = el.title\n",
       "  iframe = document.querySelector(panelName + \"-body\");\n",
       "\n",
       "  const tblcss = `<style> body { font-family: Arial, Helvetica, sans-serif;}\n",
       "    #csv { margin-bottom: 15px; }\n",
       "    #csv table { border-collapse: collapse;}\n",
       "    #csv table td { padding: 4px 8px; border: 1px solid silver;} </style>`;\n",
       "\n",
       "  function csvToHtmlTable(str) {\n",
       "    return '<div id=\"csv\"><table><tr><td>' +  str.replace(/[\\n\\r]+$/g, '').replace(/[\\n\\r]+/g, '</td></tr><tr><td>')\n",
       "      .replace(/,/g, '</td><td>') + '</td></tr></table></div>';\n",
       "  }\n",
       "\n",
       "  function reqListener () {\n",
       "    if (el.title.endsWith(\".csv\")) {\n",
       "      iframe.setAttribute(\"srcdoc\", tblcss + csvToHtmlTable(this.responseText));\n",
       "    } else {\n",
       "      iframe.setAttribute(\"srcdoc\", this.responseText);\n",
       "    }\n",
       "    console.log(this.responseText);\n",
       "  }\n",
       "\n",
       "  const oReq = new XMLHttpRequest();\n",
       "  oReq.addEventListener(\"load\", reqListener);\n",
       "  oReq.open(\"GET\", el.title);\n",
       "  oReq.send();\n",
       "\n",
       "\n",
       "  //iframe.src = el.title;\n",
       "  const resultPane = document.querySelector(panelName + \"-pane\");\n",
       "  if (resultPane.classList.contains(\"hidden\")) {\n",
       "    resultPane.classList.remove(\"hidden\");\n",
       "  }\n",
       "}\n",
       "function closePanel(el) {\n",
       "  const panelName = \"#\" + el.getAttribute('paneName')\n",
       "  const resultPane = document.querySelector(panelName + \"-pane\");\n",
       "  if (!resultPane.classList.contains(\"hidden\")) {\n",
       "    resultPane.classList.add(\"hidden\");\n",
       "  }\n",
       "}\n",
       "\n",
       "</script>\n",
       "<div class=\"master-wrapper\">\n",
       "  <div class=\"block master-tbl\"><div>\n",
       "<style scoped>\n",
       "    .dataframe tbody tr th:only-of-type {\n",
       "        vertical-align: middle;\n",
       "    }\n",
       "\n",
       "    .dataframe tbody tr th {\n",
       "        vertical-align: top;\n",
       "    }\n",
       "\n",
       "    .dataframe thead th {\n",
       "        text-align: right;\n",
       "    }\n",
       "</style>\n",
       "<table border=\"1\" class=\"dataframe\">\n",
       "  <thead>\n",
       "    <tr style=\"text-align: right;\">\n",
       "      <th>project</th>\n",
       "      <th>uid</th>\n",
       "      <th>iter</th>\n",
       "      <th>start</th>\n",
       "      <th>state</th>\n",
       "      <th>name</th>\n",
       "      <th>labels</th>\n",
       "      <th>inputs</th>\n",
       "      <th>parameters</th>\n",
       "      <th>results</th>\n",
       "      <th>artifacts</th>\n",
       "    </tr>\n",
       "  </thead>\n",
       "  <tbody>\n",
       "    <tr>\n",
       "      <td>stocks-avia</td>\n",
       "      <td><div title=\"e89acbdb50ee4f2198b73925511d0a36\"><a href=\"https://dashboard.default-tenant.app.dev39.lab.iguazeng.com/mlprojects/stocks-avia/jobs/monitor/e89acbdb50ee4f2198b73925511d0a36/overview\" target=\"_blank\" >...511d0a36</a></div></td>\n",
       "      <td>0</td>\n",
       "      <td>Jun 14 09:21:06</td>\n",
       "      <td>completed</td>\n",
       "      <td>stocks-news-ingest</td>\n",
       "      <td><div class=\"dictlist\">job-type=feature-ingest</div><div class=\"dictlist\">feature-set=store://feature-sets/stocks-avia/stocks_news</div><div class=\"dictlist\">v3io_user=avia</div><div class=\"dictlist\">kind=</div><div class=\"dictlist\">owner=avia</div><div class=\"dictlist\">host=jupyter-avia-cddbfcfcd-sf4lp</div></td>\n",
       "      <td></td>\n",
       "      <td><div class=\"dictlist\">infer_options=63</div><div class=\"dictlist\">overwrite=None</div><div class=\"dictlist\">featureset=store://feature-sets/stocks-avia/stocks_news</div><div class=\"dictlist\">source={'kind': 'csv', 'name': 'mycsv', 'path': 'v3io:///projects/news_input.csv'}</div><div class=\"dictlist\">targets=None</div></td>\n",
       "      <td></td>\n",
       "      <td></td>\n",
       "    </tr>\n",
       "  </tbody>\n",
       "</table>\n",
       "</div></div>\n",
       "  <div id=\"resultd5aa2f02-pane\" class=\"right-pane block hidden\">\n",
       "    <div class=\"pane-header\">\n",
       "      <span id=\"resultd5aa2f02-title\" class=\"pane-header-title\">Title</span>\n",
       "      <span onclick=\"closePanel(this)\" paneName=\"resultd5aa2f02\" class=\"close clickable\">&times;</span>\n",
       "    </div>\n",
       "    <iframe class=\"fileview\" id=\"resultd5aa2f02-body\"></iframe>\n",
       "  </div>\n",
       "</div>\n"
      ],
      "text/plain": [
       "<IPython.core.display.HTML object>"
      ]
     },
     "metadata": {},
     "output_type": "display_data"
    },
    {
     "name": "stdout",
     "output_type": "stream",
     "text": [
      "\n"
     ]
    },
    {
     "data": {
      "text/html": [
       "<b> > to track results use the .show() or .logs() methods  or <a href=\"https://dashboard.default-tenant.app.dev39.lab.iguazeng.com/mlprojects/stocks-avia/jobs/monitor/e89acbdb50ee4f2198b73925511d0a36/overview\" target=\"_blank\">click here</a> to open in UI</b>"
      ],
      "text/plain": [
       "<IPython.core.display.HTML object>"
      ]
     },
     "metadata": {},
     "output_type": "display_data"
    },
    {
     "name": "stdout",
     "output_type": "stream",
     "text": [
      "> 2022-06-14 09:21:35,107 [info] run executed, status=completed\n"
     ]
    }
   ],
   "source": [
    "from mlrun import code_to_function\n",
    "import mlrun.feature_store as fstore\n",
    "\n",
    "\n",
    "my_func = code_to_function(\"func\", kind=\"spark\")\n",
    "\n",
    "my_func.with_driver_requests(cpu=1, mem=\"1G\")\n",
    "my_func.with_executor_requests(cpu=1, mem=\"1G\")\n",
    "my_func.with_igz_spark()\n",
    "\n",
    "# Enables using the default image (can be replace with specifying a specific image with .spec.image)\n",
    "my_func.spec.use_default_image = True\n",
    "\n",
    "# Not a must - default: 1\n",
    "my_func.spec.replicas = 2\n",
    "\n",
    "# If needed, sparkConf can be modified like this:\n",
    "# my_func.spec.spark_conf['spark.specific.config.key'] = 'value'\n",
    "\n",
    "config = fstore.RunConfig(local=True, function=my_func, handler=\"ingest_handler\")\n",
    "quotes_df = fstore.ingest(news_set, source, run_config=config)"
   ]
  },
  {
   "cell_type": "code",
   "execution_count": 12,
   "metadata": {},
   "outputs": [],
   "source": [
    "# Define the HTTP Source to_dictable the HTTP trigger on our function and expose the endpoint.\n",
    "# There is an option to declare key and timestamp inside the http source (here we dont send data through the http hence not needed)\n",
    "http_source = mlrun.datastore.sources.HttpSource()\n",
    "news_set.spec.source = http_source\n",
    "\n",
    "# code_to_function our mlrun wrapped function to deploy the ingestion pipeline on.\n",
    "# the serving runtimes enables the deployment of our feature set's computational graph\n",
    "function = mlrun.code_to_function(name='get_news',kind='serving',image='mlrun/mlrun', requirements=['yahoo_fin'])\n",
    "function.spec.readiness_timeout=100000\n",
    "\n",
    "run_config = fstore.RunConfig(function=function, local=False).apply(mlrun.mount_v3io())"
   ]
  },
  {
   "cell_type": "code",
   "execution_count": null,
   "metadata": {},
   "outputs": [],
   "source": [
    "# Deploying\n",
    "news_set_endpoint = fstore.deploy_ingestion_service(featureset=news_set, run_config=run_config)"
   ]
  },
  {
   "cell_type": "markdown",
   "metadata": {},
   "source": [
    "## Testing ingestion service"
   ]
  },
  {
   "cell_type": "code",
   "execution_count": null,
   "metadata": {},
   "outputs": [],
   "source": [
    "import requests\n",
    "import json\n",
    "\n",
    "now = datetime.datetime.now().strftime('%Y-%m-%d %H:%M:%S')\n",
    "\n",
    "t = requests.post(news_set_endpoint,json={'ticker':['news'],\n",
    "                                                 'Datetime': now,\n",
    "                                                 'n_stocks':4})\n",
    "t.text"
   ]
  },
  {
   "cell_type": "markdown",
   "metadata": {},
   "source": [
    "## Creating scheduled mlrun job to invoke our function every time delta"
   ]
  },
  {
   "cell_type": "code",
   "execution_count": null,
   "metadata": {},
   "outputs": [],
   "source": [
    "os.makedirs('src',exist_ok=True)"
   ]
  },
  {
   "cell_type": "code",
   "execution_count": null,
   "metadata": {},
   "outputs": [],
   "source": [
    "%%writefile src/invoker.py\n",
    "\n",
    "import requests\n",
    "import datetime\n",
    "\n",
    "def ingestion_service_invoker(endpoint): \n",
    "    now = datetime.datetime.now().strftime('%Y-%m-%d %H:%M:%S')\n",
    "    \n",
    "    t = requests.post(endpoint,json={'ticker':['news'],\n",
    "                                     'Datetime': now,\n",
    "                                     'n_stocks':4})"
   ]
  },
  {
   "cell_type": "code",
   "execution_count": null,
   "metadata": {},
   "outputs": [],
   "source": [
    "# specifying '0 8 * * *' as schedule will trigger the function every day at 08:00 AM\n",
    "fn = mlrun.code_to_function(name='ingestion_service_news',kind='job',image='mlrun/mlrun',handler='ingestion_service_invoker', filename='src/invoker.py')\n",
    "fn.run(params={'endpoint':news_set_endpoint}, schedule='0 8 * * *')"
   ]
  },
  {
   "cell_type": "code",
   "execution_count": null,
   "metadata": {},
   "outputs": [],
   "source": []
  }
 ],
 "metadata": {
  "kernelspec": {
   "display_name": "Python 3",
   "language": "python",
   "name": "python3"
  },
  "language_info": {
   "codemirror_mode": {
    "name": "ipython",
    "version": 3
   },
   "file_extension": ".py",
   "mimetype": "text/x-python",
   "name": "python",
   "nbconvert_exporter": "python",
   "pygments_lexer": "ipython3",
   "version": "3.7.6"
  }
 },
 "nbformat": 4,
 "nbformat_minor": 4
}
