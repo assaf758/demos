{
 "cells": [
  {
   "cell_type": "markdown",
   "metadata": {},
   "source": [
    "# Ingest Real-Time Stock Data to Iguazio NoSQL and Time-series DB\n",
    "the following example function ingest real-time stock information from an internet service (Yahoo finance api) into iguazio platform.<br>\n",
    "everytime the data is updated it updates a NoSQL table with the recent metadata and updates the time-series DB with the new metrics (price and volume)\n",
    "\n",
    "The same code can run inside a nuclio (serverless) function and be automatically triggered on a predefined schedule (cron) or through HTTP requests<br>\n",
    "\n",
    "the example demonstrate the use of `%nuclio` magic commands to specify environment variables, package dependencies,<br>configurations (such as the cron schedule), and to deploy functions automatically onto a cluster."
   ]
  },
  {
   "cell_type": "code",
   "execution_count": 26,
   "metadata": {},
   "outputs": [],
   "source": [
    "# if the nuclio-jupyter package is not installed run !pip install nuclio-jupyter\n",
    "import nuclio \n",
    "import os"
   ]
  },
  {
   "cell_type": "markdown",
   "metadata": {},
   "source": [
    "## Environment"
   ]
  },
  {
   "cell_type": "markdown",
   "metadata": {},
   "source": [
    "copy the local credentials to the nuclio function config (-c option doesn't initialize locally)"
   ]
  },
  {
   "cell_type": "code",
   "execution_count": 18,
   "metadata": {},
   "outputs": [],
   "source": [
    "%nuclio env -c V3IO_ACCESS_KEY=${V3IO_ACCESS_KEY}\n",
    "%nuclio env -c V3IO_USERNAME=${V3IO_USERNAME}\n",
    "%nuclio env -c V3IO_API=${V3IO_API}"
   ]
  },
  {
   "cell_type": "markdown",
   "metadata": {},
   "source": [
    "### Set function configuration \n",
    "use a cron trigger with 5min interval and define the base image<br>\n",
    "for more details check [nuclio function configuration reference](https://github.com/nuclio/nuclio/blob/master/docs/reference/function-configuration/function-configuration-reference.md)"
   ]
  },
  {
   "cell_type": "code",
   "execution_count": 19,
   "metadata": {},
   "outputs": [
    {
     "name": "stdout",
     "output_type": "stream",
     "text": [
      "%nuclio: setting kind to 'nuclio'\n",
      "%nuclio: setting spec.build.baseImage to 'mlrun/ml-models'\n"
     ]
    }
   ],
   "source": [
    "%%nuclio config \n",
    "kind = \"nuclio\"\n",
    "spec.build.baseImage = \"mlrun/mlrun:0.6.5\""
   ]
  },
  {
   "cell_type": "markdown",
   "metadata": {},
   "source": [
    "### Install required packages\n",
    "`%nuclio cmd` allows you to run image build instructions and install packages<br>\n",
    "Note: `-c` option will only install in nuclio, not locally"
   ]
  },
  {
   "cell_type": "code",
   "execution_count": 3,
   "metadata": {},
   "outputs": [],
   "source": [
    "%%nuclio cmd -c\n",
    "pip install lxml\n",
    "pip install yfinance\n",
    "pip install requests\n",
    "pip install v3io_frames"
   ]
  },
  {
   "cell_type": "markdown",
   "metadata": {},
   "source": [
    "## Nuclio function implementation\n",
    "this function can run in Jupyter or in nuclio (real-time serverless)"
   ]
  },
  {
   "cell_type": "code",
   "execution_count": 6,
   "metadata": {},
   "outputs": [],
   "source": [
    "# nuclio: start-code"
   ]
  },
  {
   "cell_type": "code",
   "execution_count": 161,
   "metadata": {},
   "outputs": [],
   "source": [
    "import yfinance as yf\n",
    "import os\n",
    "import pandas as pd\n",
    "import v3io_frames as v3f\n",
    "import ast\n",
    "import mlrun.feature_store as fs\n",
    "import mlrun\n",
    "import datetime\n",
    "from mlrun.datastore.targets import ParquetTarget"
   ]
  },
  {
   "cell_type": "code",
   "execution_count": 168,
   "metadata": {},
   "outputs": [],
   "source": [
    "def update_tickers(context, start, end, interval):\n",
    "    '''\n",
    "    update_tickers function saves yfinance data in given range and interval.\n",
    "    several data targets -\n",
    "    Time-Series DB, Key-Value, Feature-Set\n",
    "    '''\n",
    "    all_records=[]\n",
    "    stocks_df = pd.DataFrame()\n",
    "    for sym in context.stock_syms:\n",
    "        # getting data from yfinance, ticker by ticker, and saving relevant information in context.\n",
    "        hist = yf.Ticker(sym).history(start=start, end=end,interval=interval).drop([\"Dividends\",\"Stock Splits\"],axis=1)\n",
    "        time = hist.index[len(hist) - 1]\n",
    "        record = hist.loc[time]\n",
    "        last = context.last_trade_times.get(sym)\n",
    "        # Taking lines that are not present already in our feature-set\n",
    "        if last:\n",
    "            hist = hist[hist.index>last]\n",
    "        context.logger.info(f'Received {sym} data from yfinance, including {len(hist)} candles ending at {last}')\n",
    "        # update the stocks table and TSDB metrics in case of new data\n",
    "        if not last or time > last:\n",
    "            fs_data = hist.copy().reset_index()\n",
    "            fs_data[\"symbol\"]=sym\n",
    "            fs_data.set_index(\"symbol\",inplace=True)\n",
    "            # ingesting new data to a featureset\n",
    "            context.logger.info(f\"Writing new dataframe with shape {fs_data.shape} to feature store\")\n",
    "            fs_data[\"Datetime\"] = fs_data[\"Datetime\"].dt.tz_convert('UTC')\n",
    "            fs.ingest(context.stock_info_feature_set, fs_data, infer_options=fs.InferOptions.default(),\n",
    "                     overwrite=False)\n",
    "            \n",
    "            # update NoSQL table with stock data\n",
    "            stock = {'symbol': sym, 'price': record['Close'], 'volume': record['Volume'], 'last_updated': time}\n",
    "            #all_records.append(stock)\n",
    "            expr = context.expr_template.format(**stock)\n",
    "            context.logger.debug_with('update expression', symbol=sym, expr=expr)\n",
    "            context.v3c.execute('kv', context.stocks_kv_table, 'update', args={'key': sym, 'expression': expr})\n",
    "         \n",
    "            context.logger.info(f'Updated records from {last} to {time}')\n",
    "            # update time-series DB with price and volume metrics (use pandas dataframe with a single row, indexed by date)\n",
    "            context.last_trade_times[sym] = time\n",
    "            hist['symbol'] = sym\n",
    "            hist = hist.reset_index()\n",
    "            hist = hist.set_index(['Datetime', 'symbol'])\n",
    "            hist = hist.loc[:, ['Close', 'Volume']]\n",
    "            hist = hist.rename(columns={'Close': 'price', 'Volume': 'volume'})\n",
    "            stocks_df = stocks_df.append(hist)\n",
    "            context.logger.info(f'Added records {hist.shape[0]} records for {sym} to history')\n",
    "        else:\n",
    "            context.logger.info(f'No update was made, current TS: {last} vs. new data {time}')\n",
    "    \n",
    "    # inferring KV to create a scheme\n",
    "    context.v3c.execute(\"kv\",table = context.stocks_kv_table, command = \"infer\")\n",
    "    \n",
    "    # write price and volume metrics to the Time-Series DB, add exchange label\n",
    "    if stocks_df.shape[0]>0:\n",
    "        stocks_df = stocks_df.sort_index(level=0)\n",
    "        context.logger.debug_with('writing data to TSDB', stocks=stocks_df)\n",
    "        stocks_df.to_csv('history.csv')\n",
    "        context.v3c.write(backend='tsdb', table=context.stocks_tsdb_table, dfs=stocks_df)"
   ]
  },
  {
   "cell_type": "code",
   "execution_count": 169,
   "metadata": {},
   "outputs": [],
   "source": [
    "def init_context(context):\n",
    "    context.logger.info(\"init stocks reader context\")\n",
    "    setattr(context, 'PROJECT_NAME', os.getenv('PROJECT_NAME', 'stocks-' + os.getenv('V3IO_USERNAME')))\n",
    "    mlrun.set_environment(project = context.PROJECT_NAME)\n",
    "    # Setup V3IO Client\n",
    "    setattr(context,\"V3IO_FRAMESD\", os.getenv(\"V3IO_FRAMESD\",'framesd:8081'))\n",
    "    client = v3f.Client(context.V3IO_FRAMESD, container=os.getenv('V3IO_CONTAINER', 'users'))\n",
    "    setattr(context, 'v3c', client)\n",
    "    \n",
    "    # Create V3IO Tables and add reference to context\n",
    "    setattr(context, 'stocks_kv_table', os.getenv('STOCKS_KV_TABLE', os.getenv('V3IO_USERNAME') + '/stocks/stocks_kv'))\n",
    "    setattr(context, 'stocks_tsdb_table', os.getenv('STOCKS_TSDB_TABLE', os.getenv('V3IO_USERNAME') + '/stocks/stocks_tsdb'))\n",
    "    context.v3c.create(backend='tsdb', table=context.stocks_tsdb_table, rate='1/m', if_exists=1)\n",
    "    \n",
    "    # Supply the feature set to ingest data to.\n",
    "    stocks_info_set = fs.FeatureSet(\"stocks\", entities=[fs.Entity(\"symbol\")],timestamp_key=\"Datetime\")\n",
    "    stocks_info_set.set_targets(targets=[ParquetTarget(name=\"stocks\",partitioned=True,time_partitioning_granularity=\"day\")]\n",
    "                                ,with_defaults=False)\n",
    "    setattr(context,'stock_info_feature_set',stocks_info_set)\n",
    "    \n",
    "    # Adding aggregations\n",
    "    context.stock_info_feature_set.add_aggregation(\"Opens\",\"Open\",[\"min\",\"max\"],[\"1h\"])\n",
    "    context.stock_info_feature_set.add_aggregation(\"Volumes\",\"Volume\",[\"min\",\"max\"],[\"1h\"])\n",
    "    \n",
    "    stocks = os.getenv('STOCK_LIST','GOOGL,MSFT,AMZN,AAPL,INTC')\n",
    "    if stocks.startswith('['):\n",
    "        stock_syms = ast.literal_eval(stocks)\n",
    "    else: \n",
    "        stock_syms = stocks.split(',')\n",
    "    setattr(context, 'stock_syms', stock_syms)\n",
    "    \n",
    "\n",
    "    # v3io update expression template \n",
    "    expr_template = os.getenv('EXPRESSION_TEMPLATE', \"symbol='{symbol}';price={price};volume={volume};last_updated='{last_updated}'\")\n",
    "    setattr(context, 'expr_template', expr_template)\n",
    "    \n",
    "    # ticker and its last timestamp saved\n",
    "    last_trade_times = {}\n",
    "    setattr(context, 'last_trade_times', last_trade_times)\n",
    "    \n",
    "    # Run first initial data preperation\n",
    "    start = datetime.datetime.now()-datetime.timedelta(7)\n",
    "    end = datetime.datetime.now()\n",
    "    s_df = update_tickers(context, start=start, end=end,interval=\"1m\")"
   ]
  },
  {
   "cell_type": "code",
   "execution_count": 170,
   "metadata": {},
   "outputs": [],
   "source": [
    "def handler(context,event):\n",
    "    # Getting stocks information only from last day (cron tirgger the function every 5 min - not all the data will be saved (not saving same data twice))\n",
    "    start = datetime.datetime.now()-datetime.timedelta(1)\n",
    "    end = datetime.datetime.now()\n",
    "    stocks_df = update_tickers(context, start=start, end=end,interval=\"1m\")"
   ]
  },
  {
   "cell_type": "code",
   "execution_count": 171,
   "metadata": {},
   "outputs": [],
   "source": [
    "# nuclio: end-code"
   ]
  },
  {
   "cell_type": "markdown",
   "metadata": {},
   "source": [
    "## Function invocation\n",
    "### Local test\n",
    "the following section simulates nuclio function invocation and will emit the function results"
   ]
  },
  {
   "cell_type": "code",
   "execution_count": null,
   "metadata": {},
   "outputs": [],
   "source": [
    "# create a test event and invoke the function locally \n",
    "init_context(context)\n",
    "event = \"\"\n",
    "handler(context,event)"
   ]
  },
  {
   "cell_type": "markdown",
   "metadata": {},
   "source": [
    "## Deploy to cluster"
   ]
  },
  {
   "cell_type": "code",
   "execution_count": 183,
   "metadata": {},
   "outputs": [
    {
     "name": "stdout",
     "output_type": "stream",
     "text": [
      "> 2021-07-12 05:08:38,937 [info] function spec saved to path: 01-read-stocks.yaml\n"
     ]
    }
   ],
   "source": [
    "from mlrun import code_to_function\n",
    "\n",
    "# Export bare function\n",
    "fn = code_to_function('stocks-reader',\n",
    "                      handler='handler')\n",
    "fn.export('01-read-stocks.yaml')\n",
    "\n",
    "# Set parameters for current deployment\n",
    "fn.add_trigger('cron', nuclio.triggers.CronTrigger('300s'))\n",
    "fn.set_envs({'STOCK_LIST': ['GOOGL', 'MSFT', 'AMZN', 'AAPL', 'INTC'],\n",
    "             'V3IO_CONTAINER': 'users' ,\n",
    "             'STOCKS_TSDB_TABLE': os.getenv('V3IO_USERNAME')  + '/stocks/stocks_tsdb',\n",
    "             'STOCKS_KV_TABLE': os.getenv('V3IO_USERNAME')  + '/stocks/stocks_kv',\n",
    "             'EXPRESSION_TEMPLATE': \"symbol='{symbol}';price={price};volume={volume};last_updated='{last_updated}'\",\n",
    "             'PROJECT_NAME' : \"stocks-\" + os.getenv('V3IO_USERNAME')})\n",
    "fn.spec.max_replicas = 1"
   ]
  },
  {
   "cell_type": "code",
   "execution_count": null,
   "metadata": {},
   "outputs": [],
   "source": [
    "addr = fn.deploy(project=\"stocks-\" + os.getenv('V3IO_USERNAME'))"
   ]
  },
  {
   "cell_type": "code",
   "execution_count": 185,
   "metadata": {},
   "outputs": [],
   "source": [
    "!curl {addr}"
   ]
  },
  {
   "cell_type": "code",
   "execution_count": null,
   "metadata": {},
   "outputs": [],
   "source": []
  }
 ],
 "metadata": {
  "kernelspec": {
   "display_name": "Python 3",
   "language": "python",
   "name": "python3"
  },
  "language_info": {
   "codemirror_mode": {
    "name": "ipython",
    "version": 3
   },
   "file_extension": ".py",
   "mimetype": "text/x-python",
   "name": "python",
   "nbconvert_exporter": "python",
   "pygments_lexer": "ipython3",
   "version": "3.7.6"
  },
  "toc-autonumbering": false
 },
 "nbformat": 4,
 "nbformat_minor": 4
}
