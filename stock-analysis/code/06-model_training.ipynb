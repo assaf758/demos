{
 "cells": [
  {
   "cell_type": "markdown",
   "metadata": {},
   "source": [
    "Downloading information from available resources and trains an RNN model"
   ]
  },
  {
   "cell_type": "code",
   "execution_count": 25,
   "metadata": {},
   "outputs": [],
   "source": [
    "import nuclio \n",
    "import mlrun\n",
    "import os"
   ]
  },
  {
   "cell_type": "code",
   "execution_count": 16,
   "metadata": {},
   "outputs": [],
   "source": [
    "%nuclio env -c V3IO_ACCESS_KEY=${V3IO_ACCESS_KEY}\n",
    "%nuclio env -c V3IO_USERNAME=${V3IO_USERNAME}\n",
    "%nuclio env -c V3IO_API=${V3IO_API}"
   ]
  },
  {
   "cell_type": "code",
   "execution_count": null,
   "metadata": {},
   "outputs": [],
   "source": [
    "%%nuclio cmd -c\n",
    "pip install tensorflow==2.2.0"
   ]
  },
  {
   "cell_type": "code",
   "execution_count": null,
   "metadata": {},
   "outputs": [],
   "source": [
    "%%nuclio config \n",
    "kind = \"nuclio\"\n",
    "spec.build.baseImage = \"mlrun/mlrun:0.6.5\""
   ]
  },
  {
   "cell_type": "code",
   "execution_count": null,
   "metadata": {},
   "outputs": [],
   "source": [
    "# nuclio: start-code"
   ]
  },
  {
   "cell_type": "code",
   "execution_count": 1,
   "metadata": {},
   "outputs": [],
   "source": [
    "import mlrun.feature_store as fs\n",
    "import mlrun\n",
    "import datetime\n",
    "from mlrun import MLClientCtx\n",
    "import os\n",
    "import numpy as np\n",
    "import pandas as pd\n",
    "from sklearn.preprocessing import MinMaxScaler\n",
    "from tensorflow.keras.models import Sequential, load_model\n",
    "from tensorflow.keras.layers import Dense, LSTM, Dropout\n",
    "import nuclio"
   ]
  },
  {
   "cell_type": "code",
   "execution_count": 2,
   "metadata": {},
   "outputs": [],
   "source": [
    "def get_data_from_vector(context,ticker):\n",
    "    last = context.last_trained_times.get(ticker)\n",
    "    if not last:\n",
    "        last = datetime.datetime.now()-datetime.timedelta(8)\n",
    "    # change to read only data from the correct time and correct ticker\n",
    "    data = fs.get_offline_features(context.stocks_vec).to_dataframe()\n",
    "    \n",
    "    # after changing to correct reading, remove all this section\n",
    "    data = data[data[\"symbol\"] == ticker]\n",
    "    data = data.sort_values(by=\"Datetime\",ascending=True)\n",
    "#     context.logger.info(f\"data is : {data}\")\n",
    "    dates = data[\"Datetime\"]\n",
    "    context.logger.info(f\"timestamps : {dates}, and columns :{data.columns}\")\n",
    "    return data"
   ]
  },
  {
   "cell_type": "code",
   "execution_count": 3,
   "metadata": {},
   "outputs": [],
   "source": [
    "def get_model(X_train):\n",
    "    regressor = Sequential()\n",
    "    regressor.add(LSTM(units = 50, return_sequences = True, input_shape = (X_train.shape[1], X_train.shape[2])))\n",
    "    regressor.add(Dropout(0.2))\n",
    "    regressor.add(LSTM(units = 50, return_sequences = True))\n",
    "    regressor.add(Dropout(0.2))\n",
    "    regressor.add(LSTM(units = 50, return_sequences = True))\n",
    "    regressor.add(Dropout(0.2))\n",
    "    regressor.add(LSTM(units = 50))\n",
    "    regressor.add(Dropout(0.2))\n",
    "    regressor.add(Dense(units =  1))\n",
    "    \n",
    "    #Compiling and fitting the model\n",
    "    regressor.compile(optimizer = 'adam', loss = 'mean_squared_error')\n",
    "    return regressor"
   ]
  },
  {
   "cell_type": "code",
   "execution_count": 4,
   "metadata": {},
   "outputs": [],
   "source": [
    "def modify_data(context,ticker_data):\n",
    "    ticker_to_int = {'GOOGL' : 0,'MSFT' : 1,'AMZN' : 2,'AAPL' : 3,'INTC' : 4}\n",
    "    ticker_data[\"symbol\"] = ticker_data[\"symbol\"].apply(lambda x: ticker_to_int.get(x))\n",
    "    for col in [x for x in ticker_data.columns if \"Open\" in x or \"Close\" in x or \"High\" in x or \"Low\" in x]:\n",
    "        ticker_data[[col]] = context.priceMMS.fit_transform(ticker_data[[col]])\n",
    "    for col in [x for x in ticker_data.columns if \"Volume\" in x]:\n",
    "        ticker_data[[col]] = context.volumeMMS.fit_transform(ticker_data[[col]])\n",
    "    for col in [x for x in ticker_data.columns if \"Sentiment\" in x]:\n",
    "        ticker_data[[col]] = context.sentimentMMS.fit_transform(ticker_data[[col]])\n",
    "        \n",
    "    X_train = []\n",
    "    y_train = []\n",
    "    size_of_stamps = 10\n",
    "    data = ticker_data.values\n",
    "    closing = ticker_data[\"Close\"].values\n",
    "    for i in range(size_of_stamps, data.shape[0]):\n",
    "        X_train.append(data[i-size_of_stamps:i])\n",
    "        y_train.append(closing[i])\n",
    "        \n",
    "    X_train = np.asarray(X_train).astype('float32')\n",
    "    y_train = np.asarray(y_train).astype('float32')\n",
    "    \n",
    "    where_are_NaNs = np.isnan(X_train)\n",
    "    X_train[where_are_NaNs] = 0\n",
    "    return X_train,y_train"
   ]
  },
  {
   "cell_type": "code",
   "execution_count": 6,
   "metadata": {},
   "outputs": [],
   "source": [
    "def handler(context,event):   \n",
    "    model_path = os.getenv('model_path', 'mymodel.h5')\n",
    "    all_data = pd.DataFrame()\n",
    "    context.logger.info(\"getting data from FS\")\n",
    "    all_data = fs.get_offline_features(context.stocks_vec).to_dataframe()\n",
    "    context.logger.info(\"updating times ...\")\n",
    "    for ticker in context.sym_to_url.keys():\n",
    "        ticker_data = all_data[all_data[\"symbol\"] == ticker]\n",
    "        max_date = max(ticker_data[\"Datetime\"])\n",
    "        context.last_trained_times[ticker] = max_date\n",
    "        context.logger.info(f\"ticker {ticker} max date is : {max_date}\")\n",
    "    all_data = all_data.drop([\"Datetime\",\"Content\",\"Link\"], axis=1)\n",
    "    context.logger.info(\"modifieing data\")\n",
    "    X_train,y_train = modify_data(context,all_data) \n",
    "    context.logger.info(\"Finished modifieing data\")\n",
    "    \n",
    "    if os.path.exists(model_path):\n",
    "        context.logger.info(\"Previously trained model loaded\")\n",
    "        model = load_model(model_path)\n",
    "    else:\n",
    "        context.logger.info(\"New model created\")\n",
    "        model = get_model(X_train)\n",
    "        \n",
    "    model.fit(X_train, y_train, epochs = 2, batch_size = 512)\n",
    "    context.logger.info(\"Done training\")\n",
    "    model.save(model_path)\n",
    "    context.logger.info(f\"model saved at {model_path}\")\n",
    "    return context.PROJECT_NAME"
   ]
  },
  {
   "cell_type": "code",
   "execution_count": 7,
   "metadata": {},
   "outputs": [],
   "source": [
    "def init_context(context):\n",
    "    context.logger.info(\"Initalizing context\")\n",
    "    setattr(context, 'PROJECT_NAME', os.getenv('PROJECT_NAME', 'stocks-' + os.getenv('V3IO_USERNAME')))\n",
    "    mlrun.set_environment(project=context.PROJECT_NAME)\n",
    "    \n",
    "    last_trained_times = {}\n",
    "    setattr(context, 'last_trained_times', last_trained_times)\n",
    "\n",
    "    sym_to_url = {'GOOGL': 'google-inc', 'MSFT': 'microsoft-corp', 'AMZN': 'amazon-com-inc',\n",
    "                'AAPL': 'apple-computer-inc', 'INTC' : 'intel-corp'}\n",
    "    \n",
    "    setattr(context, 'sym_to_url',  os.getenv('sym_to_url',sym_to_url))\n",
    "        \n",
    "\n",
    "    setattr(context,'stocks_vec', os.getenv('stocks_vec',\"stocks-vec\"))\n",
    "    \n",
    "    setattr(context,\"priceMMS\",MinMaxScaler(feature_range = (0, 1)))\n",
    "    setattr(context,\"volumeMMS\",MinMaxScaler(feature_range = (0, 1)))\n",
    "    setattr(context,\"sentimentMMS\",MinMaxScaler(feature_range = (0, 1)))\n",
    "    context.logger.info(\"Finished Initalizing context\")"
   ]
  },
  {
   "cell_type": "code",
   "execution_count": 8,
   "metadata": {},
   "outputs": [],
   "source": [
    "# nuclio: end-code"
   ]
  },
  {
   "cell_type": "code",
   "execution_count": null,
   "metadata": {},
   "outputs": [],
   "source": [
    "mlrun.set_environment(project=\"stocks-\" + os.getenv('V3IO_USERNAME'))"
   ]
  },
  {
   "cell_type": "code",
   "execution_count": null,
   "metadata": {},
   "outputs": [],
   "source": [
    "init_context(context)\n",
    "event = \"\"\n",
    "s = handler(context,event)"
   ]
  },
  {
   "cell_type": "code",
   "execution_count": 11,
   "metadata": {},
   "outputs": [],
   "source": [
    "# test remote deployment\n",
    "from mlrun import code_to_function,auto_mount\n",
    "import os \n",
    "\n",
    "fn = code_to_function('rnn_model_training',\n",
    "                      handler='handler')\n",
    "\n",
    "fn.apply(auto_mount())\n",
    "\n",
    "# Set parameters for current deployment\n",
    "fn.set_envs({'PROJECT_NAME' : \"stocks-\" + os.getenv('V3IO_USERNAME'),\n",
    "             'model_path' : '/User/test/demos/stock-analysis/models/mymodel.h5'}) # make sure proper path is set\n",
    "fn.spec.max_replicas = 2"
   ]
  },
  {
   "cell_type": "code",
   "execution_count": null,
   "metadata": {},
   "outputs": [],
   "source": [
    "addr = fn.deploy(project=\"stocks-\" + os.getenv('V3IO_USERNAME'))"
   ]
  },
  {
   "cell_type": "code",
   "execution_count": null,
   "metadata": {},
   "outputs": [],
   "source": [
    "!curl {addr}"
   ]
  },
  {
   "cell_type": "code",
   "execution_count": null,
   "metadata": {},
   "outputs": [],
   "source": []
  }
 ],
 "metadata": {
  "kernelspec": {
   "display_name": "Python 3",
   "language": "python",
   "name": "python3"
  },
  "language_info": {
   "codemirror_mode": {
    "name": "ipython",
    "version": 3
   },
   "file_extension": ".py",
   "mimetype": "text/x-python",
   "name": "python",
   "nbconvert_exporter": "python",
   "pygments_lexer": "ipython3",
   "version": "3.7.6"
  }
 },
 "nbformat": 4,
 "nbformat_minor": 4
}
