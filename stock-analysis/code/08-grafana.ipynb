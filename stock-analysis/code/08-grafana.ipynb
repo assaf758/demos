{
 "cells": [
  {
   "cell_type": "markdown",
   "metadata": {},
   "source": [
    "## Deploy a Grafana Dashboard  \n",
    "To track the different stocks on a live dashboard we will use **Grafana**.  <br>\n",
    "We will use [Grafwiz](https://github.com/v3io/grafwiz) to define and deploy the dashboard directly from this notebook"
   ]
  },
  {
   "cell_type": "code",
   "execution_count": 13,
   "metadata": {},
   "outputs": [],
   "source": [
    "# nuclio: ignore\n",
    "import nuclio"
   ]
  },
  {
   "cell_type": "code",
   "execution_count": 15,
   "metadata": {},
   "outputs": [],
   "source": [
    "%nuclio env -c V3IO_ACCESS_KEY=${V3IO_ACCESS_KEY}\n",
    "%nuclio env -c V3IO_USERNAME=${V3IO_USERNAME}\n",
    "%nuclio env -c V3IO_API=${V3IO_API}"
   ]
  },
  {
   "cell_type": "code",
   "execution_count": 16,
   "metadata": {},
   "outputs": [
    {
     "name": "stdout",
     "output_type": "stream",
     "text": [
      "%nuclio: setting kind to 'nuclio'\n",
      "%nuclio: setting spec.build.baseImage to 'mlrun/ml-models'\n"
     ]
    }
   ],
   "source": [
    "%%nuclio config \n",
    "kind = \"job\"\n",
    "spec.build.Image = \"mlrun/ml-models\""
   ]
  },
  {
   "cell_type": "code",
   "execution_count": 16,
   "metadata": {},
   "outputs": [],
   "source": [
    "%nuclio cmd -c pip install git+https://github.com/v3io/grafwiz --upgrade\n",
    "%nuclio cmd -c pip install v3io_frames"
   ]
  },
  {
   "cell_type": "code",
   "execution_count": 18,
   "metadata": {},
   "outputs": [],
   "source": [
    "# nuclio: start-code"
   ]
  },
  {
   "cell_type": "code",
   "execution_count": null,
   "metadata": {},
   "outputs": [],
   "source": [
    "from grafwiz import *\n",
    "import os\n",
    "import v3io_frames as v3f"
   ]
  },
  {
   "cell_type": "code",
   "execution_count": 40,
   "metadata": {},
   "outputs": [],
   "source": [
    "def handler(context,streamview_url,readvector_url,rnn_serving_url,v3io_container,stocks_kv,stocks_tsdb,grafana_url):\n",
    "    \n",
    "    context.logger.info(\"Initializing DataSources1\")\n",
    "    context.logger.info(streamview_url)\n",
    "    context.logger.info(readvector_url)\n",
    "    \n",
    "    DataSource(name='iguazio').deploy(grafana_url, use_auth=True)\n",
    "    DataSource(name='stream-viewer', frames_url=streamview_url).deploy(grafana_url, use_auth=False, overwrite=False)\n",
    "    DataSource(name='read-vector', frames_url=readvector_url).deploy(grafana_url, use_auth=False, overwrite=False)\n",
    "    DataSource(name='rnn-serving', frames_url=rnn_serving_url).deploy(grafana_url, use_auth=False, overwrite=False)\n",
    "    \n",
    "    dash = Dashboard(\"stocks\", start='now-7d', dataSource='iguazio')\n",
    "    \n",
    "    # Add a symbol combo box (template) with data from the stocks table\n",
    "    dash.template(name=\"SYMBOL\", label=\"Symbol\", query=\"fields=symbol;table=\" + os.getenv('V3IO_USERNAME') + \"/stocks/stocks_kv;backend=kv;container=users\")\n",
    "\n",
    "    # Create a table and log viewer in one row\n",
    "    tbl = Table('Current Stocks Value', span=12).source(table=stocks_kv,fields=['symbol','price', 'volume','last_updated'],container=v3io_container)\n",
    "    dash.row([tbl])\n",
    "    \n",
    "    # Create 2 charts on the second row\n",
    "    metrics_row = [Graph(metric).series(table=stocks_tsdb, fields=[metric], filter='symbol==\"$SYMBOL\"',container=v3io_container) for metric in ['price','volume']]\n",
    "    dash.row(metrics_row)\n",
    "    \n",
    "    log = Table('Articles Log', dataSource='stream-viewer', span=12)\n",
    "    dash.row([log])\n",
    "\n",
    "    log = Table('Vector Log', dataSource='read-vector', span=12)\n",
    "    dash.row([log])\n",
    "    \n",
    "    log = Table('Predictions', dataSource='rnn-serving', span=12)\n",
    "    dash.row([log])\n",
    "    \n",
    "    dash.deploy(grafana_url)\n",
    "    \n",
    "    return \"Done\""
   ]
  },
  {
   "cell_type": "code",
   "execution_count": 10,
   "metadata": {},
   "outputs": [],
   "source": [
    "def init_context(context):\n",
    "    context.logger.info(\"init context\") "
   ]
  },
  {
   "cell_type": "code",
   "execution_count": 11,
   "metadata": {},
   "outputs": [],
   "source": [
    "# nuclio: end-code"
   ]
  },
  {
   "cell_type": "code",
   "execution_count": null,
   "metadata": {},
   "outputs": [],
   "source": [
    "# create a test event and invoke the function locally\n",
    "init_context(context)\n",
    "event = nuclio.Event(body='')\n",
    "resp = handler(context,\n",
    "               \"\", # here you need to insert the nuclio function endpoint - streamview_url\n",
    "               \"\", # here you need to insert the nuclio function endpoint - readvector_url\n",
    "               \"\", # here you need to insert the nuclio function endpoint - rnn_serving_url\n",
    "               \"users\",\n",
    "               os.getenv('V3IO_USERNAME')  + 'stocks/stocks_kv',\n",
    "               os.getenv('V3IO_USERNAME') + '/stocks/stocks_tsdb', \n",
    "               \"http://grafana\")"
   ]
  },
  {
   "cell_type": "code",
   "execution_count": 8,
   "metadata": {},
   "outputs": [
    {
     "data": {
      "text/plain": [
       "<mlrun.runtimes.kubejob.KubejobRuntime at 0x7f83d2213c10>"
      ]
     },
     "execution_count": 8,
     "metadata": {},
     "output_type": "execute_result"
    }
   ],
   "source": [
    "from mlrun import code_to_function\n",
    "import mlrun\n",
    "import os \n",
    "fn = code_to_function('grafana-tryout',\n",
    "                      handler='handler')\n",
    "fn.apply(mlrun.auto_mount())"
   ]
  },
  {
   "cell_type": "code",
   "execution_count": null,
   "metadata": {},
   "outputs": [],
   "source": [
    "fn.run(project = \"stocks-\" + os.getenv('V3IO_USERNAME'),\n",
    "       params = {\"streamview_url\": \"\",# here you need to insert the nuclio function endpoint - streamview_url\n",
    "                           \"readvector_url\" : \"\",# here you need to insert the nuclio function endpoint - readvector_url\n",
    "                           \"rnn_serving_url\" : \"\",# here you need to insert the nuclio function endpoint - rnn_serving_url\n",
    "                           \"v3io_container\" : \"users\",\n",
    "                           \"stocks_kv\" : os.getenv('V3IO_USERNAME')  + 'stocks/stocks_kv',\n",
    "                           \"stocks_tsdb\" : os.getenv('V3IO_USERNAME') + '/stocks/stocks_tsdb',\n",
    "                           \"grafana_url\" : \"http://grafana\"})"
   ]
  },
  {
   "cell_type": "code",
   "execution_count": null,
   "metadata": {},
   "outputs": [],
   "source": [
    "!curl {addr}"
   ]
  },
  {
   "cell_type": "code",
   "execution_count": null,
   "metadata": {},
   "outputs": [],
   "source": []
  }
 ],
 "metadata": {
  "kernelspec": {
   "display_name": "Python 3",
   "language": "python",
   "name": "python3"
  },
  "language_info": {
   "codemirror_mode": {
    "name": "ipython",
    "version": 3
   },
   "file_extension": ".py",
   "mimetype": "text/x-python",
   "name": "python",
   "nbconvert_exporter": "python",
   "pygments_lexer": "ipython3",
   "version": "3.7.6"
  }
 },
 "nbformat": 4,
 "nbformat_minor": 4
}
