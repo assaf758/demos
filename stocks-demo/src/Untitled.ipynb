{
 "cells": [
  {
   "cell_type": "code",
   "execution_count": null,
   "metadata": {},
   "outputs": [],
   "source": [
    "import mlrun\n",
    "import mlrun.feature_store as fstore\n",
    "import queue"
   ]
  },
  {
   "cell_type": "code",
   "execution_count": 25,
   "metadata": {},
   "outputs": [
    {
     "name": "stdout",
     "output_type": "stream",
     "text": [
      "Overwriting serving.py\n"
     ]
    }
   ],
   "source": [
    "%%writefile serving.py\n",
    "\n",
    "import mlrun\n",
    "import mlrun.feature_store as fstore\n",
    "import queue\n",
    "import datetime\n",
    "import json\n",
    "import torch\n",
    "\n",
    "\n",
    "def postprocess(event):\n",
    "    print(f\"postprocess event {event}\")\n",
    "    return {\"prediction\":event}\n",
    "\n",
    "\n",
    "def preprocess(event):\n",
    "    print(f\"init context event {event}\")\n",
    "    tickers_data = {}\n",
    "    start_time = datetime.datetime.now()-datetime.timedelta(7)\n",
    "    end_time = datetime.datetime.now()-datetime.timedelta(0)\n",
    "    train_dataset = fstore.get_offline_features('stocks', entity_timestamp_column='Datetime',  with_indexes=True, start_time=start_time, end_time=end_time)\n",
    "    price_cols = ['Open','High','Low','Close']\n",
    "    df = train_dataset.to_dataframe().reset_index(drop=False)\n",
    "    df.fillna(value=1,inplace=True)\n",
    "    normalized_df = df.copy()\n",
    "    tickers = df['ticker'].unique()\n",
    "    data = []\n",
    "    labels = []\n",
    "    normalized_df[price_cols] = (normalized_df[price_cols] - normalized_df[price_cols].mean()) / normalized_df[price_cols].std()\n",
    "    normalized_df['Volume'] = (normalized_df['Volume'] - normalized_df['Volume'].mean()) / normalized_df['Volume'].std()\n",
    "    for ticker in tickers:\n",
    "        ticker_df = normalized_df[normalized_df['ticker'] == ticker].sort_values(by='Datetime').drop(['ticker','Datetime'],axis=1)\n",
    "        q = queue.Queue()\n",
    "        for idx,col in ticker_df[-5:].iterrows():\n",
    "            q.put(col.values.tolist())\n",
    "        tickers_data[ticker] = q\n",
    "        \n",
    "    return torch.tensor([list(value) for key,value in tickers_data.items()]).detach()"
   ]
  },
  {
   "cell_type": "code",
   "execution_count": 2,
   "metadata": {},
   "outputs": [
    {
     "name": "stdout",
     "output_type": "stream",
     "text": [
      "ERROR! Session/line number was not unique in database. History logging moved to new session 39\n"
     ]
    },
    {
     "ename": "NameError",
     "evalue": "name 'mlrun' is not defined",
     "output_type": "error",
     "traceback": [
      "\u001b[0;31m---------------------------------------------------------------------------\u001b[0m",
      "\u001b[0;31mNameError\u001b[0m                                 Traceback (most recent call last)",
      "\u001b[0;32m<ipython-input-2-6609228911e1>\u001b[0m in \u001b[0;36m<module>\u001b[0;34m\u001b[0m\n\u001b[0;32m----> 1\u001b[0;31m \u001b[0mfn\u001b[0m \u001b[0;34m=\u001b[0m \u001b[0mmlrun\u001b[0m\u001b[0;34m.\u001b[0m\u001b[0mcode_to_function\u001b[0m\u001b[0;34m(\u001b[0m\u001b[0;34m\"testing\"\u001b[0m\u001b[0;34m,\u001b[0m \u001b[0mkind\u001b[0m\u001b[0;34m=\u001b[0m\u001b[0;34m'nuclio'\u001b[0m\u001b[0;34m,\u001b[0m\u001b[0mimage\u001b[0m\u001b[0;34m=\u001b[0m\u001b[0;34m'mlrun/mlrun'\u001b[0m\u001b[0;34m,\u001b[0m\u001b[0mrequirements\u001b[0m\u001b[0;34m=\u001b[0m\u001b[0;34m[\u001b[0m\u001b[0;34m'torch'\u001b[0m\u001b[0;34m]\u001b[0m\u001b[0;34m)\u001b[0m\u001b[0;34m\u001b[0m\u001b[0;34m\u001b[0m\u001b[0m\n\u001b[0m",
      "\u001b[0;31mNameError\u001b[0m: name 'mlrun' is not defined"
     ]
    }
   ],
   "source": [
    "fn = mlrun.code_to_function(\"testing\", kind='nuclio',image='mlrun/mlrun',requirements=['torch'])"
   ]
  },
  {
   "cell_type": "code",
   "execution_count": null,
   "metadata": {},
   "outputs": [],
   "source": [
    "fn.deploy()"
   ]
  },
  {
   "cell_type": "code",
   "execution_count": null,
   "metadata": {},
   "outputs": [],
   "source": [
    "import json\n",
    "fn.invoke(body=json.dumps({'use_queue':True}),path='http://default-testing-default.default-tenant.app.kjlirbtakxqf.iguazio-cd1.com/')"
   ]
  },
  {
   "cell_type": "code",
   "execution_count": 23,
   "metadata": {},
   "outputs": [
    {
     "data": {
      "text/plain": [
       "[1, 2]"
      ]
     },
     "execution_count": 23,
     "metadata": {},
     "output_type": "execute_result"
    }
   ],
   "source": [
    "[i for key,i in {'a':1, 'b':2}.items()]"
   ]
  }
 ],
 "metadata": {
  "kernelspec": {
   "display_name": "Python 3",
   "language": "python",
   "name": "python3"
  },
  "language_info": {
   "codemirror_mode": {
    "name": "ipython",
    "version": 3
   },
   "file_extension": ".py",
   "mimetype": "text/x-python",
   "name": "python",
   "nbconvert_exporter": "python",
   "pygments_lexer": "ipython3",
   "version": "3.7.6"
  }
 },
 "nbformat": 4,
 "nbformat_minor": 4
}
