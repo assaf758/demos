{
 "cells": [
  {
   "cell_type": "code",
   "execution_count": 16,
   "metadata": {},
   "outputs": [],
   "source": [
    "import mlrun\n",
    "import mlrun.feature_store as fstore\n",
    "import queue"
   ]
  },
  {
   "cell_type": "code",
   "execution_count": 96,
   "metadata": {},
   "outputs": [
    {
     "name": "stdout",
     "output_type": "stream",
     "text": [
      "Writing serving.py\n"
     ]
    }
   ],
   "source": [
    "%%writefile serving.py\n",
    "\n",
    "import mlrun\n",
    "import mlrun.feature_store as fstore\n",
    "import queue\n",
    "import datetime\n",
    "import json\n",
    "import torch\n",
    "\n",
    "def init_context(context):\n",
    "    project = mlrun.get_or_create_project(name='stocks',user_project=True, context=\"./\")\n",
    "    tickers_data = {}\n",
    "    start_time = datetime.datetime.now()-datetime.timedelta(7)\n",
    "    end_time = datetime.datetime.now()-datetime.timedelta(0)\n",
    "    train_dataset = fstore.get_offline_features('stocks', entity_timestamp_column='Datetime',  with_indexes=True, start_time=start_time, end_time=end_time)\n",
    "    price_cols = ['Open','High','Low','Close']\n",
    "    df = train_dataset.to_dataframe().reset_index(drop=False)\n",
    "    df.fillna(value=1,inplace=True)\n",
    "    normalized_df = df.copy()\n",
    "    tickers = df['ticker'].unique()\n",
    "    data = []\n",
    "    labels = []\n",
    "    normalized_df[price_cols] = (normalized_df[price_cols] - normalized_df[price_cols].mean()) / normalized_df[price_cols].std()\n",
    "    normalized_df['Volume'] = (normalized_df['Volume'] - normalized_df['Volume'].mean()) / normalized_df['Volume'].std()\n",
    "    for ticker in tickers:\n",
    "        ticker_df = normalized_df[normalized_df['ticker'] == ticker].sort_values(by='Datetime').drop(['ticker','Datetime'],axis=1)\n",
    "        q = queue.Queue()\n",
    "        for idx,col in ticker_df[-5:].iterrows():\n",
    "            q.put(col.values.tolist())\n",
    "        tickers_data[ticker] = q\n",
    "    setattr(context, 'tickers_data', tickers_data)\n",
    "    \n",
    "def handler(context,event):\n",
    "    event.body = json.loads(event.body)\n",
    "    context.logger.info(event)\n",
    "    if(event.body['use_queue'] == True):\n",
    "        print(torch.tensor([list(q.queue) for q in context.tickers_data.values()]).detach())\n",
    "        return torch.tensor([list(q.queue) for q in context.tickers_data.values()]).detach()\n",
    "    else:\n",
    "        return torch.tensor(event.body['data']).detach"
   ]
  },
  {
   "cell_type": "code",
   "execution_count": 93,
   "metadata": {},
   "outputs": [],
   "source": [
    "fn = mlrun.code_to_function(\"testing\", kind='nuclio',image='mlrun/mlrun',requirements=['torch'])"
   ]
  },
  {
   "cell_type": "code",
   "execution_count": 94,
   "metadata": {},
   "outputs": [
    {
     "name": "stdout",
     "output_type": "stream",
     "text": [
      "> 2022-04-11 11:25:08,262 [info] Starting remote function deploy\n",
      "2022-04-11 11:25:08  (info) Deploying function\n",
      "2022-04-11 11:25:08  (info) Building\n",
      "2022-04-11 11:25:08  (info) Staging files and preparing base images\n",
      "2022-04-11 11:25:08  (warn) Python 3.6 runtime is deprecated and will soon not be supported. Please migrate your code and use Python 3.7 runtime (`python:3.7`) or higher\n",
      "2022-04-11 11:25:08  (info) Building processor image\n",
      "2022-04-11 11:27:23  (info) Build complete\n",
      "2022-04-11 11:27:48  (info) Function deploy complete\n",
      "> 2022-04-11 11:27:49,036 [info] successfully deployed function: {'internal_invocation_urls': ['nuclio-default-testing.default-tenant.svc.cluster.local:8080'], 'external_invocation_urls': ['default-testing-default.default-tenant.app.kjlirbtakxqf.iguazio-cd1.com/']}\n"
     ]
    },
    {
     "data": {
      "text/plain": [
       "'http://default-testing-default.default-tenant.app.kjlirbtakxqf.iguazio-cd1.com/'"
      ]
     },
     "execution_count": 94,
     "metadata": {},
     "output_type": "execute_result"
    }
   ],
   "source": [
    "fn.deploy()"
   ]
  },
  {
   "cell_type": "code",
   "execution_count": 95,
   "metadata": {},
   "outputs": [
    {
     "name": "stdout",
     "output_type": "stream",
     "text": [
      "> 2022-04-11 11:27:52,851 [info] invoking function: {'method': 'POST', 'path': 'http://default-testing-default.default-tenant.app.kjlirbtakxqf.iguazio-cd1.com/'}\n"
     ]
    },
    {
     "data": {
      "text/plain": [
       "b'tensor([[[-0.0255, -0.0249, -0.0241, -0.0231, -0.5897,  1.0000,  0.0000,\\n           0.0000,  0.0000,  1.0000],\\n         [-0.0226, -0.0243, -0.0238, -0.0255, -0.5665,  1.0000,  0.0000,\\n           0.0000,  0.0000,  1.0000],\\n         [-0.0258, -0.0261, -0.0262, -0.0285, -0.5461,  1.0000,  0.0000,\\n           0.0000,  0.0000,  1.0000],\\n         [-0.0284, -0.0288, -0.0291, -0.0269, -0.3820,  1.0000,  0.0000,\\n           0.0000,  0.0000,  1.0000],\\n         [-0.0282, -0.0304, -0.0262, -0.0285, -0.6249,  1.0000,  0.0000,\\n           0.0000,  0.0000,  1.0000]],\\n\\n        [[ 1.1689,  1.1651,  1.1701,  1.1675, -0.5930,  0.0000,  0.0000,\\n           1.0000,  0.0000,  1.0000],\\n         [ 1.1684,  1.1647,  1.1624,  1.1587, -0.5658,  0.0000,  0.0000,\\n           1.0000,  0.0000,  1.0000],\\n         [ 1.1589,  1.1581,  1.1588,  1.1585, -0.5157,  0.0000,  0.0000,\\n           1.0000,  0.0000,  1.0000],\\n         [ 1.1588,  1.1595,  1.1595,  1.1624, -0.3196,  0.0000,  0.0000,\\n           1.0000,  0.0000,  1.0000],\\n         [ 1.1603,  1.1564,  1.1636,  1.1595, -0.6249,  0.0000,  0.0000,\\n           1.0000,  0.0000,  1.0000]],\\n\\n        [[-1.5749, -1.5748, -1.5747, -1.5746, -0.1246,  0.0000,  1.0000,\\n           0.0000,  0.0000,  0.5000],\\n         [-1.5749, -1.5748, -1.5749, -1.5749,  0.6970,  0.0000,  1.0000,\\n           0.0000,  0.0000,  0.5000],\\n         [-1.5753, -1.5750, -1.5750, -1.5747,  0.6904,  0.0000,  1.0000,\\n           0.0000,  0.0000,  0.5000],\\n         [-1.5751, -1.5750, -1.5751, -1.5749,  1.8403,  0.0000,  1.0000,\\n           0.0000,  0.0000,  0.5000],\\n         [-1.5753, -1.5753, -1.5748, -1.5749, -0.6249,  0.0000,  1.0000,\\n           0.0000,  0.0000,  0.5000]],\\n\\n        [[ 0.4361,  0.4376,  0.4379,  0.4397,  1.2200,  0.0000,  0.0000,\\n           0.0000,  1.0000,  0.0000],\\n         [ 0.4401,  0.4391,  0.4364,  0.4335,  1.5326,  0.0000,  0.0000,\\n           0.0000,  1.0000,  0.0000],\\n         [ 0.4340,  0.4335,  0.4323,  0.4314,  3.1972,  0.0000,  0.0000,\\n           0.0000,  1.0000,  0.0000],\\n         [ 0.4319,  0.4305,  0.4314,  0.4326,  6.1971,  0.0000,  0.0000,\\n           0.0000,  1.0000,  0.0000],\\n         [ 0.4324,  0.4296,  0.4349,  0.4320, -0.6249,  0.0000,  0.0000,\\n           0.0000,  1.0000,  1.0000]]])'"
      ]
     },
     "execution_count": 95,
     "metadata": {},
     "output_type": "execute_result"
    }
   ],
   "source": [
    "import json\n",
    "fn.invoke(body=json.dumps({'use_queue':True}),path='http://default-testing-default.default-tenant.app.kjlirbtakxqf.iguazio-cd1.com/')"
   ]
  },
  {
   "cell_type": "code",
   "execution_count": null,
   "metadata": {},
   "outputs": [],
   "source": []
  }
 ],
 "metadata": {
  "kernelspec": {
   "display_name": "Python 3",
   "language": "python",
   "name": "python3"
  },
  "language_info": {
   "codemirror_mode": {
    "name": "ipython",
    "version": 3
   },
   "file_extension": ".py",
   "mimetype": "text/x-python",
   "name": "python",
   "nbconvert_exporter": "python",
   "pygments_lexer": "ipython3",
   "version": "3.7.6"
  }
 },
 "nbformat": 4,
 "nbformat_minor": 4
}
