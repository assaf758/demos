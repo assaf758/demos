{
 "cells": [
  {
   "cell_type": "markdown",
   "metadata": {},
   "source": [
    "# Stocks demo"
   ]
  },
  {
   "cell_type": "markdown",
   "metadata": {},
   "source": [
    "## **steps**\n",
    "> * Run notebook ingest_stocks\n",
    "> * Run notebook ingest_news\n",
    "> * Create feature vector\n",
    "> * Create pipeline"
   ]
  },
  {
   "cell_type": "code",
   "execution_count": 1,
   "metadata": {},
   "outputs": [],
   "source": [
    "# !/User/align_mlrun.sh"
   ]
  },
  {
   "cell_type": "code",
   "execution_count": 2,
   "metadata": {},
   "outputs": [
    {
     "name": "stdout",
     "output_type": "stream",
     "text": [
      "> 2022-07-06 11:34:28,799 [info] loaded project stocks from MLRun DB\n"
     ]
    }
   ],
   "source": [
    "import mlrun\n",
    "project = mlrun.get_or_create_project(name='stocks',user_project=True, context=\"src/\")"
   ]
  },
  {
   "cell_type": "markdown",
   "metadata": {},
   "source": [
    "## Create feature vector"
   ]
  },
  {
   "cell_type": "code",
   "execution_count": 3,
   "metadata": {},
   "outputs": [],
   "source": [
    "# Define the list of features we will be using\n",
    "features = ['stocks_data.*',\n",
    "            'stocks_news.sentiment',\n",
    "            ]\n",
    "\n",
    "# Import MLRun's Feature Store\n",
    "import mlrun.feature_store as fstore\n",
    "\n",
    "# Define the feature vector name for future reference\n",
    "fv_name = 'stocks'\n",
    "\n",
    "# Define the feature vector using our Feature Store (fstore)\n",
    "transactions_fv = fstore.FeatureVector(fv_name, \n",
    "                          features, \n",
    "                          description='stocks information')\n",
    "\n",
    "# Save the feature vector in the Feature Store\n",
    "transactions_fv.save()"
   ]
  },
  {
   "cell_type": "code",
   "execution_count": 4,
   "metadata": {},
   "outputs": [
    {
     "data": {
      "text/html": [
       "<div>\n",
       "<style scoped>\n",
       "    .dataframe tbody tr th:only-of-type {\n",
       "        vertical-align: middle;\n",
       "    }\n",
       "\n",
       "    .dataframe tbody tr th {\n",
       "        vertical-align: top;\n",
       "    }\n",
       "\n",
       "    .dataframe thead th {\n",
       "        text-align: right;\n",
       "    }\n",
       "</style>\n",
       "<table border=\"1\" class=\"dataframe\">\n",
       "  <thead>\n",
       "    <tr style=\"text-align: right;\">\n",
       "      <th></th>\n",
       "      <th>Open</th>\n",
       "      <th>High</th>\n",
       "      <th>Low</th>\n",
       "      <th>Close</th>\n",
       "      <th>Volume</th>\n",
       "      <th>ticker2onehot_A</th>\n",
       "      <th>ticker2onehot_AAL</th>\n",
       "      <th>ticker2onehot_AAP</th>\n",
       "      <th>ticker2onehot_AAPL</th>\n",
       "      <th>sentiment</th>\n",
       "    </tr>\n",
       "  </thead>\n",
       "  <tbody>\n",
       "    <tr>\n",
       "      <th>0</th>\n",
       "      <td>12.870000</td>\n",
       "      <td>12.925000</td>\n",
       "      <td>12.855000</td>\n",
       "      <td>12.910000</td>\n",
       "      <td>254263</td>\n",
       "      <td>0</td>\n",
       "      <td>1</td>\n",
       "      <td>0</td>\n",
       "      <td>0</td>\n",
       "      <td>NaN</td>\n",
       "    </tr>\n",
       "    <tr>\n",
       "      <th>1</th>\n",
       "      <td>179.320007</td>\n",
       "      <td>179.330002</td>\n",
       "      <td>178.850006</td>\n",
       "      <td>178.949997</td>\n",
       "      <td>6667</td>\n",
       "      <td>0</td>\n",
       "      <td>0</td>\n",
       "      <td>1</td>\n",
       "      <td>0</td>\n",
       "      <td>NaN</td>\n",
       "    </tr>\n",
       "    <tr>\n",
       "      <th>2</th>\n",
       "      <td>117.570000</td>\n",
       "      <td>117.669998</td>\n",
       "      <td>117.529999</td>\n",
       "      <td>117.529999</td>\n",
       "      <td>12599</td>\n",
       "      <td>1</td>\n",
       "      <td>0</td>\n",
       "      <td>0</td>\n",
       "      <td>0</td>\n",
       "      <td>NaN</td>\n",
       "    </tr>\n",
       "    <tr>\n",
       "      <th>3</th>\n",
       "      <td>139.929993</td>\n",
       "      <td>140.270004</td>\n",
       "      <td>139.839996</td>\n",
       "      <td>140.100006</td>\n",
       "      <td>674436</td>\n",
       "      <td>0</td>\n",
       "      <td>0</td>\n",
       "      <td>0</td>\n",
       "      <td>1</td>\n",
       "      <td>NaN</td>\n",
       "    </tr>\n",
       "    <tr>\n",
       "      <th>4</th>\n",
       "      <td>179.024994</td>\n",
       "      <td>179.029999</td>\n",
       "      <td>178.669998</td>\n",
       "      <td>178.820007</td>\n",
       "      <td>3156</td>\n",
       "      <td>0</td>\n",
       "      <td>0</td>\n",
       "      <td>1</td>\n",
       "      <td>0</td>\n",
       "      <td>NaN</td>\n",
       "    </tr>\n",
       "  </tbody>\n",
       "</table>\n",
       "</div>"
      ],
      "text/plain": [
       "         Open        High         Low       Close  Volume  ticker2onehot_A  \\\n",
       "0   12.870000   12.925000   12.855000   12.910000  254263                0   \n",
       "1  179.320007  179.330002  178.850006  178.949997    6667                0   \n",
       "2  117.570000  117.669998  117.529999  117.529999   12599                1   \n",
       "3  139.929993  140.270004  139.839996  140.100006  674436                0   \n",
       "4  179.024994  179.029999  178.669998  178.820007    3156                0   \n",
       "\n",
       "   ticker2onehot_AAL  ticker2onehot_AAP  ticker2onehot_AAPL  sentiment  \n",
       "0                  1                  0                   0        NaN  \n",
       "1                  0                  1                   0        NaN  \n",
       "2                  0                  0                   0        NaN  \n",
       "3                  0                  0                   1        NaN  \n",
       "4                  0                  1                   0        NaN  "
      ]
     },
     "execution_count": 4,
     "metadata": {},
     "output_type": "execute_result"
    }
   ],
   "source": [
    "# Get offline feature vector as dataframe and save the dataset to parquet\n",
    "import datetime\n",
    "start_time = datetime.datetime.now()-datetime.timedelta(7)\n",
    "end_time = datetime.datetime.now()-datetime.timedelta(0)\n",
    "train_dataset = fstore.get_offline_features(fv_name,start_time=start_time,end_time=end_time, entity_timestamp_column = 'Datetime')\n",
    "train_dataset.to_dataframe().head()#.sentiment.unique()"
   ]
  },
  {
   "cell_type": "markdown",
   "metadata": {},
   "source": [
    "## Set up the project"
   ]
  },
  {
   "cell_type": "code",
   "execution_count": 5,
   "metadata": {},
   "outputs": [
    {
     "data": {
      "text/plain": [
       "<mlrun.runtimes.serving.ServingRuntime at 0x7f1176cf99d0>"
      ]
     },
     "execution_count": 5,
     "metadata": {},
     "output_type": "execute_result"
    }
   ],
   "source": [
    "import os\n",
    "\n",
    "# getting our model training function\n",
    "project.set_function(os.path.join(os.getcwd(),'src','train_stocks.py'),\n",
    "                     name='train_stocks', kind='job', image='mlrun/ml-models')\n",
    "\n",
    "\n",
    "project.set_function(os.path.join(os.getcwd(),'src','train_stocks.py'),\n",
    "                     name='serving', kind='serving', image='mlrun/ml-models')"
   ]
  },
  {
   "cell_type": "markdown",
   "metadata": {},
   "source": [
    "## Write and save workflow"
   ]
  },
  {
   "cell_type": "code",
   "execution_count": 9,
   "metadata": {},
   "outputs": [
    {
     "name": "stdout",
     "output_type": "stream",
     "text": [
      "Writing src/workflow.py\n"
     ]
    }
   ],
   "source": [
    "%%writefile src/workflow.py\n",
    "import mlrun\n",
    "from kfp import dsl\n",
    "\n",
    "@dsl.pipeline(\n",
    "    name=\"Stocks Prediction Pipeline\",\n",
    "    description=\"predicting stock prices using yahoo api with sentiment analysis\"\n",
    ")\n",
    "\n",
    "def kfpipeline(vector_name:str,\n",
    "               seq_size:int = 5,\n",
    "               batch_size:int = 32,\n",
    "               hidden_dim:int = 10,\n",
    "               n_layers:int = 4,\n",
    "               epochs:int = 3,\n",
    "               start_time:int = 7,\n",
    "               end_time:int = 0,\n",
    "               model_filepath = './'\n",
    "               ):\n",
    "    \n",
    "    project = mlrun.get_current_project()\n",
    "    \n",
    "    preprocess = project.get_function('train_stocks').apply(mlrun.auto_mount())\n",
    "\n",
    "    preprocess_run = mlrun.run_function(name='train_stocks',\n",
    "                                        function='train_stocks',\n",
    "                                        handler='train_stocks',\n",
    "                                        params={'context':context,\n",
    "                                                'hidden_dim':hidden_dim,\n",
    "                                                'n_layers':n_layers,\n",
    "                                                'epochs':epochs, \n",
    "                                                'vector_name':vector_name,\n",
    "                                                'seq_size':seq_size,\n",
    "                                                'start_time':start_time,\n",
    "                                                'end_time':end_time,\n",
    "                                                'batch_size':batch_size,\n",
    "                                                'model_filepath':model_filepath},\n",
    "                                       outputs=[\"model\"])\n",
    "    \n",
    "    \n",
    "    # deploying serving function\n",
    "    serving_function = project.get_function(\"serving\")\n",
    "    # Mount it:\n",
    "    serving_function.apply(mlrun.mount_v3io())\n",
    "    # Set the topology and get the graph object:\n",
    "    graph = serving_function.set_topology(\"flow\", engine=\"async\")\n",
    "    # Build the serving graph:\n",
    "    graph.to(class_name=\"mlrun.frameworks.pytorch.PyTorchModelServer\", model_name='pytorch_stocks_model', model_path=str(preprocess_run.outputs[\"model\"]))\\\n",
    "         \n",
    "    \n",
    "    # Set the desired requirements:\n",
    "    serving_function.with_requirements(requirements=['yfinance','yahoo_fin'])\n",
    "    # Deploy the serving function:\n",
    "    mlrun.deploy_function(\"serving\")"
   ]
  },
  {
   "cell_type": "code",
   "execution_count": 10,
   "metadata": {},
   "outputs": [
    {
     "data": {
      "text/plain": [
       "<mlrun.projects.project.MlrunProject at 0x7f114bd21b90>"
      ]
     },
     "execution_count": 10,
     "metadata": {},
     "output_type": "execute_result"
    }
   ],
   "source": [
    "# Register the workflow file:\n",
    "workflow_name = \"stocks_workflow\"\n",
    "project.set_workflow(workflow_name, \"workflow.py\")\n",
    "\n",
    "# Save the project:\n",
    "project.save()"
   ]
  },
  {
   "cell_type": "code",
   "execution_count": 11,
   "metadata": {},
   "outputs": [
    {
     "name": "stdout",
     "output_type": "stream",
     "text": [
      "> 2022-07-06 11:36:30,716 [info] submitted pipeline stocks-dani-stocks_workflow 2022-07-06 11-36-30 id=a542bf6c-8dda-4dd5-9764-723412f14b71\n",
      "> 2022-07-06 11:36:30,718 [info] Pipeline run id=a542bf6c-8dda-4dd5-9764-723412f14b71, check UI for progress\n"
     ]
    },
    {
     "data": {
      "text/html": [
       "Pipeline started in project stocks-dani id=a542bf6c-8dda-4dd5-9764-723412f14b71<div><a href=\"https://dashboard.default-tenant.app.vmdev94.lab.iguazeng.com/mlprojects/stocks-dani/jobs/monitor-workflows/workflow/a542bf6c-8dda-4dd5-9764-723412f14b71\" target=\"_blank\">click here to view progress</a></div>"
      ],
      "text/plain": [
       "<IPython.core.display.HTML object>"
      ]
     },
     "metadata": {},
     "output_type": "display_data"
    },
    {
     "data": {
      "text/plain": [
       "a542bf6c-8dda-4dd5-9764-723412f14b71"
      ]
     },
     "execution_count": 11,
     "metadata": {},
     "output_type": "execute_result"
    }
   ],
   "source": [
    "project.run(name=workflow_name,\n",
    "            arguments={\n",
    "                \"vector_name\":\"stocks\",\n",
    "                \"seq_size\": 5,\n",
    "                \"batch_size\": 32,\n",
    "                \"hidden_dim\": 10,\n",
    "                \"n_layers\": 4,\n",
    "                \"epochs\": 3,\n",
    "                \"start_time\":7,\n",
    "                \"end_time\":0,\n",
    "                \"model_filepath\":os.path.join(os.getcwd(),'src')\n",
    "            })"
   ]
  }
 ],
 "metadata": {
  "kernelspec": {
   "display_name": "Python 3",
   "language": "python",
   "name": "python3"
  },
  "language_info": {
   "codemirror_mode": {
    "name": "ipython",
    "version": 3
   },
   "file_extension": ".py",
   "mimetype": "text/x-python",
   "name": "python",
   "nbconvert_exporter": "python",
   "pygments_lexer": "ipython3",
   "version": "3.7.6"
  }
 },
 "nbformat": 4,
 "nbformat_minor": 4
}
