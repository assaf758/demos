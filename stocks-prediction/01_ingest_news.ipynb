{
 "cells": [
  {
   "cell_type": "markdown",
   "id": "29354c89",
   "metadata": {},
   "source": [
    "# Stocks news ingestion"
   ]
  },
  {
   "cell_type": "markdown",
   "id": "4627ed0b",
   "metadata": {},
   "source": [
    "> <b> Steps </b>\n",
    "> * [project creation and prerequisits](#project-creation-and-prerequisits)\n",
    "> * [Deploying sentiment analysis serving function from the function marketplace](#Deploying-sentiment-analysis-serving-function-from-the-function-marketplace)\n",
    "> * [Creating a feature set and declaring the graph](#Creating-a-feature-set-and-declaring-the-graph)\n",
    "> * [Dummy ingestion, Deploying ingestion service and getting ingestion endpoint](#Dummy-ingestion,-Deploying-ingestion-service-and-getting-ingestion-endpoint)\n",
    "> * [Testing ingestion service](#Testing-ingestion-service)\n",
    "> * [Creating scheduled mlrun job to invoke our function every time delta](#Creating-scheduled-mlrun-job-to-invoke-our-function-every-time-delta)"
   ]
  },
  {
   "cell_type": "markdown",
   "id": "bd4889e1",
   "metadata": {},
   "source": [
    "## project creation and prerequisits"
   ]
  },
  {
   "cell_type": "code",
   "execution_count": 1,
   "id": "ee011416",
   "metadata": {},
   "outputs": [],
   "source": [
    "# !/User/align_mlrun.sh"
   ]
  },
  {
   "cell_type": "code",
   "execution_count": 2,
   "id": "44756a6a",
   "metadata": {},
   "outputs": [
    {
     "name": "stdout",
     "output_type": "stream",
     "text": [
      "package yfinance installed\n",
      "package yahoo_fin installed\n"
     ]
    }
   ],
   "source": [
    "# install prerequsits \n",
    "# prerequisits for the notebook is installing 2 packages yfinance yahoo_fin for uploading stocks data \n",
    "import importlib.util\n",
    "import IPython\n",
    "\n",
    "def install_missing_packages(packages):\n",
    "    install_flag = False\n",
    "    for package in packages:\n",
    "        spec = importlib.util.find_spec(package)\n",
    "        if spec is None:\n",
    "            %pip install {package}\n",
    "            install_flag = True\n",
    "        else:     \n",
    "            print(\"package {} installed\".format(package))\n",
    "        if install_flag:            \n",
    "            print (\"restarting kernerl due to package install\")\n",
    "            IPython.Application.instance().kernel.do_shutdown(True)\n",
    "# For illustrative purposes.\n",
    "packages  = ['yfinance', 'yahoo_fin']\n",
    "install_missing_packages(packages)"
   ]
  },
  {
   "cell_type": "code",
   "execution_count": 3,
   "id": "d13c047e",
   "metadata": {},
   "outputs": [
    {
     "name": "stdout",
     "output_type": "stream",
     "text": [
      "> 2022-09-19 08:30:28,308 [info] loaded project stocks from MLRun DB\n"
     ]
    }
   ],
   "source": [
    "import mlrun\n",
    "project = mlrun.get_or_create_project(name='stocks',user_project=True, context=\"src/\")"
   ]
  },
  {
   "cell_type": "code",
   "execution_count": 4,
   "id": "0d87cb5f",
   "metadata": {},
   "outputs": [],
   "source": [
    "NUMBER_OF_STOCKS = 10"
   ]
  },
  {
   "cell_type": "code",
   "execution_count": 5,
   "id": "cec3db38",
   "metadata": {},
   "outputs": [],
   "source": [
    "import os\n",
    "\n",
    "# getting the sentiment analysis pretrained model (433M might take a while)\n",
    "if not os.path.exists('src/model.pt'): \n",
    "    os.makedirs('src',exist_ok=True)\n",
    "    print('getting model')\n",
    "    !wget -O src/model.pt https://iguazio-sample-data.s3.amazonaws.com/models/model.pt "
   ]
  },
  {
   "cell_type": "markdown",
   "id": "ad740470",
   "metadata": {},
   "source": [
    "## Deploying sentiment analysis serving function from the function marketplace"
   ]
  },
  {
   "cell_type": "code",
   "execution_count": 6,
   "id": "f7f2f67b",
   "metadata": {},
   "outputs": [
    {
     "name": "stdout",
     "output_type": "stream",
     "text": [
      "> 2022-09-19 08:30:28,683 [info] Starting remote function deploy\n",
      "2022-09-19 08:30:28  (info) Deploying function\n",
      "2022-09-19 08:30:28  (info) Building\n",
      "2022-09-19 08:30:28  (info) Staging files and preparing base images\n",
      "2022-09-19 08:30:28  (info) Building processor image\n",
      "2022-09-19 08:32:34  (info) Build complete\n",
      "2022-09-19 08:33:06  (info) Function deploy complete\n",
      "> 2022-09-19 08:33:07,246 [info] successfully deployed function: {'internal_invocation_urls': ['nuclio-stocks-dani-sentiment-analysis-serving.default-tenant.svc.cluster.local:8080'], 'external_invocation_urls': ['stocks-dani-sentiment-analysis-serving-stocks-dani.default-tenant.app.vmdev93.lab.iguazeng.com/']}\n",
      "http://stocks-dani-sentiment-analysis-serving-stocks-dani.default-tenant.app.vmdev93.lab.iguazeng.com/\n"
     ]
    }
   ],
   "source": [
    "model_location = os.path.abspath('src/model.pt')\n",
    "sentiment_analysis_serving = mlrun.import_function('hub://sentiment_analysis_serving').apply(mlrun.auto_mount())\n",
    "sentiment_analysis_serving.add_model('sentiment_analysis_model', model_path=model_location,\n",
    "                                      class_name='SentimentClassifierServing')\n",
    "\n",
    "sentiment_analysis_serving.spec.readiness_timeout = 3600\n",
    "address = sentiment_analysis_serving.deploy()\n",
    "print(address)"
   ]
  },
  {
   "cell_type": "markdown",
   "id": "e975dbe2",
   "metadata": {},
   "source": [
    "## Creating a feature set and declaring the graph"
   ]
  },
  {
   "cell_type": "code",
   "execution_count": 7,
   "id": "6dd47bf4",
   "metadata": {},
   "outputs": [
    {
     "data": {
      "image/svg+xml": [
       "<?xml version=\"1.0\" encoding=\"UTF-8\" standalone=\"no\"?>\n",
       "<!DOCTYPE svg PUBLIC \"-//W3C//DTD SVG 1.1//EN\"\n",
       " \"http://www.w3.org/Graphics/SVG/1.1/DTD/svg11.dtd\">\n",
       "<!-- Generated by graphviz version 2.40.1 (20161225.0304)\n",
       " -->\n",
       "<!-- Title: mlrun&#45;flow Pages: 1 -->\n",
       "<svg width=\"893pt\" height=\"98pt\"\n",
       " viewBox=\"0.00 0.00 893.15 98.00\" xmlns=\"http://www.w3.org/2000/svg\" xmlns:xlink=\"http://www.w3.org/1999/xlink\">\n",
       "<g id=\"graph0\" class=\"graph\" transform=\"scale(1 1) rotate(0) translate(4 94)\">\n",
       "<title>mlrun&#45;flow</title>\n",
       "<polygon fill=\"#ffffff\" stroke=\"transparent\" points=\"-4,4 -4,-94 889.1492,-94 889.1492,4 -4,4\"/>\n",
       "<!-- _start -->\n",
       "<g id=\"node1\" class=\"node\">\n",
       "<title>_start</title>\n",
       "<polygon fill=\"#d3d3d3\" stroke=\"#000000\" points=\"38.5476,-27.0493 40.698,-27.1479 42.8263,-27.2953 44.9236,-27.4913 46.9815,-27.7353 48.9917,-28.0266 50.9463,-28.3645 52.8377,-28.7479 54.6587,-29.1759 56.4025,-29.6472 58.0628,-30.1606 59.634,-30.7147 61.1107,-31.308 62.4882,-31.9388 63.7625,-32.6054 64.9302,-33.3059 65.9882,-34.0385 66.9343,-34.8012 67.7669,-35.5918 68.4849,-36.4082 69.0878,-37.2481 69.5758,-38.1093 69.9496,-38.9894 70.2102,-39.886 70.3595,-40.7965 70.3997,-41.7186 70.3334,-42.6497 70.1636,-43.5873 69.8937,-44.5287 69.5276,-45.4713 69.0691,-46.4127 68.5225,-47.3503 67.8923,-48.2814 67.1831,-49.2035 66.3996,-50.114 65.5464,-51.0106 64.6285,-51.8907 63.6504,-52.7519 62.617,-53.5918 61.5329,-54.4082 60.4024,-55.1988 59.2299,-55.9615 58.0197,-56.6941 56.7755,-57.3946 55.5012,-58.0612 54.2002,-58.692 52.8757,-59.2853 51.5309,-59.8394 50.1684,-60.3528 48.7908,-60.8241 47.4003,-61.2521 45.9989,-61.6355 44.5886,-61.9734 43.1708,-62.2647 41.7472,-62.5087 40.3189,-62.7047 38.8872,-62.8521 37.4531,-62.9507 36.0175,-63 34.5815,-63 33.146,-62.9507 31.7119,-62.8521 30.2801,-62.7047 28.8519,-62.5087 27.4282,-62.2647 26.0105,-61.9734 24.6001,-61.6355 23.1988,-61.2521 21.8083,-60.8241 20.4306,-60.3528 19.0681,-59.8394 17.7233,-59.2853 16.3989,-58.692 15.0979,-58.0612 13.8236,-57.3946 12.5794,-56.6941 11.3691,-55.9615 10.1967,-55.1988 9.0662,-54.4082 7.982,-53.5918 6.9486,-52.7519 5.9706,-51.8907 5.0526,-51.0106 4.1995,-50.114 3.4159,-49.2035 2.7067,-48.2814 2.0765,-47.3503 1.53,-46.4127 1.0715,-45.4713 .7053,-44.5287 .4355,-43.5873 .2657,-42.6497 .1993,-41.7186 .2395,-40.7965 .3888,-39.886 .6495,-38.9894 1.0232,-38.1093 1.5112,-37.2481 2.1141,-36.4082 2.8321,-35.5918 3.6647,-34.8012 4.6109,-34.0385 5.6689,-33.3059 6.8365,-32.6054 8.1108,-31.9388 9.4884,-31.308 10.9651,-30.7147 12.5362,-30.1606 14.1966,-29.6472 15.9404,-29.1759 17.7614,-28.7479 19.6528,-28.3645 21.6074,-28.0266 23.6176,-27.7353 25.6755,-27.4913 27.7728,-27.2953 29.901,-27.1479 32.0515,-27.0493 34.2154,-27 36.3837,-27 38.5476,-27.0493\"/>\n",
       "<text text-anchor=\"middle\" x=\"35.2995\" y=\"-41.3\" font-family=\"Times,serif\" font-size=\"14.00\" fill=\"#000000\">start</text>\n",
       "</g>\n",
       "<!-- get_news -->\n",
       "<g id=\"node2\" class=\"node\">\n",
       "<title>get_news</title>\n",
       "<ellipse fill=\"none\" stroke=\"#000000\" cx=\"161.1942\" cy=\"-45\" rx=\"54.6905\" ry=\"18\"/>\n",
       "<text text-anchor=\"middle\" x=\"161.1942\" y=\"-41.3\" font-family=\"Times,serif\" font-size=\"14.00\" fill=\"#000000\">get_news</text>\n",
       "</g>\n",
       "<!-- _start&#45;&gt;get_news -->\n",
       "<g id=\"edge1\" class=\"edge\">\n",
       "<title>_start&#45;&gt;get_news</title>\n",
       "<path fill=\"none\" stroke=\"#000000\" d=\"M70.0341,-45C78.1776,-45 87.1155,-45 96.1116,-45\"/>\n",
       "<polygon fill=\"#000000\" stroke=\"#000000\" points=\"96.254,-48.5001 106.254,-45 96.2539,-41.5001 96.254,-48.5001\"/>\n",
       "</g>\n",
       "<!-- flatten_news -->\n",
       "<g id=\"node3\" class=\"node\">\n",
       "<title>flatten_news</title>\n",
       "<ellipse fill=\"none\" stroke=\"#000000\" cx=\"321.9831\" cy=\"-45\" rx=\"70.3881\" ry=\"18\"/>\n",
       "<text text-anchor=\"middle\" x=\"321.9831\" y=\"-41.3\" font-family=\"Times,serif\" font-size=\"14.00\" fill=\"#000000\">flatten_news</text>\n",
       "</g>\n",
       "<!-- get_news&#45;&gt;flatten_news -->\n",
       "<g id=\"edge2\" class=\"edge\">\n",
       "<title>get_news&#45;&gt;flatten_news</title>\n",
       "<path fill=\"none\" stroke=\"#000000\" d=\"M216.0789,-45C224.3179,-45 232.9556,-45 241.5932,-45\"/>\n",
       "<polygon fill=\"#000000\" stroke=\"#000000\" points=\"241.7092,-48.5001 251.7091,-45 241.7091,-41.5001 241.7092,-48.5001\"/>\n",
       "</g>\n",
       "<!-- sentiment -->\n",
       "<g id=\"node4\" class=\"node\">\n",
       "<title>sentiment</title>\n",
       "<ellipse fill=\"none\" stroke=\"#000000\" cx=\"486.0218\" cy=\"-45\" rx=\"57.6901\" ry=\"18\"/>\n",
       "<text text-anchor=\"middle\" x=\"486.0218\" y=\"-41.3\" font-family=\"Times,serif\" font-size=\"14.00\" fill=\"#000000\">sentiment</text>\n",
       "</g>\n",
       "<!-- flatten_news&#45;&gt;sentiment -->\n",
       "<g id=\"edge3\" class=\"edge\">\n",
       "<title>flatten_news&#45;&gt;sentiment</title>\n",
       "<path fill=\"none\" stroke=\"#000000\" d=\"M392.5023,-45C400.96,-45 409.5841,-45 418.0053,-45\"/>\n",
       "<polygon fill=\"#000000\" stroke=\"#000000\" points=\"418.1519,-48.5001 428.1518,-45 418.1518,-41.5001 418.1519,-48.5001\"/>\n",
       "</g>\n",
       "<!-- SetEventMetadata -->\n",
       "<g id=\"node5\" class=\"node\">\n",
       "<title>SetEventMetadata</title>\n",
       "<ellipse fill=\"none\" stroke=\"#000000\" cx=\"678.0079\" cy=\"-45\" rx=\"98.2828\" ry=\"18\"/>\n",
       "<text text-anchor=\"middle\" x=\"678.0079\" y=\"-41.3\" font-family=\"Times,serif\" font-size=\"14.00\" fill=\"#000000\">SetEventMetadata</text>\n",
       "</g>\n",
       "<!-- sentiment&#45;&gt;SetEventMetadata -->\n",
       "<g id=\"edge4\" class=\"edge\">\n",
       "<title>sentiment&#45;&gt;SetEventMetadata</title>\n",
       "<path fill=\"none\" stroke=\"#000000\" d=\"M543.8843,-45C552.1468,-45 560.8593,-45 569.7138,-45\"/>\n",
       "<polygon fill=\"#000000\" stroke=\"#000000\" points=\"569.7548,-48.5001 579.7548,-45 569.7547,-41.5001 569.7548,-48.5001\"/>\n",
       "</g>\n",
       "<!-- parquet -->\n",
       "<g id=\"node6\" class=\"node\">\n",
       "<title>parquet</title>\n",
       "<path fill=\"none\" stroke=\"#000000\" d=\"M885.1492,-86.7273C885.1492,-88.5331 868.7893,-90 848.6492,-90 828.5091,-90 812.1492,-88.5331 812.1492,-86.7273 812.1492,-86.7273 812.1492,-57.2727 812.1492,-57.2727 812.1492,-55.4669 828.5091,-54 848.6492,-54 868.7893,-54 885.1492,-55.4669 885.1492,-57.2727 885.1492,-57.2727 885.1492,-86.7273 885.1492,-86.7273\"/>\n",
       "<path fill=\"none\" stroke=\"#000000\" d=\"M885.1492,-86.7273C885.1492,-84.9214 868.7893,-83.4545 848.6492,-83.4545 828.5091,-83.4545 812.1492,-84.9214 812.1492,-86.7273\"/>\n",
       "<text text-anchor=\"middle\" x=\"848.6492\" y=\"-68.3\" font-family=\"Times,serif\" font-size=\"14.00\" fill=\"#000000\">parquet</text>\n",
       "</g>\n",
       "<!-- SetEventMetadata&#45;&gt;parquet -->\n",
       "<g id=\"edge5\" class=\"edge\">\n",
       "<title>SetEventMetadata&#45;&gt;parquet</title>\n",
       "<path fill=\"none\" stroke=\"#000000\" d=\"M752.3573,-56.764C769.1411,-59.4197 786.5009,-62.1665 801.7803,-64.5841\"/>\n",
       "<polygon fill=\"#000000\" stroke=\"#000000\" points=\"801.5691,-68.0941 811.9933,-66.2001 802.6632,-61.1802 801.5691,-68.0941\"/>\n",
       "</g>\n",
       "<!-- nosql -->\n",
       "<g id=\"node7\" class=\"node\">\n",
       "<title>nosql</title>\n",
       "<path fill=\"none\" stroke=\"#000000\" d=\"M876.1492,-32.7273C876.1492,-34.5331 863.8233,-36 848.6492,-36 833.4752,-36 821.1492,-34.5331 821.1492,-32.7273 821.1492,-32.7273 821.1492,-3.2727 821.1492,-3.2727 821.1492,-1.4669 833.4752,0 848.6492,0 863.8233,0 876.1492,-1.4669 876.1492,-3.2727 876.1492,-3.2727 876.1492,-32.7273 876.1492,-32.7273\"/>\n",
       "<path fill=\"none\" stroke=\"#000000\" d=\"M876.1492,-32.7273C876.1492,-30.9214 863.8233,-29.4545 848.6492,-29.4545 833.4752,-29.4545 821.1492,-30.9214 821.1492,-32.7273\"/>\n",
       "<text text-anchor=\"middle\" x=\"848.6492\" y=\"-14.3\" font-family=\"Times,serif\" font-size=\"14.00\" fill=\"#000000\">nosql</text>\n",
       "</g>\n",
       "<!-- SetEventMetadata&#45;&gt;nosql -->\n",
       "<g id=\"edge6\" class=\"edge\">\n",
       "<title>SetEventMetadata&#45;&gt;nosql</title>\n",
       "<path fill=\"none\" stroke=\"#000000\" d=\"M752.3573,-33.236C772.5877,-30.035 793.6549,-26.7016 810.907,-23.9718\"/>\n",
       "<polygon fill=\"#000000\" stroke=\"#000000\" points=\"811.7842,-27.3767 821.1143,-22.3568 810.6901,-20.4627 811.7842,-27.3767\"/>\n",
       "</g>\n",
       "</g>\n",
       "</svg>\n"
      ],
      "text/plain": [
       "<graphviz.dot.Digraph at 0x7fc35745c890>"
      ]
     },
     "execution_count": 7,
     "metadata": {},
     "output_type": "execute_result"
    }
   ],
   "source": [
    "import mlrun.feature_store as fstore\n",
    "from mlrun.feature_store.steps import SetEventMetadata\n",
    "from mlrun.feature_store.steps import DateExtractor, MapValues\n",
    "import yahoo_fin.stock_info as si\n",
    "\n",
    "# creating feature set\n",
    "news_set = fstore.FeatureSet(\"news\", \n",
    "                             entities=[fstore.Entity(\"ticker\")],\n",
    "                             timestamp_key='Datetime', \n",
    "                             description=\"stocks news feature set\")\n",
    "\n",
    "# setting up the graph\n",
    "news_set.graph \\\n",
    "    .to(name='get_news', handler='get_news') \\\n",
    "    .to(\"storey.steps.Flatten\", name=\"flatten_news\") \\\n",
    "    .to(\"sentiment_analysis\", \"sentiment\", full_event=True, address=address) \\\n",
    "    .to(fstore.steps.SetEventMetadata(key_path=\"ticker\", time_path=\"Datetime\",random_id=True))\n",
    "    \n",
    "news_set.set_targets(with_defaults=True) \n",
    "news_set.plot(rankdir=\"LR\", with_targets=True)"
   ]
  },
  {
   "cell_type": "markdown",
   "id": "7a7b9160",
   "metadata": {},
   "source": [
    "## Dummy ingestion, Deploying ingestion service and getting ingestion endpoint"
   ]
  },
  {
   "cell_type": "code",
   "execution_count": 8,
   "id": "e45f782e",
   "metadata": {},
   "outputs": [
    {
     "data": {
      "text/html": [
       "<div>\n",
       "<style scoped>\n",
       "    .dataframe tbody tr th:only-of-type {\n",
       "        vertical-align: middle;\n",
       "    }\n",
       "\n",
       "    .dataframe tbody tr th {\n",
       "        vertical-align: top;\n",
       "    }\n",
       "\n",
       "    .dataframe thead th {\n",
       "        text-align: right;\n",
       "    }\n",
       "</style>\n",
       "<table border=\"1\" class=\"dataframe\">\n",
       "  <thead>\n",
       "    <tr style=\"text-align: right;\">\n",
       "      <th></th>\n",
       "      <th>title</th>\n",
       "      <th>summary</th>\n",
       "      <th>link</th>\n",
       "      <th>Datetime</th>\n",
       "      <th>sentiment</th>\n",
       "    </tr>\n",
       "    <tr>\n",
       "      <th>ticker</th>\n",
       "      <th></th>\n",
       "      <th></th>\n",
       "      <th></th>\n",
       "      <th></th>\n",
       "      <th></th>\n",
       "    </tr>\n",
       "  </thead>\n",
       "  <tbody>\n",
       "    <tr>\n",
       "      <th>A</th>\n",
       "      <td>Why Agilent Technologies A is a Top Stock for ...</td>\n",
       "      <td>Finding strong marketbeating stocks with a pos...</td>\n",
       "      <td>https://finance.yahoo.com/news/why-agilent-tec...</td>\n",
       "      <td>2022-09-16 13:30:01</td>\n",
       "      <td>1.0</td>\n",
       "    </tr>\n",
       "    <tr>\n",
       "      <th>A</th>\n",
       "      <td>Agilent A Down 64 Since Last Earnings Report C...</td>\n",
       "      <td>Agilent A reported earnings 30 days ago Whats ...</td>\n",
       "      <td>https://finance.yahoo.com/news/agilent-down-6-...</td>\n",
       "      <td>2022-09-15 15:30:03</td>\n",
       "      <td>1.0</td>\n",
       "    </tr>\n",
       "    <tr>\n",
       "      <th>A</th>\n",
       "      <td>Agilent Earns Great Place to Work® Certificati...</td>\n",
       "      <td>SANTA CLARA Calif September 14 2022Agilent Tec...</td>\n",
       "      <td>https://finance.yahoo.com/news/agilent-earns-g...</td>\n",
       "      <td>2022-09-14 17:48:00</td>\n",
       "      <td>1.0</td>\n",
       "    </tr>\n",
       "    <tr>\n",
       "      <th>A</th>\n",
       "      <td>Agilent Announces Thought Leader Award to Prof...</td>\n",
       "      <td>SANTA CLARA Calif September 12 2022Agilent Tec...</td>\n",
       "      <td>https://finance.yahoo.com/news/agilent-announc...</td>\n",
       "      <td>2022-09-12 12:00:00</td>\n",
       "      <td>1.0</td>\n",
       "    </tr>\n",
       "    <tr>\n",
       "      <th>A</th>\n",
       "      <td>Fortune Ranks Agilent Among Top Workplaces in ...</td>\n",
       "      <td>SANTA CLARA Calif September 08 2022Agilent Tec...</td>\n",
       "      <td>https://finance.yahoo.com/news/fortune-ranks-a...</td>\n",
       "      <td>2022-09-08 16:32:00</td>\n",
       "      <td>1.0</td>\n",
       "    </tr>\n",
       "    <tr>\n",
       "      <th>...</th>\n",
       "      <td>...</td>\n",
       "      <td>...</td>\n",
       "      <td>...</td>\n",
       "      <td>...</td>\n",
       "      <td>...</td>\n",
       "    </tr>\n",
       "    <tr>\n",
       "      <th>ADBE</th>\n",
       "      <td>SP 500 Slips as FedEx Profit Warning Triggers ...</td>\n",
       "      <td>By Yasin Ebrahim</td>\n",
       "      <td>https://finance.yahoo.com/news/p-500-slips-fed...</td>\n",
       "      <td>2022-09-16 14:39:17</td>\n",
       "      <td>1.0</td>\n",
       "    </tr>\n",
       "    <tr>\n",
       "      <th>ADBE</th>\n",
       "      <td>Stock Market Tumbles As Hot Inflation Enflames...</td>\n",
       "      <td>The stock market suffered big losses after Tue...</td>\n",
       "      <td>https://finance.yahoo.com/m/90472713-0241-3182...</td>\n",
       "      <td>2022-09-16 14:17:38</td>\n",
       "      <td>0.0</td>\n",
       "    </tr>\n",
       "    <tr>\n",
       "      <th>ADBE</th>\n",
       "      <td>FedEx profit warning drives down tech and ener...</td>\n",
       "      <td>Yahoo Finances Jared Blikre looks at how the s...</td>\n",
       "      <td>https://finance.yahoo.com/video/fedex-profit-w...</td>\n",
       "      <td>2022-09-16 13:57:33</td>\n",
       "      <td>0.0</td>\n",
       "    </tr>\n",
       "    <tr>\n",
       "      <th>ADBE</th>\n",
       "      <td>Company News for Sep 16 2022</td>\n",
       "      <td>Companies in The News Are MSFT HUM CTRA ADBE</td>\n",
       "      <td>https://finance.yahoo.com/news/company-news-se...</td>\n",
       "      <td>2022-09-16 13:40:01</td>\n",
       "      <td>0.0</td>\n",
       "    </tr>\n",
       "    <tr>\n",
       "      <th>ADBE</th>\n",
       "      <td>Figma’s RecordBreaking Sale to Adobe Delivers ...</td>\n",
       "      <td>Bloomberg  Danny Rimer first invested in Figma...</td>\n",
       "      <td>https://finance.yahoo.com/news/figma-record-br...</td>\n",
       "      <td>2022-09-16 13:38:53</td>\n",
       "      <td>0.0</td>\n",
       "    </tr>\n",
       "  </tbody>\n",
       "</table>\n",
       "<p>200 rows × 5 columns</p>\n",
       "</div>"
      ],
      "text/plain": [
       "                                                    title  \\\n",
       "ticker                                                      \n",
       "A       Why Agilent Technologies A is a Top Stock for ...   \n",
       "A       Agilent A Down 64 Since Last Earnings Report C...   \n",
       "A       Agilent Earns Great Place to Work® Certificati...   \n",
       "A       Agilent Announces Thought Leader Award to Prof...   \n",
       "A       Fortune Ranks Agilent Among Top Workplaces in ...   \n",
       "...                                                   ...   \n",
       "ADBE    SP 500 Slips as FedEx Profit Warning Triggers ...   \n",
       "ADBE    Stock Market Tumbles As Hot Inflation Enflames...   \n",
       "ADBE    FedEx profit warning drives down tech and ener...   \n",
       "ADBE                         Company News for Sep 16 2022   \n",
       "ADBE    Figma’s RecordBreaking Sale to Adobe Delivers ...   \n",
       "\n",
       "                                                  summary  \\\n",
       "ticker                                                      \n",
       "A       Finding strong marketbeating stocks with a pos...   \n",
       "A       Agilent A reported earnings 30 days ago Whats ...   \n",
       "A       SANTA CLARA Calif September 14 2022Agilent Tec...   \n",
       "A       SANTA CLARA Calif September 12 2022Agilent Tec...   \n",
       "A       SANTA CLARA Calif September 08 2022Agilent Tec...   \n",
       "...                                                   ...   \n",
       "ADBE                                     By Yasin Ebrahim   \n",
       "ADBE    The stock market suffered big losses after Tue...   \n",
       "ADBE    Yahoo Finances Jared Blikre looks at how the s...   \n",
       "ADBE         Companies in The News Are MSFT HUM CTRA ADBE   \n",
       "ADBE    Bloomberg  Danny Rimer first invested in Figma...   \n",
       "\n",
       "                                                     link            Datetime  \\\n",
       "ticker                                                                          \n",
       "A       https://finance.yahoo.com/news/why-agilent-tec... 2022-09-16 13:30:01   \n",
       "A       https://finance.yahoo.com/news/agilent-down-6-... 2022-09-15 15:30:03   \n",
       "A       https://finance.yahoo.com/news/agilent-earns-g... 2022-09-14 17:48:00   \n",
       "A       https://finance.yahoo.com/news/agilent-announc... 2022-09-12 12:00:00   \n",
       "A       https://finance.yahoo.com/news/fortune-ranks-a... 2022-09-08 16:32:00   \n",
       "...                                                   ...                 ...   \n",
       "ADBE    https://finance.yahoo.com/news/p-500-slips-fed... 2022-09-16 14:39:17   \n",
       "ADBE    https://finance.yahoo.com/m/90472713-0241-3182... 2022-09-16 14:17:38   \n",
       "ADBE    https://finance.yahoo.com/video/fedex-profit-w... 2022-09-16 13:57:33   \n",
       "ADBE    https://finance.yahoo.com/news/company-news-se... 2022-09-16 13:40:01   \n",
       "ADBE    https://finance.yahoo.com/news/figma-record-br... 2022-09-16 13:38:53   \n",
       "\n",
       "        sentiment  \n",
       "ticker             \n",
       "A             1.0  \n",
       "A             1.0  \n",
       "A             1.0  \n",
       "A             1.0  \n",
       "A             1.0  \n",
       "...           ...  \n",
       "ADBE          1.0  \n",
       "ADBE          0.0  \n",
       "ADBE          0.0  \n",
       "ADBE          0.0  \n",
       "ADBE          0.0  \n",
       "\n",
       "[200 rows x 5 columns]"
      ]
     },
     "execution_count": 8,
     "metadata": {},
     "output_type": "execute_result"
    }
   ],
   "source": [
    "# ingesting dummy (A MUST)\n",
    "import os\n",
    "import datetime\n",
    "import pandas as pd\n",
    "import mlrun.feature_store as fstore\n",
    "# because were ingesting locally, code must be present !\n",
    "from src.news import *\n",
    "\n",
    "name = os.environ['V3IO_USERNAME']\n",
    "now = datetime.datetime.now().strftime('%Y-%m-%d %H:%M:%S')\n",
    "\n",
    "fstore.ingest(news_set,\n",
    "              pd.DataFrame({'ticker':[name],\n",
    "                            'Datetime': now,\n",
    "                            'n_stocks':NUMBER_OF_STOCKS}),\n",
    "              overwrite=True)"
   ]
  },
  {
   "cell_type": "code",
   "execution_count": 9,
   "id": "345f4420",
   "metadata": {},
   "outputs": [
    {
     "name": "stdout",
     "output_type": "stream",
     "text": [
      "> 2022-09-19 08:35:58,388 [info] Starting remote function deploy\n",
      "2022-09-19 08:35:58  (info) Deploying function\n",
      "2022-09-19 08:35:58  (info) Building\n",
      "2022-09-19 08:35:58  (info) Staging files and preparing base images\n",
      "2022-09-19 08:35:58  (info) Building processor image\n",
      "2022-09-19 08:37:13  (info) Build complete\n",
      "2022-09-19 08:38:13  (info) Function deploy complete\n",
      "> 2022-09-19 08:38:14,209 [info] successfully deployed function: {'internal_invocation_urls': ['nuclio-stocks-dani-get-news.default-tenant.svc.cluster.local:8080'], 'external_invocation_urls': ['stocks-dani-get-news-stocks-dani.default-tenant.app.vmdev93.lab.iguazeng.com/']}\n"
     ]
    }
   ],
   "source": [
    "# Deploying ingestion service\n",
    "# Define the HTTP Source to_dictable the HTTP trigger on our function and expose the endpoint.\n",
    "# There is an option to declare key and timestamp inside the http source (here we dont send data through the http hence not needed)\n",
    "http_source = mlrun.datastore.sources.HttpSource()\n",
    "news_set.spec.source = http_source\n",
    "\n",
    "# code_to_function our mlrun wrapped function to deploy the ingestion pipeline on.\n",
    "# the serving runtimes enables the deployment of our feature set's computational graph\n",
    "function = mlrun.code_to_function(name='get_news',kind='serving',image='mlrun/mlrun', requirements=['yahoo_fin','graphviz'], filename='src/news.py')\n",
    "\n",
    "function.spec.readiness_timeout = 3600\n",
    "\n",
    "run_config = fstore.RunConfig(function=function, local=False).apply(mlrun.mount_v3io())\n",
    "\n",
    "# Deploying\n",
    "news_set_endpoint = fstore.deploy_ingestion_service(featureset=news_set, run_config=run_config)"
   ]
  },
  {
   "cell_type": "markdown",
   "id": "c50ae6e7",
   "metadata": {},
   "source": [
    "## Testing ingestion service"
   ]
  },
  {
   "cell_type": "code",
   "execution_count": 10,
   "id": "38c86375",
   "metadata": {},
   "outputs": [
    {
     "data": {
      "text/plain": [
       "'{\"id\": \"1b4674b6-064c-4c78-96d7-6147e11d95d6\"}'"
      ]
     },
     "execution_count": 10,
     "metadata": {},
     "output_type": "execute_result"
    }
   ],
   "source": [
    "import requests\n",
    "import json\n",
    "\n",
    "now = datetime.datetime.now().strftime('%Y-%m-%d %H:%M:%S')\n",
    "\n",
    "t = requests.post(news_set_endpoint,json={'ticker':['news'],\n",
    "                                                 'Datetime': now,\n",
    "                                                 'n_stocks':NUMBER_OF_STOCKS})\n",
    "t.text"
   ]
  },
  {
   "cell_type": "markdown",
   "id": "bfeb48c1",
   "metadata": {},
   "source": [
    "## Creating scheduled mlrun job to invoke our function every time delta"
   ]
  },
  {
   "cell_type": "code",
   "execution_count": 11,
   "id": "6b087af4",
   "metadata": {},
   "outputs": [
    {
     "name": "stdout",
     "output_type": "stream",
     "text": [
      "> 2022-09-19 08:38:14,397 [info] starting run ingestion-service-news-ingestion_service_invoker uid=4ae2748ff2844665b1ed4ca71eb8b2a1 DB=http://mlrun-api:8080\n",
      "> 2022-09-19 08:38:15,013 [info] task scheduled, {'schedule': '0 */1 * * *', 'project': 'stocks-dani', 'name': 'ingestion-service-news-ingestion_service_invoker'}\n"
     ]
    }
   ],
   "source": [
    "import datetime\n",
    "\n",
    "now = datetime.datetime.now().strftime('%Y-%m-%d %H:%M:%S')\n",
    "body = {'ticker':['news'],\n",
    "        'Datetime': now,\n",
    "        'n_stocks':4}\n",
    "\n",
    "# specifying '0 8 * * *' as schedule will trigger the function every day at 08:00 AM\n",
    "fn = mlrun.code_to_function(name='ingestion_service_news',kind='job',image='mlrun/mlrun',handler='ingestion_service_invoker', filename='src/invoker.py')\n",
    "fn.run(params={'endpoint':news_set_endpoint, 'body': body}, schedule='0 */1 * * *')"
   ]
  }
 ],
 "metadata": {
  "kernelspec": {
   "display_name": "Python [conda env:root] *",
   "language": "python",
   "name": "conda-root-py"
  },
  "language_info": {
   "codemirror_mode": {
    "name": "ipython",
    "version": 3
   },
   "file_extension": ".py",
   "mimetype": "text/x-python",
   "name": "python",
   "nbconvert_exporter": "python",
   "pygments_lexer": "ipython3",
   "version": "3.7.6"
  }
 },
 "nbformat": 4,
 "nbformat_minor": 5
}
