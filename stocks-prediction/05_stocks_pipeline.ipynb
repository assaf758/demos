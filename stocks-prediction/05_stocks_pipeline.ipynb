{
 "cells": [
  {
   "cell_type": "markdown",
   "id": "46889ff1",
   "metadata": {},
   "source": [
    "# Stocks demo pipeline"
   ]
  },
  {
   "cell_type": "markdown",
   "id": "51386ed8",
   "metadata": {},
   "source": [
    "## steps\n",
    "* [Run notebook ingest_stocks](01_ingest_news.ipynb)\n",
    "* [Run notebook ingest_news](02_ingest_stocks.ipynb)\n",
    "* [Create feature vector](#Create-feature-vector)\n",
    "* [Set up the project](#Set-up-the-project)\n",
    "* [Write and save workflow](#Write-and-save-workflow)\n",
    "* [Run the workflow](#Run-the-workflow)"
   ]
  },
  {
   "cell_type": "code",
   "execution_count": 1,
   "id": "ced6ddf4",
   "metadata": {},
   "outputs": [
    {
     "name": "stdout",
     "output_type": "stream",
     "text": [
      "> 2023-05-28 14:34:16,320 [info] loaded project stocks from MLRun DB\n"
     ]
    }
   ],
   "source": [
    "import mlrun\n",
    "project = mlrun.get_or_create_project(name='stocks',user_project=True, context=\"./\")"
   ]
  },
  {
   "cell_type": "markdown",
   "id": "39215acd",
   "metadata": {},
   "source": [
    "# Create feature vector"
   ]
  },
  {
   "cell_type": "code",
   "execution_count": 2,
   "id": "9f7c7ca9",
   "metadata": {},
   "outputs": [],
   "source": [
    "# Define the list of features we will be using\n",
    "features = ['stocks.*',\n",
    "            'news.sentiment',\n",
    "            ]\n",
    "\n",
    "# Import MLRun's Feature Store\n",
    "import mlrun.feature_store as fstore\n",
    "\n",
    "# Define the feature vector name for future reference\n",
    "fv_name = 'stocks'\n",
    "\n",
    "# Define the feature vector using our Feature Store (fstore)\n",
    "transactions_fv = fstore.FeatureVector(fv_name, \n",
    "                          features, \n",
    "                          description='stocks information')\n",
    "\n",
    "# Save the feature vector in the Feature Store\n",
    "transactions_fv.save()"
   ]
  },
  {
   "cell_type": "code",
   "execution_count": 3,
   "id": "2d75b459",
   "metadata": {},
   "outputs": [
    {
     "data": {
      "text/html": [
       "<div>\n",
       "<style scoped>\n",
       "    .dataframe tbody tr th:only-of-type {\n",
       "        vertical-align: middle;\n",
       "    }\n",
       "\n",
       "    .dataframe tbody tr th {\n",
       "        vertical-align: top;\n",
       "    }\n",
       "\n",
       "    .dataframe thead th {\n",
       "        text-align: right;\n",
       "    }\n",
       "</style>\n",
       "<table border=\"1\" class=\"dataframe\">\n",
       "  <thead>\n",
       "    <tr style=\"text-align: right;\">\n",
       "      <th></th>\n",
       "      <th>Open</th>\n",
       "      <th>High</th>\n",
       "      <th>Low</th>\n",
       "      <th>Close</th>\n",
       "      <th>Volume</th>\n",
       "      <th>ticker2onehot_A</th>\n",
       "      <th>ticker2onehot_AAL</th>\n",
       "      <th>ticker2onehot_AAP</th>\n",
       "      <th>ticker2onehot_AAPL</th>\n",
       "      <th>ticker2onehot_ABBV</th>\n",
       "      <th>ticker2onehot_ABC</th>\n",
       "      <th>ticker2onehot_ABT</th>\n",
       "      <th>ticker2onehot_ACGL</th>\n",
       "      <th>ticker2onehot_ACN</th>\n",
       "      <th>ticker2onehot_ADBE</th>\n",
       "      <th>sentiment</th>\n",
       "    </tr>\n",
       "  </thead>\n",
       "  <tbody>\n",
       "    <tr>\n",
       "      <th>0</th>\n",
       "      <td>134.179993</td>\n",
       "      <td>134.225006</td>\n",
       "      <td>133.929993</td>\n",
       "      <td>134.014999</td>\n",
       "      <td>8963</td>\n",
       "      <td>1</td>\n",
       "      <td>0</td>\n",
       "      <td>0</td>\n",
       "      <td>0</td>\n",
       "      <td>0</td>\n",
       "      <td>0</td>\n",
       "      <td>0</td>\n",
       "      <td>0</td>\n",
       "      <td>0</td>\n",
       "      <td>0</td>\n",
       "      <td>NaN</td>\n",
       "    </tr>\n",
       "    <tr>\n",
       "      <th>1</th>\n",
       "      <td>98.820000</td>\n",
       "      <td>98.839996</td>\n",
       "      <td>98.760002</td>\n",
       "      <td>98.790001</td>\n",
       "      <td>32972</td>\n",
       "      <td>0</td>\n",
       "      <td>0</td>\n",
       "      <td>0</td>\n",
       "      <td>0</td>\n",
       "      <td>0</td>\n",
       "      <td>0</td>\n",
       "      <td>1</td>\n",
       "      <td>0</td>\n",
       "      <td>0</td>\n",
       "      <td>0</td>\n",
       "      <td>NaN</td>\n",
       "    </tr>\n",
       "    <tr>\n",
       "      <th>2</th>\n",
       "      <td>67.540001</td>\n",
       "      <td>67.550003</td>\n",
       "      <td>67.445000</td>\n",
       "      <td>67.480003</td>\n",
       "      <td>11353</td>\n",
       "      <td>0</td>\n",
       "      <td>0</td>\n",
       "      <td>0</td>\n",
       "      <td>0</td>\n",
       "      <td>0</td>\n",
       "      <td>0</td>\n",
       "      <td>0</td>\n",
       "      <td>1</td>\n",
       "      <td>0</td>\n",
       "      <td>0</td>\n",
       "      <td>NaN</td>\n",
       "    </tr>\n",
       "    <tr>\n",
       "      <th>3</th>\n",
       "      <td>14.580000</td>\n",
       "      <td>14.590000</td>\n",
       "      <td>14.550000</td>\n",
       "      <td>14.560000</td>\n",
       "      <td>100621</td>\n",
       "      <td>0</td>\n",
       "      <td>1</td>\n",
       "      <td>0</td>\n",
       "      <td>0</td>\n",
       "      <td>0</td>\n",
       "      <td>0</td>\n",
       "      <td>0</td>\n",
       "      <td>0</td>\n",
       "      <td>0</td>\n",
       "      <td>0</td>\n",
       "      <td>NaN</td>\n",
       "    </tr>\n",
       "    <tr>\n",
       "      <th>4</th>\n",
       "      <td>158.815002</td>\n",
       "      <td>158.865005</td>\n",
       "      <td>158.654999</td>\n",
       "      <td>158.654999</td>\n",
       "      <td>6280</td>\n",
       "      <td>0</td>\n",
       "      <td>0</td>\n",
       "      <td>0</td>\n",
       "      <td>0</td>\n",
       "      <td>0</td>\n",
       "      <td>1</td>\n",
       "      <td>0</td>\n",
       "      <td>0</td>\n",
       "      <td>0</td>\n",
       "      <td>0</td>\n",
       "      <td>NaN</td>\n",
       "    </tr>\n",
       "  </tbody>\n",
       "</table>\n",
       "</div>"
      ],
      "text/plain": [
       "         Open        High         Low       Close  Volume  ticker2onehot_A  \\\n",
       "0  134.179993  134.225006  133.929993  134.014999    8963                1   \n",
       "1   98.820000   98.839996   98.760002   98.790001   32972                0   \n",
       "2   67.540001   67.550003   67.445000   67.480003   11353                0   \n",
       "3   14.580000   14.590000   14.550000   14.560000  100621                0   \n",
       "4  158.815002  158.865005  158.654999  158.654999    6280                0   \n",
       "\n",
       "   ticker2onehot_AAL  ticker2onehot_AAP  ticker2onehot_AAPL  \\\n",
       "0                  0                  0                   0   \n",
       "1                  0                  0                   0   \n",
       "2                  0                  0                   0   \n",
       "3                  1                  0                   0   \n",
       "4                  0                  0                   0   \n",
       "\n",
       "   ticker2onehot_ABBV  ticker2onehot_ABC  ticker2onehot_ABT  \\\n",
       "0                   0                  0                  0   \n",
       "1                   0                  0                  1   \n",
       "2                   0                  0                  0   \n",
       "3                   0                  0                  0   \n",
       "4                   0                  1                  0   \n",
       "\n",
       "   ticker2onehot_ACGL  ticker2onehot_ACN  ticker2onehot_ADBE  sentiment  \n",
       "0                   0                  0                   0        NaN  \n",
       "1                   0                  0                   0        NaN  \n",
       "2                   1                  0                   0        NaN  \n",
       "3                   0                  0                   0        NaN  \n",
       "4                   0                  0                   0        NaN  "
      ]
     },
     "execution_count": 3,
     "metadata": {},
     "output_type": "execute_result"
    }
   ],
   "source": [
    "# Get offline feature vector as dataframe and save the dataset to parquet\n",
    "import datetime\n",
    "start_time = datetime.datetime.now()-datetime.timedelta(59)\n",
    "end_time = end_time = datetime.datetime.now()-datetime.timedelta(0)\n",
    "fv_data = fstore.get_offline_features(fv_name,start_time=start_time,end_time=end_time, entity_timestamp_column = 'Datetime')\n",
    "fv_data.to_dataframe().head()"
   ]
  },
  {
   "cell_type": "markdown",
   "id": "c3dd17e5",
   "metadata": {},
   "source": [
    "## Set up the project"
   ]
  },
  {
   "cell_type": "code",
   "execution_count": 4,
   "id": "9f159565",
   "metadata": {},
   "outputs": [
    {
     "data": {
      "text/plain": [
       "<mlrun.runtimes.serving.ServingRuntime at 0x7f352e48ab90>"
      ]
     },
     "execution_count": 4,
     "metadata": {},
     "output_type": "execute_result"
    }
   ],
   "source": [
    "import os\n",
    "\n",
    "# getting our model training function\n",
    "project.set_function('./src/train_stocks.py',\n",
    "                     name='train_stocks', kind='job', image='mlrun/ml-models')\n",
    "\n",
    "\n",
    "project.set_function('./src/serving_stocks.py',\n",
    "                     name='serving_stocks', kind='serving', image='mlrun/ml-models')"
   ]
  },
  {
   "cell_type": "markdown",
   "id": "3bae13a2",
   "metadata": {},
   "source": [
    "## Write and save workflow"
   ]
  },
  {
   "cell_type": "code",
   "execution_count": 5,
   "id": "ffb42b64",
   "metadata": {},
   "outputs": [
    {
     "name": "stdout",
     "output_type": "stream",
     "text": [
      "Overwriting src/workflow.py\n"
     ]
    }
   ],
   "source": [
    "%%writefile src/workflow.py\n",
    "import mlrun\n",
    "from kfp import dsl\n",
    "\n",
    "@dsl.pipeline(\n",
    "    name=\"Stocks Prediction Pipeline\",\n",
    "    description=\"predicting stock prices using yahoo api with sentiment analysis\"\n",
    ")\n",
    "\n",
    "def kfpipeline(vector_name:str,\n",
    "               seq_size:int = 5,\n",
    "               batch_size:int = 1,\n",
    "               hidden_dim:int = 2,\n",
    "               n_layers:int = 1,\n",
    "               epochs:int = 3,\n",
    "               start_time:int = 59,\n",
    "               end_time:int = 0,\n",
    "               model_filepath = './'\n",
    "               ):\n",
    "    \n",
    "    project = mlrun.get_current_project()\n",
    "    \n",
    "    train_stocks = project.get_function('train_stocks').apply(mlrun.auto_mount())\n",
    "\n",
    "    train_stocks_run = mlrun.run_function(name='train_stocks',\n",
    "                                          function='train_stocks',\n",
    "                                          handler='handler',\n",
    "                                          params={'context':context,\n",
    "                                                  'hidden_dim':hidden_dim,\n",
    "                                                  'n_layers':n_layers,\n",
    "                                                  'epochs':epochs, \n",
    "                                                  'vector_name':vector_name,\n",
    "                                                  'seq_size':seq_size,\n",
    "                                                  'start_time':start_time,\n",
    "                                                  'end_time':end_time,\n",
    "                                                  'batch_size':batch_size,\n",
    "                                                  'model_filepath':model_filepath},\n",
    "                                          outputs=[\"model\"])\n",
    "    \n",
    "    \n",
    "    # deploying serving function\n",
    "    serving_function = project.get_function(\"serving_stocks\")\n",
    "    # Mount it:\n",
    "    serving_function.apply(mlrun.mount_v3io())\n",
    "    # Set the topology and get the graph object:\n",
    "    graph = serving_function.set_topology(\"flow\", engine=\"async\")\n",
    "    # Build the serving graph:\n",
    "    graph.to(handler='preprocess', name='reading_data')\\\n",
    "         .to(class_name=\"StocksModel\", model_name='stocks_model', model_path=str(train_stocks_run.outputs['model']))\\\n",
    "         .to(handler='postprocess',name='postprocess').respond()\n",
    "         \n",
    "    \n",
    "    # Set the desired requirements:\n",
    "    serving_function.with_requirements(requirements=['yfinance','yahoo_fin'])\n",
    "    # Deploy the serving function:\n",
    "    mlrun.deploy_function(\"serving_stocks\")"
   ]
  },
  {
   "cell_type": "code",
   "execution_count": 6,
   "id": "0e025c04",
   "metadata": {},
   "outputs": [],
   "source": [
    "import os\n",
    "\n",
    "# get source help function\n",
    "def get_source_path():\n",
    "    cwd = os.getcwd()\n",
    "    user_name = os.environ['V3IO_USERNAME']\n",
    "    source_path = cwd.replace('/User','v3io:///users')+'/'+user_name +'/project.tar.gz'\n",
    "    return source_path"
   ]
  },
  {
   "cell_type": "code",
   "execution_count": 7,
   "id": "6503aa07",
   "metadata": {},
   "outputs": [
    {
     "data": {
      "text/plain": [
       "<mlrun.projects.project.MlrunProject at 0x7f352e4e0210>"
      ]
     },
     "execution_count": 7,
     "metadata": {},
     "output_type": "execute_result"
    }
   ],
   "source": [
    "import shutil\n",
    "\n",
    "shutil.make_archive('project','gztar','./')\n",
    "source_path = get_source_path()\n",
    "\n",
    "project.set_source(source_path,pull_at_runtime=True)\n",
    "\n",
    "# Register the workflow file:\n",
    "workflow_name = \"stocks-workflow\"\n",
    "project.set_workflow(workflow_name, \"src/workflow.py\",schedule='0 0 * * */1')\n",
    "\n",
    "project.save()"
   ]
  },
  {
   "cell_type": "markdown",
   "id": "fa552d13",
   "metadata": {},
   "source": [
    "## Run the workflow"
   ]
  },
  {
   "cell_type": "code",
   "execution_count": 8,
   "id": "1233ca2e",
   "metadata": {},
   "outputs": [
    {
     "name": "stdout",
     "output_type": "stream",
     "text": [
      "> 2023-05-28 14:34:44,289 [info] executing workflow scheduling 'workflow-runner-workflow2' remotely with kfp engine\n",
      "> 2023-05-28 14:34:44,296 [info] Storing function: {'name': 'workflow2', 'uid': 'cc767a810d5841dbba36718d54aabdea', 'db': 'http://mlrun-api:8080'}\n",
      "> 2023-05-28 14:34:44,640 [info] task schedule created: {'schedule': '0 0 * * */1', 'project': 'stocks-avia', 'name': 'workflow2'}\n"
     ]
    }
   ],
   "source": [
    "project.run(name=workflow_name,\n",
    "            arguments={\n",
    "                \"vector_name\":\"stocks\",\n",
    "                \"seq_size\": 5,\n",
    "                \"batch_size\": 1,\n",
    "                \"hidden_dim\": 2,\n",
    "                \"n_layers\": 1,\n",
    "                \"epochs\": 3,\n",
    "                \"start_time\":59,\n",
    "                \"end_time\":0,\n",
    "                \"model_filepath\":'./'},\n",
    "            watch=True,schedule=True)"
   ]
  }
 ],
 "metadata": {
  "kernelspec": {
   "display_name": "Python 3 (ipykernel)",
   "language": "python",
   "name": "python3"
  },
  "language_info": {
   "codemirror_mode": {
    "name": "ipython",
    "version": 3
   },
   "file_extension": ".py",
   "mimetype": "text/x-python",
   "name": "python",
   "nbconvert_exporter": "python",
   "pygments_lexer": "ipython3",
   "version": "3.7.6"
  }
 },
 "nbformat": 4,
 "nbformat_minor": 5
}
