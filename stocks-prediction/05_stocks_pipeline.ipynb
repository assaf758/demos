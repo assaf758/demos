{
 "cells": [
  {
   "cell_type": "markdown",
   "id": "f27df0a5",
   "metadata": {},
   "source": [
    "# Stocks demo pipeline"
   ]
  },
  {
   "cell_type": "markdown",
   "id": "3bfd9fc2",
   "metadata": {},
   "source": [
    "## steps\n",
    "* [Run notebook ingest_stocks](01_ingest_news.ipynb)\n",
    "* [Run notebook ingest_news](02_ingest_stocks.ipynb)\n",
    "* [Create feature vector](#Create-feature-vector)\n",
    "* [Set up the project](#Set-up-the-project)\n",
    "* [Write and save workflow](#Write-and-save-workflow)\n",
    "* [Run the workflow](#Run-the-workflow)"
   ]
  },
  {
   "cell_type": "code",
   "execution_count": 1,
   "id": "379ad1ed",
   "metadata": {},
   "outputs": [],
   "source": [
    "# !/User/align_mlrun.sh"
   ]
  },
  {
   "cell_type": "code",
   "execution_count": 2,
   "id": "cfd649bc",
   "metadata": {},
   "outputs": [
    {
     "name": "stdout",
     "output_type": "stream",
     "text": [
      "> 2022-09-07 13:41:16,398 [info] loaded project stocks from MLRun DB\n"
     ]
    }
   ],
   "source": [
    "import mlrun\n",
    "project = mlrun.get_or_create_project(name='stocks',user_project=True, context=\"src/\")"
   ]
  },
  {
   "cell_type": "markdown",
   "id": "164fe4bf",
   "metadata": {},
   "source": [
    "# Create feature vector"
   ]
  },
  {
   "cell_type": "code",
   "execution_count": 3,
   "id": "bec85e6c",
   "metadata": {},
   "outputs": [],
   "source": [
    "# Define the list of features we will be using\n",
    "features = ['stocks.*',\n",
    "            'news.sentiment',\n",
    "            ]\n",
    "\n",
    "# Import MLRun's Feature Store\n",
    "import mlrun.feature_store as fstore\n",
    "\n",
    "# Define the feature vector name for future reference\n",
    "fv_name = 'stocks'\n",
    "\n",
    "# Define the feature vector using our Feature Store (fstore)\n",
    "transactions_fv = fstore.FeatureVector(fv_name, \n",
    "                          features, \n",
    "                          description='stocks information')\n",
    "\n",
    "# Save the feature vector in the Feature Store\n",
    "transactions_fv.save()"
   ]
  },
  {
   "cell_type": "code",
   "execution_count": 4,
   "id": "a80d0e11",
   "metadata": {},
   "outputs": [
    {
     "data": {
      "text/html": [
       "<div>\n",
       "<style scoped>\n",
       "    .dataframe tbody tr th:only-of-type {\n",
       "        vertical-align: middle;\n",
       "    }\n",
       "\n",
       "    .dataframe tbody tr th {\n",
       "        vertical-align: top;\n",
       "    }\n",
       "\n",
       "    .dataframe thead th {\n",
       "        text-align: right;\n",
       "    }\n",
       "</style>\n",
       "<table border=\"1\" class=\"dataframe\">\n",
       "  <thead>\n",
       "    <tr style=\"text-align: right;\">\n",
       "      <th></th>\n",
       "      <th>Open</th>\n",
       "      <th>High</th>\n",
       "      <th>Low</th>\n",
       "      <th>Close</th>\n",
       "      <th>Volume</th>\n",
       "      <th>ticker2onehot_A</th>\n",
       "      <th>ticker2onehot_AAL</th>\n",
       "      <th>ticker2onehot_AAP</th>\n",
       "      <th>ticker2onehot_AAPL</th>\n",
       "      <th>ticker2onehot_ABBV</th>\n",
       "      <th>ticker2onehot_ABC</th>\n",
       "      <th>ticker2onehot_ABMD</th>\n",
       "      <th>ticker2onehot_ABT</th>\n",
       "      <th>ticker2onehot_ACN</th>\n",
       "      <th>ticker2onehot_ADBE</th>\n",
       "      <th>sentiment</th>\n",
       "    </tr>\n",
       "  </thead>\n",
       "  <tbody>\n",
       "    <tr>\n",
       "      <th>0</th>\n",
       "      <td>263.880005</td>\n",
       "      <td>265.320007</td>\n",
       "      <td>263.880005</td>\n",
       "      <td>265.250000</td>\n",
       "      <td>6949</td>\n",
       "      <td>0</td>\n",
       "      <td>0</td>\n",
       "      <td>0</td>\n",
       "      <td>0</td>\n",
       "      <td>0</td>\n",
       "      <td>0</td>\n",
       "      <td>1</td>\n",
       "      <td>0</td>\n",
       "      <td>0</td>\n",
       "      <td>0</td>\n",
       "      <td>NaN</td>\n",
       "    </tr>\n",
       "    <tr>\n",
       "      <th>1</th>\n",
       "      <td>182.899994</td>\n",
       "      <td>183.619995</td>\n",
       "      <td>182.335999</td>\n",
       "      <td>183.619995</td>\n",
       "      <td>10228</td>\n",
       "      <td>0</td>\n",
       "      <td>0</td>\n",
       "      <td>1</td>\n",
       "      <td>0</td>\n",
       "      <td>0</td>\n",
       "      <td>0</td>\n",
       "      <td>0</td>\n",
       "      <td>0</td>\n",
       "      <td>0</td>\n",
       "      <td>0</td>\n",
       "      <td>NaN</td>\n",
       "    </tr>\n",
       "    <tr>\n",
       "      <th>2</th>\n",
       "      <td>145.669998</td>\n",
       "      <td>145.850006</td>\n",
       "      <td>145.130005</td>\n",
       "      <td>145.419998</td>\n",
       "      <td>2896147</td>\n",
       "      <td>0</td>\n",
       "      <td>0</td>\n",
       "      <td>0</td>\n",
       "      <td>1</td>\n",
       "      <td>0</td>\n",
       "      <td>0</td>\n",
       "      <td>0</td>\n",
       "      <td>0</td>\n",
       "      <td>0</td>\n",
       "      <td>0</td>\n",
       "      <td>NaN</td>\n",
       "    </tr>\n",
       "    <tr>\n",
       "      <th>3</th>\n",
       "      <td>386.570007</td>\n",
       "      <td>387.765015</td>\n",
       "      <td>385.130005</td>\n",
       "      <td>386.730011</td>\n",
       "      <td>44939</td>\n",
       "      <td>0</td>\n",
       "      <td>0</td>\n",
       "      <td>0</td>\n",
       "      <td>0</td>\n",
       "      <td>0</td>\n",
       "      <td>0</td>\n",
       "      <td>0</td>\n",
       "      <td>0</td>\n",
       "      <td>0</td>\n",
       "      <td>1</td>\n",
       "      <td>NaN</td>\n",
       "    </tr>\n",
       "    <tr>\n",
       "      <th>4</th>\n",
       "      <td>108.599998</td>\n",
       "      <td>108.989998</td>\n",
       "      <td>108.599998</td>\n",
       "      <td>108.849998</td>\n",
       "      <td>125892</td>\n",
       "      <td>0</td>\n",
       "      <td>0</td>\n",
       "      <td>0</td>\n",
       "      <td>0</td>\n",
       "      <td>0</td>\n",
       "      <td>0</td>\n",
       "      <td>0</td>\n",
       "      <td>1</td>\n",
       "      <td>0</td>\n",
       "      <td>0</td>\n",
       "      <td>NaN</td>\n",
       "    </tr>\n",
       "  </tbody>\n",
       "</table>\n",
       "</div>"
      ],
      "text/plain": [
       "         Open        High         Low       Close   Volume  ticker2onehot_A  \\\n",
       "0  263.880005  265.320007  263.880005  265.250000     6949                0   \n",
       "1  182.899994  183.619995  182.335999  183.619995    10228                0   \n",
       "2  145.669998  145.850006  145.130005  145.419998  2896147                0   \n",
       "3  386.570007  387.765015  385.130005  386.730011    44939                0   \n",
       "4  108.599998  108.989998  108.599998  108.849998   125892                0   \n",
       "\n",
       "   ticker2onehot_AAL  ticker2onehot_AAP  ticker2onehot_AAPL  \\\n",
       "0                  0                  0                   0   \n",
       "1                  0                  1                   0   \n",
       "2                  0                  0                   1   \n",
       "3                  0                  0                   0   \n",
       "4                  0                  0                   0   \n",
       "\n",
       "   ticker2onehot_ABBV  ticker2onehot_ABC  ticker2onehot_ABMD  \\\n",
       "0                   0                  0                   1   \n",
       "1                   0                  0                   0   \n",
       "2                   0                  0                   0   \n",
       "3                   0                  0                   0   \n",
       "4                   0                  0                   0   \n",
       "\n",
       "   ticker2onehot_ABT  ticker2onehot_ACN  ticker2onehot_ADBE  sentiment  \n",
       "0                  0                  0                   0        NaN  \n",
       "1                  0                  0                   0        NaN  \n",
       "2                  0                  0                   0        NaN  \n",
       "3                  0                  0                   1        NaN  \n",
       "4                  1                  0                   0        NaN  "
      ]
     },
     "execution_count": 4,
     "metadata": {},
     "output_type": "execute_result"
    }
   ],
   "source": [
    "# Get offline feature vector as dataframe and save the dataset to parquet\n",
    "import datetime\n",
    "start_time = datetime.datetime.now()-datetime.timedelta(59)\n",
    "end_time = end_time = datetime.datetime.now()-datetime.timedelta(0)\n",
    "fv_data = fstore.get_offline_features(fv_name,start_time=start_time,end_time=end_time, entity_timestamp_column = 'Datetime')\n",
    "fv_data.to_dataframe().head()"
   ]
  },
  {
   "cell_type": "markdown",
   "id": "e463e360",
   "metadata": {},
   "source": [
    "## Set up the project"
   ]
  },
  {
   "cell_type": "code",
   "execution_count": 5,
   "id": "1c7b6809",
   "metadata": {},
   "outputs": [
    {
     "data": {
      "text/plain": [
       "<mlrun.runtimes.kubejob.KubejobRuntime at 0x7fa565160d90>"
      ]
     },
     "execution_count": 5,
     "metadata": {},
     "output_type": "execute_result"
    }
   ],
   "source": [
    "import os\n",
    "\n",
    "# getting our model training function\n",
    "project.set_function(os.path.join(os.getcwd(),'src','train_stocks.py'),\n",
    "                     name='train_stocks', kind='job', image='mlrun/ml-models')\n",
    "\n",
    "project.set_function(os.path.join(os.getcwd(),'src','serving_stocks.py'),\n",
    "                     name='serving_stocks', kind='serving', image='mlrun/ml-models')\n",
    "\n",
    "project.set_function(os.path.join(os.getcwd(),'src','invoker.py'),\n",
    "                     name='serving_invoker', kind='job', image='mlrun/ml-models')"
   ]
  },
  {
   "cell_type": "markdown",
   "id": "05c9552d",
   "metadata": {},
   "source": [
    "## Write and save workflow"
   ]
  },
  {
   "cell_type": "code",
   "execution_count": 6,
   "id": "d8e5c229",
   "metadata": {},
   "outputs": [
    {
     "name": "stdout",
     "output_type": "stream",
     "text": [
      "Overwriting src/workflow.py\n"
     ]
    }
   ],
   "source": [
    "%%writefile src/workflow.py\n",
    "import mlrun\n",
    "from kfp import dsl\n",
    "\n",
    "@dsl.pipeline(\n",
    "    name=\"Stocks Prediction Pipeline\",\n",
    "    description=\"predicting stock prices using yahoo api with sentiment analysis\"\n",
    ")\n",
    "\n",
    "def kfpipeline(vector_name:str,\n",
    "               seq_size:int = 5,\n",
    "               batch_size:int = 1,\n",
    "               hidden_dim:int = 2,\n",
    "               n_layers:int = 1,\n",
    "               epochs:int = 3,\n",
    "               start_time:int = 59,\n",
    "               end_time:int = 0,\n",
    "               model_filepath = './'\n",
    "               ):\n",
    "    \n",
    "    project = mlrun.get_current_project()\n",
    "    \n",
    "    train_stocks = project.get_function('train_stocks').apply(mlrun.auto_mount())\n",
    "\n",
    "    train_stocks_run = mlrun.run_function(name='train_stocks',\n",
    "                                          function='train_stocks',\n",
    "                                          handler='handler',\n",
    "                                          params={'context':context,\n",
    "                                                  'hidden_dim':hidden_dim,\n",
    "                                                  'n_layers':n_layers,\n",
    "                                                  'epochs':epochs, \n",
    "                                                  'vector_name':vector_name,\n",
    "                                                  'seq_size':seq_size,\n",
    "                                                  'start_time':start_time,\n",
    "                                                  'end_time':end_time,\n",
    "                                                  'batch_size':batch_size,\n",
    "                                                  'model_filepath':model_filepath},\n",
    "                                          outputs=[\"model\"])\n",
    "    \n",
    "    \n",
    "    # deploying serving function\n",
    "    serving_function = project.get_function(\"serving_stocks\")\n",
    "    # Mount it:\n",
    "    serving_function.apply(mlrun.mount_v3io())\n",
    "    # Set the topology and get the graph object:\n",
    "    graph = serving_function.set_topology(\"flow\", engine=\"async\")\n",
    "    # Build the serving graph:\n",
    "    graph.to(handler='preprocess', name='reading_data')\\\n",
    "         .to(class_name=\"StocksModel\", model_name='stocks_model', model_path=str(train_stocks_run.outputs['model']))\\\n",
    "         .to(handler='postprocess',name='postprocess').respond()\n",
    "         \n",
    "    \n",
    "    # Set the desired requirements:\n",
    "    serving_function.with_requirements(requirements=['yfinance','yahoo_fin'])\n",
    "    # Deploy the serving function:\n",
    "    serving_deploy = mlrun.deploy_function(\"serving_stocks\")"
   ]
  },
  {
   "cell_type": "code",
   "execution_count": 7,
   "id": "3c0e9de8",
   "metadata": {},
   "outputs": [
    {
     "data": {
      "text/plain": [
       "<mlrun.projects.project.MlrunProject at 0x7fa56598da10>"
      ]
     },
     "execution_count": 7,
     "metadata": {},
     "output_type": "execute_result"
    }
   ],
   "source": [
    "# Register the workflow file:\n",
    "workflow_name = \"stocks_workflow\"\n",
    "project.set_workflow(workflow_name, \"workflow.py\")\n",
    "\n",
    "# Save the project:\n",
    "project.save()"
   ]
  },
  {
   "cell_type": "markdown",
   "id": "aebc3414",
   "metadata": {},
   "source": [
    "## Run the workflow"
   ]
  },
  {
   "cell_type": "code",
   "execution_count": 8,
   "id": "390b7a49",
   "metadata": {},
   "outputs": [
    {
     "data": {
      "text/html": [
       "<div>Pipeline running (id=bbaa6cd0-6890-4fff-97fb-61640d672b65), <a href=\"https://dashboard.default-tenant.app.vmdev94.lab.iguazeng.com/mlprojects/stocks-dani/jobs/monitor-workflows/workflow/bbaa6cd0-6890-4fff-97fb-61640d672b65\" target=\"_blank\"><b>click here</b></a> to view the details in MLRun UI</div>"
      ],
      "text/plain": [
       "<IPython.core.display.HTML object>"
      ]
     },
     "metadata": {},
     "output_type": "display_data"
    },
    {
     "data": {
      "image/svg+xml": [
       "<?xml version=\"1.0\" encoding=\"UTF-8\" standalone=\"no\"?>\n",
       "<!DOCTYPE svg PUBLIC \"-//W3C//DTD SVG 1.1//EN\"\n",
       " \"http://www.w3.org/Graphics/SVG/1.1/DTD/svg11.dtd\">\n",
       "<!-- Generated by graphviz version 2.40.1 (20161225.0304)\n",
       " -->\n",
       "<!-- Title: kfp Pages: 1 -->\n",
       "<svg width=\"181pt\" height=\"116pt\"\n",
       " viewBox=\"0.00 0.00 181.00 116.00\" xmlns=\"http://www.w3.org/2000/svg\" xmlns:xlink=\"http://www.w3.org/1999/xlink\">\n",
       "<g id=\"graph0\" class=\"graph\" transform=\"scale(1 1) rotate(0) translate(4 112)\">\n",
       "<title>kfp</title>\n",
       "<polygon fill=\"#ffffff\" stroke=\"transparent\" points=\"-4,4 -4,-112 177,-112 177,4 -4,4\"/>\n",
       "<!-- stocks&#45;prediction&#45;pipeline&#45;lhkz6&#45;1012324515 -->\n",
       "<g id=\"node1\" class=\"node\">\n",
       "<title>stocks&#45;prediction&#45;pipeline&#45;lhkz6&#45;1012324515</title>\n",
       "<ellipse fill=\"#00ff00\" stroke=\"#000000\" cx=\"86.5\" cy=\"-90\" rx=\"66.0889\" ry=\"18\"/>\n",
       "<text text-anchor=\"middle\" x=\"86.5\" y=\"-86.3\" font-family=\"Times,serif\" font-size=\"14.00\" fill=\"#000000\">train&#45;stocks</text>\n",
       "</g>\n",
       "<!-- stocks&#45;prediction&#45;pipeline&#45;lhkz6&#45;2666883037 -->\n",
       "<g id=\"node2\" class=\"node\">\n",
       "<title>stocks&#45;prediction&#45;pipeline&#45;lhkz6&#45;2666883037</title>\n",
       "<polygon fill=\"#00ff00\" stroke=\"#000000\" points=\"173,-36 4,-36 0,-32 0,0 169,0 173,-4 173,-36\"/>\n",
       "<polyline fill=\"none\" stroke=\"#000000\" points=\"169,-32 0,-32 \"/>\n",
       "<polyline fill=\"none\" stroke=\"#000000\" points=\"169,-32 169,0 \"/>\n",
       "<polyline fill=\"none\" stroke=\"#000000\" points=\"169,-32 173,-36 \"/>\n",
       "<text text-anchor=\"middle\" x=\"86.5\" y=\"-14.3\" font-family=\"Times,serif\" font-size=\"14.00\" fill=\"#000000\">deploy&#45;serving&#45;stocks</text>\n",
       "</g>\n",
       "<!-- stocks&#45;prediction&#45;pipeline&#45;lhkz6&#45;1012324515&#45;&gt;stocks&#45;prediction&#45;pipeline&#45;lhkz6&#45;2666883037 -->\n",
       "<g id=\"edge1\" class=\"edge\">\n",
       "<title>stocks&#45;prediction&#45;pipeline&#45;lhkz6&#45;1012324515&#45;&gt;stocks&#45;prediction&#45;pipeline&#45;lhkz6&#45;2666883037</title>\n",
       "<path fill=\"none\" stroke=\"#000000\" d=\"M86.5,-71.8314C86.5,-64.131 86.5,-54.9743 86.5,-46.4166\"/>\n",
       "<polygon fill=\"#000000\" stroke=\"#000000\" points=\"90.0001,-46.4132 86.5,-36.4133 83.0001,-46.4133 90.0001,-46.4132\"/>\n",
       "</g>\n",
       "</g>\n",
       "</svg>\n"
      ],
      "text/plain": [
       "<graphviz.dot.Digraph at 0x7fa5658a5f10>"
      ]
     },
     "metadata": {},
     "output_type": "display_data"
    },
    {
     "data": {
      "text/html": [
       "<h2>Run Results</h2>Workflow bbaa6cd0-6890-4fff-97fb-61640d672b65 finished, state=Succeeded<br>click the hyper links below to see detailed results<br><table border=\"1\" class=\"dataframe\">\n",
       "  <thead>\n",
       "    <tr style=\"text-align: right;\">\n",
       "      <th>uid</th>\n",
       "      <th>start</th>\n",
       "      <th>state</th>\n",
       "      <th>name</th>\n",
       "      <th>parameters</th>\n",
       "      <th>results</th>\n",
       "    </tr>\n",
       "  </thead>\n",
       "  <tbody>\n",
       "    <tr>\n",
       "      <td><div title=\"67242aa3659e474a96c581e563a2b2d7\"><a href=\"https://dashboard.default-tenant.app.vmdev94.lab.iguazeng.com/mlprojects/stocks-dani/jobs/monitor/67242aa3659e474a96c581e563a2b2d7/overview\" target=\"_blank\" >...63a2b2d7</a></div></td>\n",
       "      <td>Sep 07 13:41:36</td>\n",
       "      <td>completed</td>\n",
       "      <td>train_stocks</td>\n",
       "      <td><div class=\"dictlist\">context=<nuclio.request.Context object at 0x7fa56a577bd0></div><div class=\"dictlist\">hidden_dim=2</div><div class=\"dictlist\">n_layers=1</div><div class=\"dictlist\">epochs=5</div><div class=\"dictlist\">vector_name=stocks</div><div class=\"dictlist\">seq_size=5</div><div class=\"dictlist\">start_time=59</div><div class=\"dictlist\">end_time=0</div><div class=\"dictlist\">batch_size=1</div><div class=\"dictlist\">model_filepath=/User/test/demos/stocks-prediction/src</div></td>\n",
       "      <td><div class=\"dictlist\">context=<nuclio.request.Context object at 0x7fa56a577bd0></div><div class=\"dictlist\">hidden_dim=2</div><div class=\"dictlist\">n_layers=1</div><div class=\"dictlist\">epochs=5</div><div class=\"dictlist\">vector_name=stocks</div><div class=\"dictlist\">seq_size=5</div><div class=\"dictlist\">start_time=59</div><div class=\"dictlist\">end_time=0</div><div class=\"dictlist\">batch_size=1</div><div class=\"dictlist\">model_filepath=/User/test/demos/stocks-prediction/src</div><div class=\"dictlist\">lr=0.0001</div><div class=\"dictlist\">training_MSELoss=3.52742790710181e-05</div><div class=\"dictlist\">training_accuracy=0.9940607845783234</div><div class=\"dictlist\">validation_MSELoss=6.692235183436424e-05</div><div class=\"dictlist\">validation_accuracy=0.9916255474090576</div></td>\n",
       "    </tr>\n",
       "  </tbody>\n",
       "</table>"
      ],
      "text/plain": [
       "<IPython.core.display.HTML object>"
      ]
     },
     "metadata": {},
     "output_type": "display_data"
    },
    {
     "data": {
      "text/plain": [
       "bbaa6cd0-6890-4fff-97fb-61640d672b65"
      ]
     },
     "execution_count": 8,
     "metadata": {},
     "output_type": "execute_result"
    }
   ],
   "source": [
    "project.run(name=workflow_name,\n",
    "            arguments={\n",
    "                \"vector_name\":\"stocks\",\n",
    "                \"seq_size\": 5,\n",
    "                \"batch_size\": 1,\n",
    "                \"hidden_dim\": 2,\n",
    "                \"n_layers\": 1,\n",
    "                \"epochs\": 5,\n",
    "                \"start_time\":59,\n",
    "                \"end_time\":0,\n",
    "                \"model_filepath\":os.path.join(os.getcwd(),'src')},\n",
    "            watch=True)"
   ]
  }
 ],
 "metadata": {
  "kernelspec": {
   "display_name": "Python 3",
   "language": "python",
   "name": "python3"
  },
  "language_info": {
   "codemirror_mode": {
    "name": "ipython",
    "version": 3
   },
   "file_extension": ".py",
   "mimetype": "text/x-python",
   "name": "python",
   "nbconvert_exporter": "python",
   "pygments_lexer": "ipython3",
   "version": "3.7.6"
  }
 },
 "nbformat": 4,
 "nbformat_minor": 5
}
